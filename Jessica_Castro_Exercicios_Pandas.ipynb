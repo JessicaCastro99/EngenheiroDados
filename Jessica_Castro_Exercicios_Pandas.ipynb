{
  "nbformat": 4,
  "nbformat_minor": 0,
  "metadata": {
    "colab": {
      "provenance": [],
      "include_colab_link": true
    },
    "kernelspec": {
      "name": "python3",
      "display_name": "Python 3"
    },
    "language_info": {
      "name": "python"
    }
  },
  "cells": [
    {
      "cell_type": "markdown",
      "metadata": {
        "id": "view-in-github",
        "colab_type": "text"
      },
      "source": [
        "<a href=\"https://colab.research.google.com/github/JessicaCastro99/EngenheiroDados/blob/exercicios_python/Jessica_Castro_Exercicios_Pandas.ipynb\" target=\"_parent\"><img src=\"https://colab.research.google.com/assets/colab-badge.svg\" alt=\"Open In Colab\"/></a>"
      ]
    },
    {
      "cell_type": "code",
      "source": [
        "# Importando as bibliotecas\n",
        "\n",
        "import pandas as pd"
      ],
      "metadata": {
        "id": "Q1rWlHnTx_pm"
      },
      "execution_count": null,
      "outputs": []
    },
    {
      "cell_type": "code",
      "source": [
        "# Lendo arquivo\n",
        "\n",
        "tabela = pd.read_csv('https://drive.google.com/uc?export=download&id=1A8pS9Oeg2i2_gEC0o-J6bTuxfh6T2YNU')\n",
        "\n",
        "# visualizando a tabela\n",
        "display(tabela)"
      ],
      "metadata": {
        "id": "HWWvMB3f9HxF",
        "colab": {
          "base_uri": "https://localhost:8080/",
          "height": 423
        },
        "outputId": "3d9d3d06-0e03-477e-f31f-7b9d7782e54e"
      },
      "execution_count": null,
      "outputs": [
        {
          "output_type": "display_data",
          "data": {
            "text/plain": [
              "    ID_Venda        Produto    Categoria  Quantidade Vendida  Preço Unitário  \\\n",
              "0          1     Smartphone  Eletrônicos                   5            2056   \n",
              "1          2            SSD  Eletrônicos                  10            3506   \n",
              "2          3          Mouse  Eletrônicos                   9            1678   \n",
              "3          4        Monitor  Eletrônicos                   3            3512   \n",
              "4          5  Cadeira Gamer  Eletrônicos                   2            3162   \n",
              "..       ...            ...          ...                 ...             ...   \n",
              "95        96        Monitor       Móveis                   4            1038   \n",
              "96        97        Teclado   Acessórios                   4            4016   \n",
              "97        98            NaN       Móveis                   2            1640   \n",
              "98        99        Monitor  Eletrônicos                   9            1086   \n",
              "99       100            NaN   Acessórios                   8             890   \n",
              "\n",
              "    Valor da Venda     Método de Pagamento Status do Pedido  Cliente_ID  \\\n",
              "0          10280.0                     NaN         Entregue        1094   \n",
              "1          35060.0       Cartão de Crédito         Entregue        1011   \n",
              "2          15102.0  Transferência Bancária         Entregue        1057   \n",
              "3              NaN                     Pix     Em andamento        1019   \n",
              "4           6324.0                     NaN     Em andamento        1044   \n",
              "..             ...                     ...              ...         ...   \n",
              "95             NaN                  Boleto     Em andamento        1015   \n",
              "96         16064.0                     Pix        Cancelado        1075   \n",
              "97          3280.0                     Pix              NaN        1046   \n",
              "98             NaN                     Pix         Entregue        1006   \n",
              "99          7120.0       Cartão de Crédito        Cancelado        1036   \n",
              "\n",
              "   Data da Venda  \n",
              "0     2025-02-07  \n",
              "1     2024-12-10  \n",
              "2     2024-06-03  \n",
              "3     2024-12-11  \n",
              "4     2024-05-26  \n",
              "..           ...  \n",
              "95    2024-06-30  \n",
              "96    2024-07-06  \n",
              "97    2024-12-30  \n",
              "98    2024-06-21  \n",
              "99    2024-08-03  \n",
              "\n",
              "[100 rows x 10 columns]"
            ],
            "text/html": [
              "\n",
              "  <div id=\"df-ac6551bf-e095-4f44-a8cf-806251239cc1\" class=\"colab-df-container\">\n",
              "    <div>\n",
              "<style scoped>\n",
              "    .dataframe tbody tr th:only-of-type {\n",
              "        vertical-align: middle;\n",
              "    }\n",
              "\n",
              "    .dataframe tbody tr th {\n",
              "        vertical-align: top;\n",
              "    }\n",
              "\n",
              "    .dataframe thead th {\n",
              "        text-align: right;\n",
              "    }\n",
              "</style>\n",
              "<table border=\"1\" class=\"dataframe\">\n",
              "  <thead>\n",
              "    <tr style=\"text-align: right;\">\n",
              "      <th></th>\n",
              "      <th>ID_Venda</th>\n",
              "      <th>Produto</th>\n",
              "      <th>Categoria</th>\n",
              "      <th>Quantidade Vendida</th>\n",
              "      <th>Preço Unitário</th>\n",
              "      <th>Valor da Venda</th>\n",
              "      <th>Método de Pagamento</th>\n",
              "      <th>Status do Pedido</th>\n",
              "      <th>Cliente_ID</th>\n",
              "      <th>Data da Venda</th>\n",
              "    </tr>\n",
              "  </thead>\n",
              "  <tbody>\n",
              "    <tr>\n",
              "      <th>0</th>\n",
              "      <td>1</td>\n",
              "      <td>Smartphone</td>\n",
              "      <td>Eletrônicos</td>\n",
              "      <td>5</td>\n",
              "      <td>2056</td>\n",
              "      <td>10280.0</td>\n",
              "      <td>NaN</td>\n",
              "      <td>Entregue</td>\n",
              "      <td>1094</td>\n",
              "      <td>2025-02-07</td>\n",
              "    </tr>\n",
              "    <tr>\n",
              "      <th>1</th>\n",
              "      <td>2</td>\n",
              "      <td>SSD</td>\n",
              "      <td>Eletrônicos</td>\n",
              "      <td>10</td>\n",
              "      <td>3506</td>\n",
              "      <td>35060.0</td>\n",
              "      <td>Cartão de Crédito</td>\n",
              "      <td>Entregue</td>\n",
              "      <td>1011</td>\n",
              "      <td>2024-12-10</td>\n",
              "    </tr>\n",
              "    <tr>\n",
              "      <th>2</th>\n",
              "      <td>3</td>\n",
              "      <td>Mouse</td>\n",
              "      <td>Eletrônicos</td>\n",
              "      <td>9</td>\n",
              "      <td>1678</td>\n",
              "      <td>15102.0</td>\n",
              "      <td>Transferência Bancária</td>\n",
              "      <td>Entregue</td>\n",
              "      <td>1057</td>\n",
              "      <td>2024-06-03</td>\n",
              "    </tr>\n",
              "    <tr>\n",
              "      <th>3</th>\n",
              "      <td>4</td>\n",
              "      <td>Monitor</td>\n",
              "      <td>Eletrônicos</td>\n",
              "      <td>3</td>\n",
              "      <td>3512</td>\n",
              "      <td>NaN</td>\n",
              "      <td>Pix</td>\n",
              "      <td>Em andamento</td>\n",
              "      <td>1019</td>\n",
              "      <td>2024-12-11</td>\n",
              "    </tr>\n",
              "    <tr>\n",
              "      <th>4</th>\n",
              "      <td>5</td>\n",
              "      <td>Cadeira Gamer</td>\n",
              "      <td>Eletrônicos</td>\n",
              "      <td>2</td>\n",
              "      <td>3162</td>\n",
              "      <td>6324.0</td>\n",
              "      <td>NaN</td>\n",
              "      <td>Em andamento</td>\n",
              "      <td>1044</td>\n",
              "      <td>2024-05-26</td>\n",
              "    </tr>\n",
              "    <tr>\n",
              "      <th>...</th>\n",
              "      <td>...</td>\n",
              "      <td>...</td>\n",
              "      <td>...</td>\n",
              "      <td>...</td>\n",
              "      <td>...</td>\n",
              "      <td>...</td>\n",
              "      <td>...</td>\n",
              "      <td>...</td>\n",
              "      <td>...</td>\n",
              "      <td>...</td>\n",
              "    </tr>\n",
              "    <tr>\n",
              "      <th>95</th>\n",
              "      <td>96</td>\n",
              "      <td>Monitor</td>\n",
              "      <td>Móveis</td>\n",
              "      <td>4</td>\n",
              "      <td>1038</td>\n",
              "      <td>NaN</td>\n",
              "      <td>Boleto</td>\n",
              "      <td>Em andamento</td>\n",
              "      <td>1015</td>\n",
              "      <td>2024-06-30</td>\n",
              "    </tr>\n",
              "    <tr>\n",
              "      <th>96</th>\n",
              "      <td>97</td>\n",
              "      <td>Teclado</td>\n",
              "      <td>Acessórios</td>\n",
              "      <td>4</td>\n",
              "      <td>4016</td>\n",
              "      <td>16064.0</td>\n",
              "      <td>Pix</td>\n",
              "      <td>Cancelado</td>\n",
              "      <td>1075</td>\n",
              "      <td>2024-07-06</td>\n",
              "    </tr>\n",
              "    <tr>\n",
              "      <th>97</th>\n",
              "      <td>98</td>\n",
              "      <td>NaN</td>\n",
              "      <td>Móveis</td>\n",
              "      <td>2</td>\n",
              "      <td>1640</td>\n",
              "      <td>3280.0</td>\n",
              "      <td>Pix</td>\n",
              "      <td>NaN</td>\n",
              "      <td>1046</td>\n",
              "      <td>2024-12-30</td>\n",
              "    </tr>\n",
              "    <tr>\n",
              "      <th>98</th>\n",
              "      <td>99</td>\n",
              "      <td>Monitor</td>\n",
              "      <td>Eletrônicos</td>\n",
              "      <td>9</td>\n",
              "      <td>1086</td>\n",
              "      <td>NaN</td>\n",
              "      <td>Pix</td>\n",
              "      <td>Entregue</td>\n",
              "      <td>1006</td>\n",
              "      <td>2024-06-21</td>\n",
              "    </tr>\n",
              "    <tr>\n",
              "      <th>99</th>\n",
              "      <td>100</td>\n",
              "      <td>NaN</td>\n",
              "      <td>Acessórios</td>\n",
              "      <td>8</td>\n",
              "      <td>890</td>\n",
              "      <td>7120.0</td>\n",
              "      <td>Cartão de Crédito</td>\n",
              "      <td>Cancelado</td>\n",
              "      <td>1036</td>\n",
              "      <td>2024-08-03</td>\n",
              "    </tr>\n",
              "  </tbody>\n",
              "</table>\n",
              "<p>100 rows × 10 columns</p>\n",
              "</div>\n",
              "    <div class=\"colab-df-buttons\">\n",
              "\n",
              "  <div class=\"colab-df-container\">\n",
              "    <button class=\"colab-df-convert\" onclick=\"convertToInteractive('df-ac6551bf-e095-4f44-a8cf-806251239cc1')\"\n",
              "            title=\"Convert this dataframe to an interactive table.\"\n",
              "            style=\"display:none;\">\n",
              "\n",
              "  <svg xmlns=\"http://www.w3.org/2000/svg\" height=\"24px\" viewBox=\"0 -960 960 960\">\n",
              "    <path d=\"M120-120v-720h720v720H120Zm60-500h600v-160H180v160Zm220 220h160v-160H400v160Zm0 220h160v-160H400v160ZM180-400h160v-160H180v160Zm440 0h160v-160H620v160ZM180-180h160v-160H180v160Zm440 0h160v-160H620v160Z\"/>\n",
              "  </svg>\n",
              "    </button>\n",
              "\n",
              "  <style>\n",
              "    .colab-df-container {\n",
              "      display:flex;\n",
              "      gap: 12px;\n",
              "    }\n",
              "\n",
              "    .colab-df-convert {\n",
              "      background-color: #E8F0FE;\n",
              "      border: none;\n",
              "      border-radius: 50%;\n",
              "      cursor: pointer;\n",
              "      display: none;\n",
              "      fill: #1967D2;\n",
              "      height: 32px;\n",
              "      padding: 0 0 0 0;\n",
              "      width: 32px;\n",
              "    }\n",
              "\n",
              "    .colab-df-convert:hover {\n",
              "      background-color: #E2EBFA;\n",
              "      box-shadow: 0px 1px 2px rgba(60, 64, 67, 0.3), 0px 1px 3px 1px rgba(60, 64, 67, 0.15);\n",
              "      fill: #174EA6;\n",
              "    }\n",
              "\n",
              "    .colab-df-buttons div {\n",
              "      margin-bottom: 4px;\n",
              "    }\n",
              "\n",
              "    [theme=dark] .colab-df-convert {\n",
              "      background-color: #3B4455;\n",
              "      fill: #D2E3FC;\n",
              "    }\n",
              "\n",
              "    [theme=dark] .colab-df-convert:hover {\n",
              "      background-color: #434B5C;\n",
              "      box-shadow: 0px 1px 3px 1px rgba(0, 0, 0, 0.15);\n",
              "      filter: drop-shadow(0px 1px 2px rgba(0, 0, 0, 0.3));\n",
              "      fill: #FFFFFF;\n",
              "    }\n",
              "  </style>\n",
              "\n",
              "    <script>\n",
              "      const buttonEl =\n",
              "        document.querySelector('#df-ac6551bf-e095-4f44-a8cf-806251239cc1 button.colab-df-convert');\n",
              "      buttonEl.style.display =\n",
              "        google.colab.kernel.accessAllowed ? 'block' : 'none';\n",
              "\n",
              "      async function convertToInteractive(key) {\n",
              "        const element = document.querySelector('#df-ac6551bf-e095-4f44-a8cf-806251239cc1');\n",
              "        const dataTable =\n",
              "          await google.colab.kernel.invokeFunction('convertToInteractive',\n",
              "                                                    [key], {});\n",
              "        if (!dataTable) return;\n",
              "\n",
              "        const docLinkHtml = 'Like what you see? Visit the ' +\n",
              "          '<a target=\"_blank\" href=https://colab.research.google.com/notebooks/data_table.ipynb>data table notebook</a>'\n",
              "          + ' to learn more about interactive tables.';\n",
              "        element.innerHTML = '';\n",
              "        dataTable['output_type'] = 'display_data';\n",
              "        await google.colab.output.renderOutput(dataTable, element);\n",
              "        const docLink = document.createElement('div');\n",
              "        docLink.innerHTML = docLinkHtml;\n",
              "        element.appendChild(docLink);\n",
              "      }\n",
              "    </script>\n",
              "  </div>\n",
              "\n",
              "\n",
              "<div id=\"df-b66da63b-f88e-4ebc-97e3-7121d08a09cc\">\n",
              "  <button class=\"colab-df-quickchart\" onclick=\"quickchart('df-b66da63b-f88e-4ebc-97e3-7121d08a09cc')\"\n",
              "            title=\"Suggest charts\"\n",
              "            style=\"display:none;\">\n",
              "\n",
              "<svg xmlns=\"http://www.w3.org/2000/svg\" height=\"24px\"viewBox=\"0 0 24 24\"\n",
              "     width=\"24px\">\n",
              "    <g>\n",
              "        <path d=\"M19 3H5c-1.1 0-2 .9-2 2v14c0 1.1.9 2 2 2h14c1.1 0 2-.9 2-2V5c0-1.1-.9-2-2-2zM9 17H7v-7h2v7zm4 0h-2V7h2v10zm4 0h-2v-4h2v4z\"/>\n",
              "    </g>\n",
              "</svg>\n",
              "  </button>\n",
              "\n",
              "<style>\n",
              "  .colab-df-quickchart {\n",
              "      --bg-color: #E8F0FE;\n",
              "      --fill-color: #1967D2;\n",
              "      --hover-bg-color: #E2EBFA;\n",
              "      --hover-fill-color: #174EA6;\n",
              "      --disabled-fill-color: #AAA;\n",
              "      --disabled-bg-color: #DDD;\n",
              "  }\n",
              "\n",
              "  [theme=dark] .colab-df-quickchart {\n",
              "      --bg-color: #3B4455;\n",
              "      --fill-color: #D2E3FC;\n",
              "      --hover-bg-color: #434B5C;\n",
              "      --hover-fill-color: #FFFFFF;\n",
              "      --disabled-bg-color: #3B4455;\n",
              "      --disabled-fill-color: #666;\n",
              "  }\n",
              "\n",
              "  .colab-df-quickchart {\n",
              "    background-color: var(--bg-color);\n",
              "    border: none;\n",
              "    border-radius: 50%;\n",
              "    cursor: pointer;\n",
              "    display: none;\n",
              "    fill: var(--fill-color);\n",
              "    height: 32px;\n",
              "    padding: 0;\n",
              "    width: 32px;\n",
              "  }\n",
              "\n",
              "  .colab-df-quickchart:hover {\n",
              "    background-color: var(--hover-bg-color);\n",
              "    box-shadow: 0 1px 2px rgba(60, 64, 67, 0.3), 0 1px 3px 1px rgba(60, 64, 67, 0.15);\n",
              "    fill: var(--button-hover-fill-color);\n",
              "  }\n",
              "\n",
              "  .colab-df-quickchart-complete:disabled,\n",
              "  .colab-df-quickchart-complete:disabled:hover {\n",
              "    background-color: var(--disabled-bg-color);\n",
              "    fill: var(--disabled-fill-color);\n",
              "    box-shadow: none;\n",
              "  }\n",
              "\n",
              "  .colab-df-spinner {\n",
              "    border: 2px solid var(--fill-color);\n",
              "    border-color: transparent;\n",
              "    border-bottom-color: var(--fill-color);\n",
              "    animation:\n",
              "      spin 1s steps(1) infinite;\n",
              "  }\n",
              "\n",
              "  @keyframes spin {\n",
              "    0% {\n",
              "      border-color: transparent;\n",
              "      border-bottom-color: var(--fill-color);\n",
              "      border-left-color: var(--fill-color);\n",
              "    }\n",
              "    20% {\n",
              "      border-color: transparent;\n",
              "      border-left-color: var(--fill-color);\n",
              "      border-top-color: var(--fill-color);\n",
              "    }\n",
              "    30% {\n",
              "      border-color: transparent;\n",
              "      border-left-color: var(--fill-color);\n",
              "      border-top-color: var(--fill-color);\n",
              "      border-right-color: var(--fill-color);\n",
              "    }\n",
              "    40% {\n",
              "      border-color: transparent;\n",
              "      border-right-color: var(--fill-color);\n",
              "      border-top-color: var(--fill-color);\n",
              "    }\n",
              "    60% {\n",
              "      border-color: transparent;\n",
              "      border-right-color: var(--fill-color);\n",
              "    }\n",
              "    80% {\n",
              "      border-color: transparent;\n",
              "      border-right-color: var(--fill-color);\n",
              "      border-bottom-color: var(--fill-color);\n",
              "    }\n",
              "    90% {\n",
              "      border-color: transparent;\n",
              "      border-bottom-color: var(--fill-color);\n",
              "    }\n",
              "  }\n",
              "</style>\n",
              "\n",
              "  <script>\n",
              "    async function quickchart(key) {\n",
              "      const quickchartButtonEl =\n",
              "        document.querySelector('#' + key + ' button');\n",
              "      quickchartButtonEl.disabled = true;  // To prevent multiple clicks.\n",
              "      quickchartButtonEl.classList.add('colab-df-spinner');\n",
              "      try {\n",
              "        const charts = await google.colab.kernel.invokeFunction(\n",
              "            'suggestCharts', [key], {});\n",
              "      } catch (error) {\n",
              "        console.error('Error during call to suggestCharts:', error);\n",
              "      }\n",
              "      quickchartButtonEl.classList.remove('colab-df-spinner');\n",
              "      quickchartButtonEl.classList.add('colab-df-quickchart-complete');\n",
              "    }\n",
              "    (() => {\n",
              "      let quickchartButtonEl =\n",
              "        document.querySelector('#df-b66da63b-f88e-4ebc-97e3-7121d08a09cc button');\n",
              "      quickchartButtonEl.style.display =\n",
              "        google.colab.kernel.accessAllowed ? 'block' : 'none';\n",
              "    })();\n",
              "  </script>\n",
              "</div>\n",
              "\n",
              "  <div id=\"id_951b8e9f-9d62-4a29-9062-5ca78f7747ad\">\n",
              "    <style>\n",
              "      .colab-df-generate {\n",
              "        background-color: #E8F0FE;\n",
              "        border: none;\n",
              "        border-radius: 50%;\n",
              "        cursor: pointer;\n",
              "        display: none;\n",
              "        fill: #1967D2;\n",
              "        height: 32px;\n",
              "        padding: 0 0 0 0;\n",
              "        width: 32px;\n",
              "      }\n",
              "\n",
              "      .colab-df-generate:hover {\n",
              "        background-color: #E2EBFA;\n",
              "        box-shadow: 0px 1px 2px rgba(60, 64, 67, 0.3), 0px 1px 3px 1px rgba(60, 64, 67, 0.15);\n",
              "        fill: #174EA6;\n",
              "      }\n",
              "\n",
              "      [theme=dark] .colab-df-generate {\n",
              "        background-color: #3B4455;\n",
              "        fill: #D2E3FC;\n",
              "      }\n",
              "\n",
              "      [theme=dark] .colab-df-generate:hover {\n",
              "        background-color: #434B5C;\n",
              "        box-shadow: 0px 1px 3px 1px rgba(0, 0, 0, 0.15);\n",
              "        filter: drop-shadow(0px 1px 2px rgba(0, 0, 0, 0.3));\n",
              "        fill: #FFFFFF;\n",
              "      }\n",
              "    </style>\n",
              "    <button class=\"colab-df-generate\" onclick=\"generateWithVariable('tabela')\"\n",
              "            title=\"Generate code using this dataframe.\"\n",
              "            style=\"display:none;\">\n",
              "\n",
              "  <svg xmlns=\"http://www.w3.org/2000/svg\" height=\"24px\"viewBox=\"0 0 24 24\"\n",
              "       width=\"24px\">\n",
              "    <path d=\"M7,19H8.4L18.45,9,17,7.55,7,17.6ZM5,21V16.75L18.45,3.32a2,2,0,0,1,2.83,0l1.4,1.43a1.91,1.91,0,0,1,.58,1.4,1.91,1.91,0,0,1-.58,1.4L9.25,21ZM18.45,9,17,7.55Zm-12,3A5.31,5.31,0,0,0,4.9,8.1,5.31,5.31,0,0,0,1,6.5,5.31,5.31,0,0,0,4.9,4.9,5.31,5.31,0,0,0,6.5,1,5.31,5.31,0,0,0,8.1,4.9,5.31,5.31,0,0,0,12,6.5,5.46,5.46,0,0,0,6.5,12Z\"/>\n",
              "  </svg>\n",
              "    </button>\n",
              "    <script>\n",
              "      (() => {\n",
              "      const buttonEl =\n",
              "        document.querySelector('#id_951b8e9f-9d62-4a29-9062-5ca78f7747ad button.colab-df-generate');\n",
              "      buttonEl.style.display =\n",
              "        google.colab.kernel.accessAllowed ? 'block' : 'none';\n",
              "\n",
              "      buttonEl.onclick = () => {\n",
              "        google.colab.notebook.generateWithVariable('tabela');\n",
              "      }\n",
              "      })();\n",
              "    </script>\n",
              "  </div>\n",
              "\n",
              "    </div>\n",
              "  </div>\n"
            ],
            "application/vnd.google.colaboratory.intrinsic+json": {
              "type": "dataframe",
              "variable_name": "tabela",
              "summary": "{\n  \"name\": \"tabela\",\n  \"rows\": 100,\n  \"fields\": [\n    {\n      \"column\": \"ID_Venda\",\n      \"properties\": {\n        \"dtype\": \"number\",\n        \"std\": 29,\n        \"min\": 1,\n        \"max\": 100,\n        \"num_unique_values\": 100,\n        \"samples\": [\n          84,\n          54,\n          71\n        ],\n        \"semantic_type\": \"\",\n        \"description\": \"\"\n      }\n    },\n    {\n      \"column\": \"Produto\",\n      \"properties\": {\n        \"dtype\": \"category\",\n        \"num_unique_values\": 10,\n        \"samples\": [\n          \"Headset\",\n          \"SSD\",\n          \"Impressora\"\n        ],\n        \"semantic_type\": \"\",\n        \"description\": \"\"\n      }\n    },\n    {\n      \"column\": \"Categoria\",\n      \"properties\": {\n        \"dtype\": \"category\",\n        \"num_unique_values\": 4,\n        \"samples\": [\n          \"M\\u00f3veis\",\n          \"Perif\\u00e9ricos\",\n          \"Eletr\\u00f4nicos\"\n        ],\n        \"semantic_type\": \"\",\n        \"description\": \"\"\n      }\n    },\n    {\n      \"column\": \"Quantidade Vendida\",\n      \"properties\": {\n        \"dtype\": \"number\",\n        \"std\": 2,\n        \"min\": 1,\n        \"max\": 10,\n        \"num_unique_values\": 10,\n        \"samples\": [\n          7,\n          10,\n          8\n        ],\n        \"semantic_type\": \"\",\n        \"description\": \"\"\n      }\n    },\n    {\n      \"column\": \"Pre\\u00e7o Unit\\u00e1rio\",\n      \"properties\": {\n        \"dtype\": \"number\",\n        \"std\": 1419,\n        \"min\": 67,\n        \"max\": 4831,\n        \"num_unique_values\": 98,\n        \"samples\": [\n          1257,\n          2222,\n          4016\n        ],\n        \"semantic_type\": \"\",\n        \"description\": \"\"\n      }\n    },\n    {\n      \"column\": \"Valor da Venda\",\n      \"properties\": {\n        \"dtype\": \"number\",\n        \"std\": 12221.560239843757,\n        \"min\": 469.0,\n        \"max\": 46730.0,\n        \"num_unique_values\": 90,\n        \"samples\": [\n          8875.0,\n          2408.0,\n          31766.0\n        ],\n        \"semantic_type\": \"\",\n        \"description\": \"\"\n      }\n    },\n    {\n      \"column\": \"M\\u00e9todo de Pagamento\",\n      \"properties\": {\n        \"dtype\": \"category\",\n        \"num_unique_values\": 4,\n        \"samples\": [\n          \"Transfer\\u00eancia Banc\\u00e1ria\",\n          \"Boleto\",\n          \"Cart\\u00e3o de Cr\\u00e9dito\"\n        ],\n        \"semantic_type\": \"\",\n        \"description\": \"\"\n      }\n    },\n    {\n      \"column\": \"Status do Pedido\",\n      \"properties\": {\n        \"dtype\": \"category\",\n        \"num_unique_values\": 3,\n        \"samples\": [\n          \"Entregue\",\n          \"Em andamento\",\n          \"Cancelado\"\n        ],\n        \"semantic_type\": \"\",\n        \"description\": \"\"\n      }\n    },\n    {\n      \"column\": \"Cliente_ID\",\n      \"properties\": {\n        \"dtype\": \"number\",\n        \"std\": 30,\n        \"min\": 1003,\n        \"max\": 1100,\n        \"num_unique_values\": 67,\n        \"samples\": [\n          1082,\n          1037,\n          1044\n        ],\n        \"semantic_type\": \"\",\n        \"description\": \"\"\n      }\n    },\n    {\n      \"column\": \"Data da Venda\",\n      \"properties\": {\n        \"dtype\": \"object\",\n        \"num_unique_values\": 89,\n        \"samples\": [\n          \"2025-01-14\",\n          \"2024-04-03\",\n          \"2024-11-24\"\n        ],\n        \"semantic_type\": \"\",\n        \"description\": \"\"\n      }\n    }\n  ]\n}"
            }
          },
          "metadata": {}
        }
      ]
    },
    {
      "cell_type": "code",
      "source": [
        "# 01. Quantos registros existem na base de dados?\n",
        "\n",
        "print(tabela.shape)"
      ],
      "metadata": {
        "colab": {
          "base_uri": "https://localhost:8080/"
        },
        "id": "wGCqM_WgxO6o",
        "outputId": "721d600a-a155-4aa6-c8e4-0f3252391135"
      },
      "execution_count": null,
      "outputs": [
        {
          "output_type": "stream",
          "name": "stdout",
          "text": [
            "(100, 10)\n"
          ]
        }
      ]
    },
    {
      "cell_type": "code",
      "source": [
        "# 02. Quantos registros possuem valores ausentes?\n",
        "\n",
        "soma = tabela.isnull().any(axis=1).sum()\n",
        "display(soma)\n"
      ],
      "metadata": {
        "colab": {
          "base_uri": "https://localhost:8080/",
          "height": 35
        },
        "id": "CbDHeLAizZTg",
        "outputId": "cbad3816-dbac-4707-a6c9-cb58de910056"
      },
      "execution_count": null,
      "outputs": [
        {
          "output_type": "display_data",
          "data": {
            "text/plain": [
              "np.int64(35)"
            ]
          },
          "metadata": {}
        }
      ]
    },
    {
      "cell_type": "code",
      "source": [],
      "metadata": {
        "id": "osgkJUt4T93n"
      },
      "execution_count": null,
      "outputs": []
    },
    {
      "cell_type": "code",
      "source": [
        "# 03. Substitua os valores ausentes na coluna \"Valor da Venda\" pela média das vendas e exiba a nova média.\n",
        "\n",
        "# Aqui não vai funcionar ainda, porque a média será NaN\n",
        "media = tabela['Valor da Venda'].mean()\n",
        "# Vai retornar NaN\n",
        "print(\"Média:\", media)\n",
        "\n",
        "\n"
      ],
      "metadata": {
        "colab": {
          "base_uri": "https://localhost:8080/"
        },
        "id": "dsKzOXXe02jf",
        "outputId": "b9a73cf3-f99c-4b5c-e66d-7f03fd7d01f5"
      },
      "execution_count": null,
      "outputs": [
        {
          "output_type": "stream",
          "name": "stdout",
          "text": [
            "Média: 14619.422222222222\n"
          ]
        }
      ]
    },
    {
      "cell_type": "code",
      "source": [
        "# 04. Faça a alteração da coluna \"Quantidade Vendida\" para o tipo inteiro e exiba o DataFrame.'''\n",
        "tabela['Quantidade Vendida'] = tabela['Quantidade Vendida'].astype(int)\n",
        "print(tabela['Quantidade Vendida'])"
      ],
      "metadata": {
        "colab": {
          "base_uri": "https://localhost:8080/"
        },
        "id": "hs9PyVErEtKU",
        "outputId": "3c2f7de4-7b6b-45bd-8b6e-f0c8905c46a8"
      },
      "execution_count": null,
      "outputs": [
        {
          "output_type": "stream",
          "name": "stdout",
          "text": [
            "0      5\n",
            "1     10\n",
            "2      9\n",
            "3      3\n",
            "4      2\n",
            "      ..\n",
            "95     4\n",
            "96     4\n",
            "97     2\n",
            "98     9\n",
            "99     8\n",
            "Name: Quantidade Vendida, Length: 100, dtype: int64\n"
          ]
        }
      ]
    },
    {
      "cell_type": "code",
      "source": [
        "# 1. Calcular o valor máximo ignorando os nulos\n",
        "maximo = tabela['Valor da Venda'].dropna().max()\n",
        "\n",
        "# 2. Usar apply com verificação de tipo\n",
        "produto_maximo = tabela[tabela['Valor da Venda'].apply(\n",
        "    lambda x: np.isclose(x, maximo) if pd.notnull(x) else False\n",
        ")]\n",
        "\n",
        "# 3. Exibir resultado\n",
        "print(f\"Maior valor de venda: R$ {maximo:.2f}\")\n",
        "print(\"\\nProduto(s) vendido(s) por esse valor:\")\n",
        "print(produto_maximo[['Produto', 'Valor da Venda']])\n"
      ],
      "metadata": {
        "colab": {
          "base_uri": "https://localhost:8080/"
        },
        "id": "HQ3kt0DxiDaC",
        "outputId": "75c72826-69b4-4207-de81-86b00485ffc2"
      },
      "execution_count": null,
      "outputs": [
        {
          "output_type": "stream",
          "name": "stdout",
          "text": [
            "Maior valor de venda: R$ 46730.00\n",
            "\n",
            "Produto(s) vendido(s) por esse valor:\n",
            "     Produto  Valor da Venda\n",
            "77  Notebook         46730.0\n"
          ]
        }
      ]
    },
    {
      "cell_type": "code",
      "source": [
        "# 06. Quantos pedidos foram feitos para cada categoria de produto?\n",
        "# Contar quantos pedidos por categoria\n",
        "quantidade_por_categoria = tabela['Categoria'].value_counts()\n",
        "\n",
        "print(\"Pedidos por categoria de produto:\")\n",
        "print(quantidade_por_categoria)\n"
      ],
      "metadata": {
        "colab": {
          "base_uri": "https://localhost:8080/"
        },
        "id": "kXiDUW-8iDPU",
        "outputId": "ab622442-a000-471d-9e10-76a05e78cbdc"
      },
      "execution_count": null,
      "outputs": [
        {
          "output_type": "stream",
          "name": "stdout",
          "text": [
            "Pedidos por categoria de produto:\n",
            "Categoria\n",
            "Acessórios     27\n",
            "Eletrônicos    25\n",
            "Móveis         25\n",
            "Periféricos    23\n",
            "Name: count, dtype: int64\n"
          ]
        }
      ]
    },
    {
      "cell_type": "code",
      "source": [
        "# 07. Qual é a média de preço dos produtos por categoria?\n",
        "\n",
        "media_por_categoria = tabela.groupby('Categoria')['Preço Unitário'].mean()\n",
        "\n",
        "print(\"Média de preço dos produtos por categoria:\")\n",
        "print(media_por_categoria)\n",
        "\n"
      ],
      "metadata": {
        "colab": {
          "base_uri": "https://localhost:8080/"
        },
        "id": "2g41t80AidXl",
        "outputId": "54eccdc2-ed94-422d-d673-d0359cf6fa81"
      },
      "execution_count": null,
      "outputs": [
        {
          "output_type": "stream",
          "name": "stdout",
          "text": [
            "Média de preço dos produtos por categoria:\n",
            "Categoria\n",
            "Acessórios     2382.259259\n",
            "Eletrônicos    2838.080000\n",
            "Móveis         2086.440000\n",
            "Periféricos    2346.086957\n",
            "Name: Preço Unitário, dtype: float64\n"
          ]
        }
      ]
    },
    {
      "cell_type": "code",
      "source": [
        "# 08. Liste os produtos únicos da base de dados.\n",
        "\n",
        "produtos_unicos = tabela['Produto'].unique()\n",
        "\n",
        "print(\"Produtos únicos na base de dados:\")\n",
        "print(produtos_unicos)\n"
      ],
      "metadata": {
        "colab": {
          "base_uri": "https://localhost:8080/"
        },
        "id": "AR1RRXYGidOu",
        "outputId": "24ad8493-cde1-41ef-93ad-ccc3c77a1e40"
      },
      "execution_count": null,
      "outputs": [
        {
          "output_type": "stream",
          "name": "stdout",
          "text": [
            "Produtos únicos na base de dados:\n",
            "['Smartphone' 'SSD' 'Mouse' 'Monitor' 'Cadeira Gamer' nan 'Impressora'\n",
            " 'Notebook' 'Teclado' 'Headset' 'Placa de Vídeo']\n"
          ]
        }
      ]
    },
    {
      "cell_type": "code",
      "source": [
        "# 09. Crie uma nova coluna chamada \"Ano da Venda\" que armazena o ano em que a venda foi realizada.\n",
        "\n",
        "# 1. Garantir que a coluna está no formato datetime\n",
        "tabela['Data da Venda'] = pd.to_datetime(tabela['Data da Venda'])\n",
        "\n",
        "# 2. Criar a nova coluna com o ano\n",
        "tabela['Ano da Venda'] = tabela['Data da Venda'].dt.year\n",
        "\n",
        "# 3. Visualizar as primeiras linhas\n",
        "print(tabela[['Data da Venda', 'Ano da Venda']].head())\n"
      ],
      "metadata": {
        "colab": {
          "base_uri": "https://localhost:8080/"
        },
        "id": "n9hiq2buir6-",
        "outputId": "21a40724-34d9-4b4e-fee2-1b8e105d34b5"
      },
      "execution_count": null,
      "outputs": [
        {
          "output_type": "stream",
          "name": "stdout",
          "text": [
            "  Data da Venda  Ano da Venda\n",
            "0    2025-02-07          2025\n",
            "1    2024-12-10          2024\n",
            "2    2024-06-03          2024\n",
            "3    2024-12-11          2024\n",
            "4    2024-05-26          2024\n"
          ]
        }
      ]
    },
    {
      "cell_type": "code",
      "source": [
        "# 10. Liste os 5 produtos mais vendidos.\n",
        "\n",
        "# Agrupar por produto e somar as quantidades vendidas\n",
        "mais_vendidos = tabela.groupby('Produto')['Quantidade Vendida'].sum()\n",
        "\n",
        "# Ordenar do maior para o menor e pegar os 5 primeiros\n",
        "top_5_produtos = mais_vendidos.sort_values(ascending=False).head(5)\n",
        "\n",
        "# Exibir resultado\n",
        "print(\"Top 5 produtos mais vendidos:\")\n",
        "print(top_5_produtos)\n"
      ],
      "metadata": {
        "colab": {
          "base_uri": "https://localhost:8080/"
        },
        "id": "9V8_cSiQirmI",
        "outputId": "1811b795-b1bb-465e-9977-7b220edb4703"
      },
      "execution_count": null,
      "outputs": [
        {
          "output_type": "stream",
          "name": "stdout",
          "text": [
            "Top 5 produtos mais vendidos:\n",
            "Produto\n",
            "Notebook         86\n",
            "Impressora       84\n",
            "Monitor          74\n",
            "Cadeira Gamer    70\n",
            "Smartphone       68\n",
            "Name: Quantidade Vendida, dtype: int64\n"
          ]
        }
      ]
    },
    {
      "cell_type": "code",
      "source": [
        "# 11. Quantos pedidos foram feitos por cada método de pagamento?\n",
        "\n",
        "pedidos_por_pagamento = tabela['Método de Pagamento'].value_counts()\n",
        "\n",
        "print(\"Pedidos por método de pagamento:\")\n",
        "print(pedidos_por_pagamento)"
      ],
      "metadata": {
        "colab": {
          "base_uri": "https://localhost:8080/"
        },
        "id": "gILAw3dni5WD",
        "outputId": "071b26d9-305b-48c0-ae49-5486daeb74c5"
      },
      "execution_count": null,
      "outputs": [
        {
          "output_type": "stream",
          "name": "stdout",
          "text": [
            "Pedidos por método de pagamento:\n",
            "Método de Pagamento\n",
            "Pix                       26\n",
            "Boleto                    24\n",
            "Cartão de Crédito         23\n",
            "Transferência Bancária    17\n",
            "Name: count, dtype: int64\n"
          ]
        }
      ]
    },
    {
      "cell_type": "code",
      "source": [
        "# 12. Qual é o faturamento total por categoria de produto?\n",
        "\n",
        "# 1. Criar a coluna 'Valor Total' se ainda não existir\n",
        "tabela['Valor Total'] = tabela['Quantidade Vendida'] * tabela['Preço Unitário']\n",
        "\n",
        "# 2. Agrupar por categoria e somar o faturamento\n",
        "faturamento_por_categoria = tabela.groupby('Categoria')['Valor Total'].sum()\n",
        "\n",
        "# 3. Exibir resultado\n",
        "print(\"Faturamento total por categoria de produto:\")\n",
        "print(faturamento_por_categoria)\n"
      ],
      "metadata": {
        "colab": {
          "base_uri": "https://localhost:8080/"
        },
        "id": "iukkQtvFi91v",
        "outputId": "cb5ceb27-5a7b-4551-e6a3-df13b2b394b3"
      },
      "execution_count": null,
      "outputs": [
        {
          "output_type": "stream",
          "name": "stdout",
          "text": [
            "Faturamento total por categoria de produto:\n",
            "Categoria\n",
            "Acessórios     356349\n",
            "Eletrônicos    484439\n",
            "Móveis         321854\n",
            "Periféricos    293501\n",
            "Name: Valor Total, dtype: int64\n"
          ]
        }
      ]
    },
    {
      "cell_type": "code",
      "source": [
        "# 13. Liste os 5 clientes que mais gastaram em compras.\n",
        "\n",
        "# 1. Criar a coluna 'Valor Total' se ainda não existir\n",
        "tabela['Valor Total'] = tabela['Quantidade Vendida'] * tabela['Preço Unitário']\n",
        "\n",
        "# 2. Agrupar por cliente e somar os gastos\n",
        "clientes_que_mais_gastaram = tabela.groupby('Cliente_ID')['Valor Total'].sum()\n",
        "\n",
        "# 3. Ordenar do maior para o menor e selecionar os 5 primeiros\n",
        "top_5_clientes = clientes_que_mais_gastaram.sort_values(ascending=False).head(5)\n",
        "\n",
        "# 4. Exibir o resultado\n",
        "print(\"Top 5 clientes que mais gastaram:\")\n",
        "print(top_5_clientes)\n"
      ],
      "metadata": {
        "colab": {
          "base_uri": "https://localhost:8080/"
        },
        "id": "6kzbhPrui9ms",
        "outputId": "b5368312-a56a-488f-87b1-53d074c31461"
      },
      "execution_count": null,
      "outputs": [
        {
          "output_type": "stream",
          "name": "stdout",
          "text": [
            "Top 5 clientes que mais gastaram:\n",
            "Cliente_ID\n",
            "1028    121558\n",
            "1031     71648\n",
            "1011     67620\n",
            "1082     66280\n",
            "1037     56439\n",
            "Name: Valor Total, dtype: int64\n"
          ]
        }
      ]
    },
    {
      "cell_type": "code",
      "source": [
        "#14. Existe algum registro sem informação de produto? Liste-os.\n",
        "\n",
        "# Filtrar linhas onde a coluna 'Produto' está vazia (nula)\n",
        "produtos_vazios = tabela[tabela['Produto'].isnull()]\n",
        "\n",
        "# Verificar se existem registros assim\n",
        "if produtos_vazios.empty:\n",
        "    print(\"Todos os registros têm informação de produto.\")\n",
        "else:\n",
        "    print(\"Registros sem informação de produto encontrados:\")\n",
        "    print(produtos_vazios)\n"
      ],
      "metadata": {
        "colab": {
          "base_uri": "https://localhost:8080/"
        },
        "id": "gHxvg3t_i9iP",
        "outputId": "ec5d71ce-d839-44db-a922-95c6de99a010"
      },
      "execution_count": null,
      "outputs": [
        {
          "output_type": "stream",
          "name": "stdout",
          "text": [
            "Registros sem informação de produto encontrados:\n",
            "    ID_Venda Produto    Categoria  Quantidade Vendida  Preço Unitário  \\\n",
            "12        13     NaN  Periféricos                   3            2219   \n",
            "64        65     NaN   Acessórios                   4            1257   \n",
            "65        66     NaN  Eletrônicos                   8            3445   \n",
            "66        67     NaN  Periféricos                   4            1258   \n",
            "68        69     NaN   Acessórios                   8            4401   \n",
            "69        70     NaN  Periféricos                   3            3938   \n",
            "70        71     NaN  Periféricos                   4            2299   \n",
            "81        82     NaN  Eletrônicos                   4            1683   \n",
            "97        98     NaN       Móveis                   2            1640   \n",
            "99       100     NaN   Acessórios                   8             890   \n",
            "\n",
            "    Valor da Venda     Método de Pagamento Status do Pedido  Cliente_ID  \\\n",
            "12          6657.0                  Boleto         Entregue        1095   \n",
            "64          5028.0       Cartão de Crédito         Entregue        1031   \n",
            "65             NaN                  Boleto        Cancelado        1089   \n",
            "66          5032.0       Cartão de Crédito         Entregue        1099   \n",
            "68         35208.0                     Pix     Em andamento        1078   \n",
            "69         11814.0  Transferência Bancária     Em andamento        1096   \n",
            "70             NaN  Transferência Bancária         Entregue        1091   \n",
            "81          6732.0       Cartão de Crédito        Cancelado        1019   \n",
            "97          3280.0                     Pix              NaN        1046   \n",
            "99          7120.0       Cartão de Crédito        Cancelado        1036   \n",
            "\n",
            "   Data da Venda  Ano da Venda  Valor Total  \n",
            "12    2024-06-17          2024         6657  \n",
            "64    2024-07-31          2024         5028  \n",
            "65    2024-09-16          2024        27560  \n",
            "66    2024-08-26          2024         5032  \n",
            "68    2024-07-16          2024        35208  \n",
            "69    2024-11-25          2024        11814  \n",
            "70    2024-11-05          2024         9196  \n",
            "81    2024-11-29          2024         6732  \n",
            "97    2024-12-30          2024         3280  \n",
            "99    2024-08-03          2024         7120  \n"
          ]
        }
      ]
    },
    {
      "cell_type": "code",
      "source": [
        "# 15. Crie uma nova coluna \"Faixa de Preço\" usando a coluna \"Preço Unitário\" para classificar os produtos como:\n",
        "\n",
        "# Baixo (preço < 50)\n",
        "# Médio (50 ≤ preço ≤ 300)\n",
        "# Alto (preço > 300)\n",
        "\n",
        "def classificar_preco(preco):\n",
        "    if preco < 50:\n",
        "        return 'Baixo'\n",
        "    elif 50 <= preco <= 300:\n",
        "        return 'Médio'\n",
        "    else:\n",
        "        return 'Alto'\n",
        "\n",
        "# Criar nova coluna com faixa de preço\n",
        "tabela['Faixa de Preço'] = tabela['Preço Unitário'].apply(classificar_preco)\n",
        "\n",
        "# Exibir as primeiras linhas para verificar\n",
        "print(tabela[['Produto', 'Preço Unitário', 'Faixa de Preço']].head())\n"
      ],
      "metadata": {
        "colab": {
          "base_uri": "https://localhost:8080/"
        },
        "id": "DKPawohSi5N0",
        "outputId": "1086ba8e-39eb-49ad-e8d4-f9b34414943e"
      },
      "execution_count": null,
      "outputs": [
        {
          "output_type": "stream",
          "name": "stdout",
          "text": [
            "         Produto  Preço Unitário Faixa de Preço\n",
            "0     Smartphone            2056           Alto\n",
            "1            SSD            3506           Alto\n",
            "2          Mouse            1678           Alto\n",
            "3        Monitor            3512           Alto\n",
            "4  Cadeira Gamer            3162           Alto\n"
          ]
        }
      ]
    },
    {
      "cell_type": "code",
      "source": [
        "display(tabela.head(3))"
      ],
      "metadata": {
        "colab": {
          "base_uri": "https://localhost:8080/",
          "height": 178
        },
        "id": "bsvnDfBHuiBd",
        "outputId": "8ec3d8fd-2b4d-4829-ff2a-4cc2ff07337d"
      },
      "execution_count": null,
      "outputs": [
        {
          "output_type": "display_data",
          "data": {
            "text/plain": [
              "   ID_Venda     Produto    Categoria  Quantidade Vendida  Preço Unitário  \\\n",
              "0         1  Smartphone  Eletrônicos                   5            2056   \n",
              "1         2         SSD  Eletrônicos                  10            3506   \n",
              "2         3       Mouse  Eletrônicos                   9            1678   \n",
              "\n",
              "   Valor da Venda     Método de Pagamento Status do Pedido  Cliente_ID  \\\n",
              "0         10280.0                     NaN         Entregue        1094   \n",
              "1         35060.0       Cartão de Crédito         Entregue        1011   \n",
              "2         15102.0  Transferência Bancária         Entregue        1057   \n",
              "\n",
              "  Data da Venda  Ano da Venda  Valor Total Faixa de Preço  \n",
              "0    2025-02-07          2025        10280           Alto  \n",
              "1    2024-12-10          2024        35060           Alto  \n",
              "2    2024-06-03          2024        15102           Alto  "
            ],
            "text/html": [
              "\n",
              "  <div id=\"df-4ddb3773-b00b-45c0-95ad-f06f895b73ad\" class=\"colab-df-container\">\n",
              "    <div>\n",
              "<style scoped>\n",
              "    .dataframe tbody tr th:only-of-type {\n",
              "        vertical-align: middle;\n",
              "    }\n",
              "\n",
              "    .dataframe tbody tr th {\n",
              "        vertical-align: top;\n",
              "    }\n",
              "\n",
              "    .dataframe thead th {\n",
              "        text-align: right;\n",
              "    }\n",
              "</style>\n",
              "<table border=\"1\" class=\"dataframe\">\n",
              "  <thead>\n",
              "    <tr style=\"text-align: right;\">\n",
              "      <th></th>\n",
              "      <th>ID_Venda</th>\n",
              "      <th>Produto</th>\n",
              "      <th>Categoria</th>\n",
              "      <th>Quantidade Vendida</th>\n",
              "      <th>Preço Unitário</th>\n",
              "      <th>Valor da Venda</th>\n",
              "      <th>Método de Pagamento</th>\n",
              "      <th>Status do Pedido</th>\n",
              "      <th>Cliente_ID</th>\n",
              "      <th>Data da Venda</th>\n",
              "      <th>Ano da Venda</th>\n",
              "      <th>Valor Total</th>\n",
              "      <th>Faixa de Preço</th>\n",
              "    </tr>\n",
              "  </thead>\n",
              "  <tbody>\n",
              "    <tr>\n",
              "      <th>0</th>\n",
              "      <td>1</td>\n",
              "      <td>Smartphone</td>\n",
              "      <td>Eletrônicos</td>\n",
              "      <td>5</td>\n",
              "      <td>2056</td>\n",
              "      <td>10280.0</td>\n",
              "      <td>NaN</td>\n",
              "      <td>Entregue</td>\n",
              "      <td>1094</td>\n",
              "      <td>2025-02-07</td>\n",
              "      <td>2025</td>\n",
              "      <td>10280</td>\n",
              "      <td>Alto</td>\n",
              "    </tr>\n",
              "    <tr>\n",
              "      <th>1</th>\n",
              "      <td>2</td>\n",
              "      <td>SSD</td>\n",
              "      <td>Eletrônicos</td>\n",
              "      <td>10</td>\n",
              "      <td>3506</td>\n",
              "      <td>35060.0</td>\n",
              "      <td>Cartão de Crédito</td>\n",
              "      <td>Entregue</td>\n",
              "      <td>1011</td>\n",
              "      <td>2024-12-10</td>\n",
              "      <td>2024</td>\n",
              "      <td>35060</td>\n",
              "      <td>Alto</td>\n",
              "    </tr>\n",
              "    <tr>\n",
              "      <th>2</th>\n",
              "      <td>3</td>\n",
              "      <td>Mouse</td>\n",
              "      <td>Eletrônicos</td>\n",
              "      <td>9</td>\n",
              "      <td>1678</td>\n",
              "      <td>15102.0</td>\n",
              "      <td>Transferência Bancária</td>\n",
              "      <td>Entregue</td>\n",
              "      <td>1057</td>\n",
              "      <td>2024-06-03</td>\n",
              "      <td>2024</td>\n",
              "      <td>15102</td>\n",
              "      <td>Alto</td>\n",
              "    </tr>\n",
              "  </tbody>\n",
              "</table>\n",
              "</div>\n",
              "    <div class=\"colab-df-buttons\">\n",
              "\n",
              "  <div class=\"colab-df-container\">\n",
              "    <button class=\"colab-df-convert\" onclick=\"convertToInteractive('df-4ddb3773-b00b-45c0-95ad-f06f895b73ad')\"\n",
              "            title=\"Convert this dataframe to an interactive table.\"\n",
              "            style=\"display:none;\">\n",
              "\n",
              "  <svg xmlns=\"http://www.w3.org/2000/svg\" height=\"24px\" viewBox=\"0 -960 960 960\">\n",
              "    <path d=\"M120-120v-720h720v720H120Zm60-500h600v-160H180v160Zm220 220h160v-160H400v160Zm0 220h160v-160H400v160ZM180-400h160v-160H180v160Zm440 0h160v-160H620v160ZM180-180h160v-160H180v160Zm440 0h160v-160H620v160Z\"/>\n",
              "  </svg>\n",
              "    </button>\n",
              "\n",
              "  <style>\n",
              "    .colab-df-container {\n",
              "      display:flex;\n",
              "      gap: 12px;\n",
              "    }\n",
              "\n",
              "    .colab-df-convert {\n",
              "      background-color: #E8F0FE;\n",
              "      border: none;\n",
              "      border-radius: 50%;\n",
              "      cursor: pointer;\n",
              "      display: none;\n",
              "      fill: #1967D2;\n",
              "      height: 32px;\n",
              "      padding: 0 0 0 0;\n",
              "      width: 32px;\n",
              "    }\n",
              "\n",
              "    .colab-df-convert:hover {\n",
              "      background-color: #E2EBFA;\n",
              "      box-shadow: 0px 1px 2px rgba(60, 64, 67, 0.3), 0px 1px 3px 1px rgba(60, 64, 67, 0.15);\n",
              "      fill: #174EA6;\n",
              "    }\n",
              "\n",
              "    .colab-df-buttons div {\n",
              "      margin-bottom: 4px;\n",
              "    }\n",
              "\n",
              "    [theme=dark] .colab-df-convert {\n",
              "      background-color: #3B4455;\n",
              "      fill: #D2E3FC;\n",
              "    }\n",
              "\n",
              "    [theme=dark] .colab-df-convert:hover {\n",
              "      background-color: #434B5C;\n",
              "      box-shadow: 0px 1px 3px 1px rgba(0, 0, 0, 0.15);\n",
              "      filter: drop-shadow(0px 1px 2px rgba(0, 0, 0, 0.3));\n",
              "      fill: #FFFFFF;\n",
              "    }\n",
              "  </style>\n",
              "\n",
              "    <script>\n",
              "      const buttonEl =\n",
              "        document.querySelector('#df-4ddb3773-b00b-45c0-95ad-f06f895b73ad button.colab-df-convert');\n",
              "      buttonEl.style.display =\n",
              "        google.colab.kernel.accessAllowed ? 'block' : 'none';\n",
              "\n",
              "      async function convertToInteractive(key) {\n",
              "        const element = document.querySelector('#df-4ddb3773-b00b-45c0-95ad-f06f895b73ad');\n",
              "        const dataTable =\n",
              "          await google.colab.kernel.invokeFunction('convertToInteractive',\n",
              "                                                    [key], {});\n",
              "        if (!dataTable) return;\n",
              "\n",
              "        const docLinkHtml = 'Like what you see? Visit the ' +\n",
              "          '<a target=\"_blank\" href=https://colab.research.google.com/notebooks/data_table.ipynb>data table notebook</a>'\n",
              "          + ' to learn more about interactive tables.';\n",
              "        element.innerHTML = '';\n",
              "        dataTable['output_type'] = 'display_data';\n",
              "        await google.colab.output.renderOutput(dataTable, element);\n",
              "        const docLink = document.createElement('div');\n",
              "        docLink.innerHTML = docLinkHtml;\n",
              "        element.appendChild(docLink);\n",
              "      }\n",
              "    </script>\n",
              "  </div>\n",
              "\n",
              "\n",
              "<div id=\"df-02595f2c-899c-4db4-9ce9-c37533c4adeb\">\n",
              "  <button class=\"colab-df-quickchart\" onclick=\"quickchart('df-02595f2c-899c-4db4-9ce9-c37533c4adeb')\"\n",
              "            title=\"Suggest charts\"\n",
              "            style=\"display:none;\">\n",
              "\n",
              "<svg xmlns=\"http://www.w3.org/2000/svg\" height=\"24px\"viewBox=\"0 0 24 24\"\n",
              "     width=\"24px\">\n",
              "    <g>\n",
              "        <path d=\"M19 3H5c-1.1 0-2 .9-2 2v14c0 1.1.9 2 2 2h14c1.1 0 2-.9 2-2V5c0-1.1-.9-2-2-2zM9 17H7v-7h2v7zm4 0h-2V7h2v10zm4 0h-2v-4h2v4z\"/>\n",
              "    </g>\n",
              "</svg>\n",
              "  </button>\n",
              "\n",
              "<style>\n",
              "  .colab-df-quickchart {\n",
              "      --bg-color: #E8F0FE;\n",
              "      --fill-color: #1967D2;\n",
              "      --hover-bg-color: #E2EBFA;\n",
              "      --hover-fill-color: #174EA6;\n",
              "      --disabled-fill-color: #AAA;\n",
              "      --disabled-bg-color: #DDD;\n",
              "  }\n",
              "\n",
              "  [theme=dark] .colab-df-quickchart {\n",
              "      --bg-color: #3B4455;\n",
              "      --fill-color: #D2E3FC;\n",
              "      --hover-bg-color: #434B5C;\n",
              "      --hover-fill-color: #FFFFFF;\n",
              "      --disabled-bg-color: #3B4455;\n",
              "      --disabled-fill-color: #666;\n",
              "  }\n",
              "\n",
              "  .colab-df-quickchart {\n",
              "    background-color: var(--bg-color);\n",
              "    border: none;\n",
              "    border-radius: 50%;\n",
              "    cursor: pointer;\n",
              "    display: none;\n",
              "    fill: var(--fill-color);\n",
              "    height: 32px;\n",
              "    padding: 0;\n",
              "    width: 32px;\n",
              "  }\n",
              "\n",
              "  .colab-df-quickchart:hover {\n",
              "    background-color: var(--hover-bg-color);\n",
              "    box-shadow: 0 1px 2px rgba(60, 64, 67, 0.3), 0 1px 3px 1px rgba(60, 64, 67, 0.15);\n",
              "    fill: var(--button-hover-fill-color);\n",
              "  }\n",
              "\n",
              "  .colab-df-quickchart-complete:disabled,\n",
              "  .colab-df-quickchart-complete:disabled:hover {\n",
              "    background-color: var(--disabled-bg-color);\n",
              "    fill: var(--disabled-fill-color);\n",
              "    box-shadow: none;\n",
              "  }\n",
              "\n",
              "  .colab-df-spinner {\n",
              "    border: 2px solid var(--fill-color);\n",
              "    border-color: transparent;\n",
              "    border-bottom-color: var(--fill-color);\n",
              "    animation:\n",
              "      spin 1s steps(1) infinite;\n",
              "  }\n",
              "\n",
              "  @keyframes spin {\n",
              "    0% {\n",
              "      border-color: transparent;\n",
              "      border-bottom-color: var(--fill-color);\n",
              "      border-left-color: var(--fill-color);\n",
              "    }\n",
              "    20% {\n",
              "      border-color: transparent;\n",
              "      border-left-color: var(--fill-color);\n",
              "      border-top-color: var(--fill-color);\n",
              "    }\n",
              "    30% {\n",
              "      border-color: transparent;\n",
              "      border-left-color: var(--fill-color);\n",
              "      border-top-color: var(--fill-color);\n",
              "      border-right-color: var(--fill-color);\n",
              "    }\n",
              "    40% {\n",
              "      border-color: transparent;\n",
              "      border-right-color: var(--fill-color);\n",
              "      border-top-color: var(--fill-color);\n",
              "    }\n",
              "    60% {\n",
              "      border-color: transparent;\n",
              "      border-right-color: var(--fill-color);\n",
              "    }\n",
              "    80% {\n",
              "      border-color: transparent;\n",
              "      border-right-color: var(--fill-color);\n",
              "      border-bottom-color: var(--fill-color);\n",
              "    }\n",
              "    90% {\n",
              "      border-color: transparent;\n",
              "      border-bottom-color: var(--fill-color);\n",
              "    }\n",
              "  }\n",
              "</style>\n",
              "\n",
              "  <script>\n",
              "    async function quickchart(key) {\n",
              "      const quickchartButtonEl =\n",
              "        document.querySelector('#' + key + ' button');\n",
              "      quickchartButtonEl.disabled = true;  // To prevent multiple clicks.\n",
              "      quickchartButtonEl.classList.add('colab-df-spinner');\n",
              "      try {\n",
              "        const charts = await google.colab.kernel.invokeFunction(\n",
              "            'suggestCharts', [key], {});\n",
              "      } catch (error) {\n",
              "        console.error('Error during call to suggestCharts:', error);\n",
              "      }\n",
              "      quickchartButtonEl.classList.remove('colab-df-spinner');\n",
              "      quickchartButtonEl.classList.add('colab-df-quickchart-complete');\n",
              "    }\n",
              "    (() => {\n",
              "      let quickchartButtonEl =\n",
              "        document.querySelector('#df-02595f2c-899c-4db4-9ce9-c37533c4adeb button');\n",
              "      quickchartButtonEl.style.display =\n",
              "        google.colab.kernel.accessAllowed ? 'block' : 'none';\n",
              "    })();\n",
              "  </script>\n",
              "</div>\n",
              "\n",
              "    </div>\n",
              "  </div>\n"
            ],
            "application/vnd.google.colaboratory.intrinsic+json": {
              "type": "dataframe",
              "summary": "{\n  \"name\": \"display(tabela\",\n  \"rows\": 3,\n  \"fields\": [\n    {\n      \"column\": \"ID_Venda\",\n      \"properties\": {\n        \"dtype\": \"number\",\n        \"std\": 1,\n        \"min\": 1,\n        \"max\": 3,\n        \"num_unique_values\": 3,\n        \"samples\": [\n          1,\n          2,\n          3\n        ],\n        \"semantic_type\": \"\",\n        \"description\": \"\"\n      }\n    },\n    {\n      \"column\": \"Produto\",\n      \"properties\": {\n        \"dtype\": \"string\",\n        \"num_unique_values\": 3,\n        \"samples\": [\n          \"Smartphone\",\n          \"SSD\",\n          \"Mouse\"\n        ],\n        \"semantic_type\": \"\",\n        \"description\": \"\"\n      }\n    },\n    {\n      \"column\": \"Categoria\",\n      \"properties\": {\n        \"dtype\": \"category\",\n        \"num_unique_values\": 1,\n        \"samples\": [\n          \"Eletr\\u00f4nicos\"\n        ],\n        \"semantic_type\": \"\",\n        \"description\": \"\"\n      }\n    },\n    {\n      \"column\": \"Quantidade Vendida\",\n      \"properties\": {\n        \"dtype\": \"number\",\n        \"std\": 2,\n        \"min\": 5,\n        \"max\": 10,\n        \"num_unique_values\": 3,\n        \"samples\": [\n          5\n        ],\n        \"semantic_type\": \"\",\n        \"description\": \"\"\n      }\n    },\n    {\n      \"column\": \"Pre\\u00e7o Unit\\u00e1rio\",\n      \"properties\": {\n        \"dtype\": \"number\",\n        \"std\": 964,\n        \"min\": 1678,\n        \"max\": 3506,\n        \"num_unique_values\": 3,\n        \"samples\": [\n          2056\n        ],\n        \"semantic_type\": \"\",\n        \"description\": \"\"\n      }\n    },\n    {\n      \"column\": \"Valor da Venda\",\n      \"properties\": {\n        \"dtype\": \"number\",\n        \"std\": 13137.870502228789,\n        \"min\": 10280.0,\n        \"max\": 35060.0,\n        \"num_unique_values\": 3,\n        \"samples\": [\n          10280.0\n        ],\n        \"semantic_type\": \"\",\n        \"description\": \"\"\n      }\n    },\n    {\n      \"column\": \"M\\u00e9todo de Pagamento\",\n      \"properties\": {\n        \"dtype\": \"string\",\n        \"num_unique_values\": 2,\n        \"samples\": [\n          \"Transfer\\u00eancia Banc\\u00e1ria\"\n        ],\n        \"semantic_type\": \"\",\n        \"description\": \"\"\n      }\n    },\n    {\n      \"column\": \"Status do Pedido\",\n      \"properties\": {\n        \"dtype\": \"category\",\n        \"num_unique_values\": 1,\n        \"samples\": [\n          \"Entregue\"\n        ],\n        \"semantic_type\": \"\",\n        \"description\": \"\"\n      }\n    },\n    {\n      \"column\": \"Cliente_ID\",\n      \"properties\": {\n        \"dtype\": \"number\",\n        \"std\": 41,\n        \"min\": 1011,\n        \"max\": 1094,\n        \"num_unique_values\": 3,\n        \"samples\": [\n          1094\n        ],\n        \"semantic_type\": \"\",\n        \"description\": \"\"\n      }\n    },\n    {\n      \"column\": \"Data da Venda\",\n      \"properties\": {\n        \"dtype\": \"date\",\n        \"min\": \"2024-06-03 00:00:00\",\n        \"max\": \"2025-02-07 00:00:00\",\n        \"num_unique_values\": 3,\n        \"samples\": [\n          \"2025-02-07 00:00:00\"\n        ],\n        \"semantic_type\": \"\",\n        \"description\": \"\"\n      }\n    },\n    {\n      \"column\": \"Ano da Venda\",\n      \"properties\": {\n        \"dtype\": \"int32\",\n        \"num_unique_values\": 2,\n        \"samples\": [\n          2024\n        ],\n        \"semantic_type\": \"\",\n        \"description\": \"\"\n      }\n    },\n    {\n      \"column\": \"Valor Total\",\n      \"properties\": {\n        \"dtype\": \"number\",\n        \"std\": 13137,\n        \"min\": 10280,\n        \"max\": 35060,\n        \"num_unique_values\": 3,\n        \"samples\": [\n          10280\n        ],\n        \"semantic_type\": \"\",\n        \"description\": \"\"\n      }\n    },\n    {\n      \"column\": \"Faixa de Pre\\u00e7o\",\n      \"properties\": {\n        \"dtype\": \"category\",\n        \"num_unique_values\": 1,\n        \"samples\": [\n          \"Alto\"\n        ],\n        \"semantic_type\": \"\",\n        \"description\": \"\"\n      }\n    }\n  ]\n}"
            }
          },
          "metadata": {}
        }
      ]
    },
    {
      "cell_type": "code",
      "source": [
        "# 16. Crie uma nova coluna \"Status Simplificado\" para transformar a coluna \"Status do Pedido\":\n",
        "\n",
        "# \"Entregue\" → \"Finalizado\"\n",
        "# \"Em andamento\" → \"Processando\"\n",
        "# \"Cancelado\" → \"Cancelado\"\n",
        "\n",
        "# Criando um dicionário de mapeamento\n",
        "mapeamento_status = {\n",
        "    'Entregue': 'Finalizado',\n",
        "    'Em andamento': 'Processando',\n",
        "    'Cancelado': 'Cancelado'\n",
        "}\n",
        "\n",
        "# Criando a nova coluna com os valores mapeados\n",
        "tabela['Status Simplificado'] = tabela['Status do Pedido'].map(mapeamento_status)\n",
        "\n",
        "# Exibindo as primeiras linhas para verificar\n",
        "print(tabela[['Status do Pedido', 'Status Simplificado']].head())\n"
      ],
      "metadata": {
        "colab": {
          "base_uri": "https://localhost:8080/"
        },
        "id": "j5bDAxP6jeoz",
        "outputId": "0fc8a4e3-282d-453d-cefd-3d65ab209070"
      },
      "execution_count": null,
      "outputs": [
        {
          "output_type": "stream",
          "name": "stdout",
          "text": [
            "  Status do Pedido Status Simplificado\n",
            "0         Entregue          Finalizado\n",
            "1         Entregue          Finalizado\n",
            "2         Entregue          Finalizado\n",
            "3     Em andamento         Processando\n",
            "4     Em andamento         Processando\n"
          ]
        }
      ]
    },
    {
      "cell_type": "code",
      "source": [
        "#  17. Crie uma nova coluna \"Preço com Desconto\", aplicando 10% de desconto sobre o valor original da venda.\n",
        "\n",
        "# 1. Certifique-se de que existe a coluna 'Valor Total'\n",
        "# Se não existir, crie com: Quantidade Vendida * Valor Unitário\n",
        "tabela['Valor Total'] = tabela['Quantidade Vendida'] * tabela['Preço Unitário']\n",
        "\n",
        "# 2. Criar nova coluna com 10% de desconto\n",
        "tabela['Preço com Desconto'] = tabela['Valor Total'] * 0.90  # ou: tabela['Valor Total'] - (tabela['Valor Total'] * 0.10)\n",
        "\n",
        "# 3. Exibir as primeiras linhas para conferir\n",
        "print(tabela[['Produto', 'Valor Total', 'Preço com Desconto']].head())\n"
      ],
      "metadata": {
        "colab": {
          "base_uri": "https://localhost:8080/"
        },
        "id": "NTVOGZLSjedW",
        "outputId": "9724c16f-c61d-49aa-80fa-9f30117f1924"
      },
      "execution_count": null,
      "outputs": [
        {
          "output_type": "stream",
          "name": "stdout",
          "text": [
            "         Produto  Valor Total  Preço com Desconto\n",
            "0     Smartphone        10280              9252.0\n",
            "1            SSD        35060             31554.0\n",
            "2          Mouse        15102             13591.8\n",
            "3        Monitor        10536              9482.4\n",
            "4  Cadeira Gamer         6324              5691.6\n"
          ]
        }
      ]
    },
    {
      "cell_type": "code",
      "source": [
        "# 18. Quantos produtos estão na faixa de preço \"Alto\"?\n",
        "\n",
        "# Contar quantos produtos estão na faixa \"Alto\"\n",
        "quantidade_alto = (tabela['Faixa de Preço'] == 'Alto').sum()\n",
        "\n",
        "print(f\"Quantidade de produtos na faixa de preço 'Alto': {quantidade_alto}\")"
      ],
      "metadata": {
        "colab": {
          "base_uri": "https://localhost:8080/"
        },
        "id": "e5eeLPE5jeMQ",
        "outputId": "ebbc57bc-a638-4cd5-8e7b-b15e9c39ce83"
      },
      "execution_count": null,
      "outputs": [
        {
          "output_type": "stream",
          "name": "stdout",
          "text": [
            "Quantidade de produtos na faixa de preço 'Alto': 94\n"
          ]
        }
      ]
    },
    {
      "cell_type": "code",
      "source": [
        "# 19. Use dropna() para excluir registros com valoresausentes e salve o DataFrame limpo em um novo arquivo CSV.\n",
        "\n",
        "# 1. Remover registros com qualquer valor ausente\n",
        "tabela_limpa = tabela.dropna()\n",
        "\n",
        "# 2. Salvar o DataFrame limpo em um novo arquivo CSV\n",
        "tabela_limpa.to_csv('drop_tabela.csv', index=False)\n",
        "\n",
        "print(\"Registros com valores ausentes removidos e CSV salvo como 'drop_tabela.csv'\")\n"
      ],
      "metadata": {
        "colab": {
          "base_uri": "https://localhost:8080/"
        },
        "id": "-0R_y_85jjtO",
        "outputId": "d4cd4a40-117b-4fde-b759-6bf717c71db4"
      },
      "execution_count": null,
      "outputs": [
        {
          "output_type": "stream",
          "name": "stdout",
          "text": [
            "Registros com valores ausentes removidos e CSV salvo como 'drop_tabela.csv'\n"
          ]
        }
      ]
    },
    {
      "cell_type": "code",
      "source": [
        "# 20. Faça a alteração da coluna \"Quantidade Vendida\" para o tipo inteiro e exiba o DataFrame.'''\n",
        "\n",
        "# 1. Converter a coluna 'Quantidade Vendida' para inteiro\n",
        "tabela['Quantidade Vendida'] = tabela['Quantidade Vendida'].astype(int)\n",
        "\n",
        "# 2. Exibir o DataFrame atualizado\n",
        "print(tabela.head())  # Ou apenas: tabela\n"
      ],
      "metadata": {
        "colab": {
          "base_uri": "https://localhost:8080/"
        },
        "id": "UtWwqpEsEtE7",
        "outputId": "112a70cc-fb23-422a-de7b-d6e660233995"
      },
      "execution_count": null,
      "outputs": [
        {
          "output_type": "stream",
          "name": "stdout",
          "text": [
            "   ID_Venda        Produto    Categoria  Quantidade Vendida  Preço Unitário  \\\n",
            "0         1     Smartphone  Eletrônicos                   5            2056   \n",
            "1         2            SSD  Eletrônicos                  10            3506   \n",
            "2         3          Mouse  Eletrônicos                   9            1678   \n",
            "3         4        Monitor  Eletrônicos                   3            3512   \n",
            "4         5  Cadeira Gamer  Eletrônicos                   2            3162   \n",
            "\n",
            "   Valor da Venda     Método de Pagamento Status do Pedido  Cliente_ID  \\\n",
            "0         10280.0                     NaN         Entregue        1094   \n",
            "1         35060.0       Cartão de Crédito         Entregue        1011   \n",
            "2         15102.0  Transferência Bancária         Entregue        1057   \n",
            "3             NaN                     Pix     Em andamento        1019   \n",
            "4          6324.0                     NaN     Em andamento        1044   \n",
            "\n",
            "  Data da Venda  Ano da Venda  Valor Total Faixa de Preço Status Simplificado  \\\n",
            "0    2025-02-07          2025        10280           Alto          Finalizado   \n",
            "1    2024-12-10          2024        35060           Alto          Finalizado   \n",
            "2    2024-06-03          2024        15102           Alto          Finalizado   \n",
            "3    2024-12-11          2024        10536           Alto         Processando   \n",
            "4    2024-05-26          2024         6324           Alto         Processando   \n",
            "\n",
            "   Preço com Desconto  \n",
            "0              9252.0  \n",
            "1             31554.0  \n",
            "2             13591.8  \n",
            "3              9482.4  \n",
            "4              5691.6  \n"
          ]
        }
      ]
    }
  ]
}