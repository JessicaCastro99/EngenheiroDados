{
  "nbformat": 4,
  "nbformat_minor": 0,
  "metadata": {
    "colab": {
      "provenance": [],
      "include_colab_link": true
    },
    "kernelspec": {
      "name": "python3",
      "display_name": "Python 3"
    },
    "language_info": {
      "name": "python"
    }
  },
  "cells": [
    {
      "cell_type": "markdown",
      "metadata": {
        "id": "view-in-github",
        "colab_type": "text"
      },
      "source": [
        "<a href=\"https://colab.research.google.com/github/JessicaCastro99/EngenheiroDados/blob/exercicios_python/Jessica_Castro_Exerc%C3%ADcios_de_Python_B%C3%A1sico_01_24_03_2025.ipynb\" target=\"_parent\"><img src=\"https://colab.research.google.com/assets/colab-badge.svg\" alt=\"Open In Colab\"/></a>"
      ]
    },
    {
      "cell_type": "markdown",
      "source": [
        "# 1 - Variáveis e Tipos de Dados"
      ],
      "metadata": {
        "id": "uxGISqtR2yNT"
      }
    },
    {
      "cell_type": "code",
      "execution_count": null,
      "metadata": {
        "id": "tLS0FEGj2rS7",
        "colab": {
          "base_uri": "https://localhost:8080/"
        },
        "outputId": "84991f5e-1021-440e-e9b6-b3bd98ccba9d"
      },
      "outputs": [
        {
          "output_type": "stream",
          "name": "stdout",
          "text": [
            "Nome:   Yasamim,  Tipo de dado: <class 'str'>\n",
            "Idade:  22, Tipo de dado: <class 'int'>\n",
            "Peso:   64.0,  Tipo de dado: <class 'float'>\n",
            "Altura: 1.59,Tipo de dado: <class 'float'>\n"
          ]
        }
      ],
      "source": [
        "'''\n",
        "1.1. Crie variáveis para armazenar o nome, idade, peso e altura de uma pessoa.\n",
        "Imprima os valores e os tipos de dados dessas variáveis.\n",
        "'''\n",
        "\n",
        "# Crie variáveis para armazenar o nome, idade, peso e altura de uma pessoa\n",
        "\n",
        "nome = 'Yasamim'\n",
        "idade = 22\n",
        "peso = 64.0\n",
        "altura = 1.59\n",
        "\n",
        "# Imprima os valores e os tipos de dados dessas variáveis.\n",
        "\n",
        "print(f'Nome:   {nome},  Tipo de dado: {type(nome)}')\n",
        "print(f'Idade:  {idade}, Tipo de dado: {type(idade)}')\n",
        "print(f'Peso:   {peso},  Tipo de dado: {type(peso)}')\n",
        "print(f'Altura: {altura},Tipo de dado: {type(altura)}')\n"
      ]
    },
    {
      "cell_type": "code",
      "source": [
        "'''\n",
        "1.2. Atualize a variável de peso para um valor diferente e imprima o novo valor.\n",
        "'''\n",
        "# Variável de peso\n",
        "\n",
        "peso = 64.0\n",
        "print(f'Peso antigo: {peso} Kg')\n",
        "\n",
        "# Atualize a variável de peso para um valor diferente e imprima o novo valor\n",
        "\n",
        "peso = 63.0\n",
        "print(f'Peso novo: {peso} Kg')"
      ],
      "metadata": {
        "id": "VFVgrodF27TT",
        "colab": {
          "base_uri": "https://localhost:8080/"
        },
        "outputId": "00b5b8e5-e8aa-4c91-b1cb-8fd655521057"
      },
      "execution_count": null,
      "outputs": [
        {
          "output_type": "stream",
          "name": "stdout",
          "text": [
            "Peso antigo: 64.0 Kg\n",
            "Peso novo: 63.0 Kg\n"
          ]
        }
      ]
    },
    {
      "cell_type": "markdown",
      "source": [
        "# 2 - Operadores Matemáticos"
      ],
      "metadata": {
        "id": "RRRbkSkr3Ajw"
      }
    },
    {
      "cell_type": "code",
      "source": [
        "'''\n",
        "2.1. Crie uma variável a com valor 10 e uma variável b com valor 3. Realize as\n",
        "seguintes operações e imprima os resultados:\n",
        "Soma\n",
        "Subtração\n",
        "Multiplicação\n",
        "Divisão\n",
        "Parte inteira da divisão\n",
        "Resto da divisão\n",
        "Exponenciação\n",
        "'''\n",
        "# Crie uma variável a com valor 10 e uma variável b com valor 3\n",
        "\n",
        "a = 10\n",
        "b = 3\n",
        "\n",
        "print(f'A valor de a = {a} \\n\\nO Valor de b = {b}')\n",
        "# Operação Soma\n",
        "\n",
        "Soma = a + b\n",
        "print(f'A soma de a + b é: {Soma}')\n",
        "\n",
        "# Operação Subtração\n",
        "\n",
        "Subtracao = a - b\n",
        "print(f'A Subtracao de a - b é: {Subtracao}')\n",
        "\n",
        "# Operação Multiplicação\n",
        "\n",
        "Multiplicao = a * b\n",
        "print(f'A Multiplicao de a * b é: {Multiplicao}')\n",
        "\n",
        "# Operação Divisão\n",
        "\n",
        "Divisao = a / b\n",
        "print(f'A Divisao de a / b é: {Divisao}')\n",
        "\n",
        "# Operação Parte inteira da divisão\n",
        "\n",
        "inteira_divisao = a // b\n",
        "print(f'A inteira_divisao de a // b é: {inteira_divisao}')\n",
        "\n",
        "# Operação Resto da divisão\n",
        "\n",
        "resto_divisao = a % b\n",
        "print(f'O resto da divisao de a % b é: {resto_divisao} ')\n",
        "\n",
        "# Operação Exponenciação\n",
        "\n",
        "Exponenciacao = a ** b\n",
        "print(f'A Exponenciacao de a ** b é: {Exponenciacao}')"
      ],
      "metadata": {
        "id": "hHAztIDU3AJP",
        "colab": {
          "base_uri": "https://localhost:8080/"
        },
        "outputId": "c893871e-e23d-483e-8b6f-a4a79f3e4f02"
      },
      "execution_count": null,
      "outputs": [
        {
          "output_type": "stream",
          "name": "stdout",
          "text": [
            "A valor de a = 10 \n",
            "\n",
            "O Valor de b = 3\n",
            "A soma de a + b é: 13\n",
            "A Subtracao de a - b é: 7\n",
            "A Multiplicao de a * b é: 30\n",
            "A Divisao de a / b é: 3.3333333333333335\n",
            "A inteira_divisao de a // b é: 3\n",
            "O resto da divisao de a % b é: 1 \n",
            "A Exponenciacao de a ** b é: 1000\n"
          ]
        }
      ]
    },
    {
      "cell_type": "markdown",
      "source": [
        "# 3 - Entrada de Dados pelo Usuário\n"
      ],
      "metadata": {
        "id": "jWJt5Ep23OFd"
      }
    },
    {
      "cell_type": "code",
      "source": [
        "'''\n",
        "3.1. Peça ao usuário para digitar seu nome e armazene em uma variável. Imprima\n",
        "uma mensagem de boas-vindas usando o nome fornecido.\n",
        "'''\n",
        "nome = input('digite seu nome: ')\n",
        "print('seja bem-vindo '+ nome)"
      ],
      "metadata": {
        "id": "IiD6jUJh3eiD",
        "colab": {
          "base_uri": "https://localhost:8080/"
        },
        "outputId": "f2072253-bf46-4871-a015-01731439ec37"
      },
      "execution_count": null,
      "outputs": [
        {
          "output_type": "stream",
          "name": "stdout",
          "text": [
            "digite seu nome: Domingos\n",
            "seja bem vindo Domingos\n"
          ]
        }
      ]
    },
    {
      "cell_type": "code",
      "source": [
        "'''\n",
        "3.2. Peça ao usuário para digitar sua idade, peso e altura.\n",
        "Calcule o IMC e imprima o resultado arredondado para três casas decimais.\n",
        "'''\n",
        "# IMC = peso / (altura x altura)\n",
        "\n",
        "# Peça ao usuário para digitar sua idade, peso e altura\n",
        "\n",
        "# Calcule o IMC\n",
        "\n",
        "def calculando_imc():\n",
        "  idade =  int(input('Digite a sua idade: '))\n",
        "  peso = float(input('Digite a sua peso: '))\n",
        "  altura = float(input('Digite a sua altura: '))\n",
        "\n",
        "  seu_imc = peso/(altura**altura)\n",
        "  imc = round(seu_imc, 2)\n",
        "  return imc\n",
        "\n",
        "IMC = calculando_imc()\n",
        "print(f'Seu IMC é: {IMC}!')\n",
        "\n",
        "# imprima o resultado arredondado para três casas decimais\n",
        "\n"
      ],
      "metadata": {
        "id": "Y4kz72aR3k8d",
        "colab": {
          "base_uri": "https://localhost:8080/"
        },
        "outputId": "37538123-29ef-4c9a-926b-a78c031bdcd2"
      },
      "execution_count": null,
      "outputs": [
        {
          "output_type": "stream",
          "name": "stdout",
          "text": [
            "Digite a sua idade: 33\n",
            "Digite a sua peso: 66\n",
            "Digite a sua altura: 1.59\n",
            "Seu IMC é: 31.57!\n"
          ]
        }
      ]
    },
    {
      "cell_type": "markdown",
      "source": [
        "# 4 - Função de Impressão"
      ],
      "metadata": {
        "id": "zqRV3Plv3pjL"
      }
    },
    {
      "cell_type": "code",
      "source": [
        "'''\n",
        "4.1. Peça ao usuário para digitar um número e imprima o número digitado.\n",
        "'''\n",
        "# Peça ao usuário para digitar um número\n",
        "numero4_1 = input('Digite um número: ')\n",
        "\n",
        "# imprima o número digitado\n",
        "print(f'O número digitado é: {numero4_1}')"
      ],
      "metadata": {
        "id": "N5AbRV3i3vYV",
        "colab": {
          "base_uri": "https://localhost:8080/"
        },
        "outputId": "d7671ebc-6df8-4ec5-9b3c-62f15f08c039"
      },
      "execution_count": null,
      "outputs": [
        {
          "output_type": "stream",
          "name": "stdout",
          "text": [
            "Digite um número: 78\n",
            "O número digitado é: 78\n"
          ]
        }
      ]
    },
    {
      "cell_type": "code",
      "source": [
        "'''\n",
        "4.2. Peça ao usuário para digitar dois números e imprima a soma deles.\n",
        "'''\n",
        "dois_numero = []\n",
        "\n",
        "# Peça ao usuário para digitar dois números\n",
        "while len(dois_numero) < 2:\n",
        "  numero = int(input('Digite um numero: '))\n",
        "  dois_numero.append(numero)\n",
        "\n",
        "# Imprima a soma deles\n",
        "\n",
        "soma = sum(dois_numero)\n",
        "1\n",
        "print(f'A soma dois dois números é: {soma}')"
      ],
      "metadata": {
        "id": "qM2ocOFl3vpB",
        "colab": {
          "base_uri": "https://localhost:8080/"
        },
        "outputId": "c55a6d73-8031-45ca-ac65-f81123270226"
      },
      "execution_count": null,
      "outputs": [
        {
          "output_type": "stream",
          "name": "stdout",
          "text": [
            "Digite um numero: 12\n",
            "Digite um numero: 1\n",
            "A soma dois dois números é: 13\n"
          ]
        }
      ]
    },
    {
      "cell_type": "markdown",
      "source": [
        "# 5 - Métodos de Strings"
      ],
      "metadata": {
        "id": "RWwlLaOu35jq"
      }
    },
    {
      "cell_type": "code",
      "source": [
        "'''\n",
        "5.1. Peça ao usuário para digitar um e-mail e verifique se o e-mail contém o\n",
        "caractere '@'. Imprima uma mensagem indicando se é um e-mail válido ou não.\n",
        "'''\n",
        "\n",
        "# Peça ao usuário para digitar um e-mail\n",
        "\n",
        "email = input('Digite um e-mail: ')\n",
        "\n",
        "# verifique se o e-mail contém o caractere '@'.\n",
        "\n",
        "if '@' in email:\n",
        "\n",
        "  # Imprima uma mensagem indicando se é um e-mail válido ou não\n",
        "  print('Contém \"@\" no e-mail digitado!')\n",
        "else:\n",
        "  print('Não contém @ no e-mail digitado, por favor digite o e-mail corretamente!')\n",
        "\n"
      ],
      "metadata": {
        "id": "PnAPaeXY3-dA",
        "colab": {
          "base_uri": "https://localhost:8080/"
        },
        "outputId": "210ac78d-c470-48b3-805d-fd4106261af9"
      },
      "execution_count": null,
      "outputs": [
        {
          "output_type": "stream",
          "name": "stdout",
          "text": [
            "Digite um e-mail: jessykaluana@gmail.com\n",
            "Contém \"@\" no e-mail digitado!\n"
          ]
        }
      ]
    },
    {
      "cell_type": "code",
      "source": [
        "'''\n",
        "5.2. Peça ao usuário para digitar uma frase e:\n",
        "Converta a frase para maiúsculas.\n",
        "Converta a frase para minúsculas.\n",
        "Converta a primeira letra de cada palavra para maiúscula.\n",
        "Verifique se a frase começa com uma determinada palavra (ex.: 'Olá').\n",
        "'''\n",
        "\n",
        "# Peça ao usuário para digitar uma frase e:\n",
        "\n",
        "frase = input('Digite uma frase: ')\n",
        "\n",
        "# Converta a frase para maiúsculas.\n",
        "\n",
        "frase_maiusculas = frase.upper()\n",
        "print(f'\\nConverta a frase para maiúsculas:\\n{frase_maiusculas}')\n",
        "\n",
        "# Converta a frase para minúsculas.\n",
        "\n",
        "frase_minusculas = frase_maiusculas.lower()\n",
        "print(f'\\nConverta a frase para minúsculas:\\n{frase_minusculas}\\n')\n",
        "\n",
        "# Converta a primeira letra de cada palavra para maiúscula.\n",
        "\n",
        "primeira_letra_maiuscula = frase.title()\n",
        "print(f'A primeira letra de cada palavra para maiúscula:\\n{primeira_letra_maiuscula}\\n')\n",
        "\n",
        "# Verifique se a frase começa com uma determinada palavra (ex.: 'Olá').\n",
        "\n",
        "if 'Olá' in frase or 'olá' in frase:\n",
        "  print('\\nA frase começa com uma determinada palavra (ex.: \"Olá\"):')\n",
        "  print('A frase começa com \"Olá\"!')\n",
        "else:\n",
        "  print('A frase não começa com \"Olá\"!')\n"
      ],
      "metadata": {
        "id": "nkwe0I9c3-w-",
        "colab": {
          "base_uri": "https://localhost:8080/"
        },
        "outputId": "e8bf2aa7-85f8-4764-e495-ac662941d3ff"
      },
      "execution_count": null,
      "outputs": [
        {
          "output_type": "stream",
          "name": "stdout",
          "text": [
            "Digite uma frase: olá hoje e terça-feira\n",
            "\n",
            "Converta a frase para maiúsculas:\n",
            "OLÁ HOJE E TERÇA-FEIRA\n",
            "\n",
            "Converta a frase para minúsculas:\n",
            "olá hoje e terça-feira\n",
            "\n",
            "A primeira letra de cada palavra para maiúscula:\n",
            "Olá Hoje E Terça-Feira\n",
            "\n",
            "\n",
            "A frase começa com uma determinada palavra (ex.: \"Olá\"):\n",
            "A frase começa com \"Olá\"!\n"
          ]
        }
      ]
    },
    {
      "cell_type": "markdown",
      "source": [
        "# 6 - Listas"
      ],
      "metadata": {
        "id": "HZQlB-8K4snX"
      }
    },
    {
      "cell_type": "code",
      "source": [
        "'''\n",
        "6.1. Crie uma lista com os nomes de cinco amigos. Imprima o nome do terceiro\n",
        "amigo na lista.\n",
        "'''\n",
        "# Crie uma lista com os nomes de cinco amigos\n",
        "\n",
        "cinco_amigos = ['Tomas',\n",
        "                'Theo',\n",
        "                'Erica',\n",
        "                'Catia',\n",
        "                'Turna']\n",
        "\n",
        "print(f'Lista com os nomes de cinco amigos:\\n{cinco_amigos}\\n')\n",
        "\n",
        "# Imprima o nome do terceiro amigo na lista.\n",
        "\n",
        "terceiro_amigo = cinco_amigos[3]\n",
        "print(f'Nome do terceiro amigo na lista:\\n{terceiro_amigo}')\n"
      ],
      "metadata": {
        "id": "3_3JLvXZ4sBG",
        "colab": {
          "base_uri": "https://localhost:8080/"
        },
        "outputId": "e1de86a3-8d84-4b45-f0a7-3142b53e45c1"
      },
      "execution_count": null,
      "outputs": [
        {
          "output_type": "stream",
          "name": "stdout",
          "text": [
            "Lista com os nomes de cinco amigos:\n",
            "['Tomas', 'Theo', 'Erica', 'Catia', 'Turna']\n",
            "\n",
            "Nome do terceiro amigo na lista:\n",
            "Catia\n"
          ]
        }
      ]
    },
    {
      "cell_type": "code",
      "source": [
        "'''\n",
        "6.2. Adicione um novo nome à lista de amigos e remova o primeiro nome.\n",
        "Imprima a lista atualizada.\n",
        "'''\n",
        "\n",
        "# Criar lista de amigos\n",
        "\n",
        "lista_amigos = ['Maya','Jose','Luana','Carol','Marlene','Iago']\n",
        "print(f'Lista de amigos:\\n{lista_amigos}\\n')\n",
        "\n",
        "# Adicione um novo nome\n",
        "\n",
        "lista_amigos.insert(-1, 'Ilaida')\n",
        "print(f'Adicione um novo nome:\\n{lista_amigos}\\n')\n",
        "\n",
        "# remova o primeiro nome\n",
        "\n",
        "del lista_amigos[0]\n",
        "print(f'Remova o primeiro nome:\\n{lista_amigos}\\n')\n",
        "\n",
        "# Imprima a lista atualizada\n",
        "\n"
      ],
      "metadata": {
        "id": "ppcjLqMb4yDu",
        "colab": {
          "base_uri": "https://localhost:8080/"
        },
        "outputId": "d8f274ae-fb92-4a31-d256-fa63487938c6"
      },
      "execution_count": null,
      "outputs": [
        {
          "output_type": "stream",
          "name": "stdout",
          "text": [
            "Lista de amigos:\n",
            "['Maya', 'Jose', 'Luana', 'Carol', 'Marlene', 'Iago']\n",
            "\n",
            "Adicione um novo nome:\n",
            "['Maya', 'Jose', 'Luana', 'Carol', 'Marlene', 'Ilaida', 'Iago']\n",
            "\n",
            "Remova o primeiro nome:\n",
            "['Jose', 'Luana', 'Carol', 'Marlene', 'Ilaida', 'Iago']\n",
            "\n"
          ]
        }
      ]
    },
    {
      "cell_type": "code",
      "source": [
        "'''\n",
        "6.3. Crie uma lista com as idades dos seus amigos e:\n",
        "Imprima a idade do amigo mais velho.\n",
        "Imprima a idade do amigo mais novo.\n",
        "Calcule e imprima a soma das idades.\n",
        "'''\n",
        "\n",
        "# Crie uma lista com as idades dos seus amigos\n",
        "idades = [12, 34, 23]\n",
        "\n",
        "# Imprima a idade do amigo mais velho.\n",
        "\n",
        "velho = max(idades)\n",
        "print(f'A idade do amigo mais velho:{velho}')\n",
        "\n",
        "# Imprima a idade do amigo mais novo.\n",
        "\n",
        "novo = min(idades)\n",
        "print(f'A idade do amigo mais novo: {novo}')\n",
        "\n",
        "# Calcule e imprima a soma das idades.\n",
        "\n",
        "soma = sum(idades)\n",
        "print(f'A soma das idades é: {soma}')\n"
      ],
      "metadata": {
        "id": "Hoz7RcUW4zc4",
        "colab": {
          "base_uri": "https://localhost:8080/"
        },
        "outputId": "88bfd342-fac4-448c-bd50-aa5b011b36b1"
      },
      "execution_count": null,
      "outputs": [
        {
          "output_type": "stream",
          "name": "stdout",
          "text": [
            "A idade do amigo mais velho:34\n",
            "A idade do amigo mais novo: 12\n",
            "A soma das idades é: 69\n"
          ]
        }
      ]
    },
    {
      "cell_type": "markdown",
      "source": [
        "# 7 - Tuplas"
      ],
      "metadata": {
        "id": "9WTzsCNH4-tT"
      }
    },
    {
      "cell_type": "code",
      "source": [
        "'''\n",
        "7.1 Crie uma tupla com as informações de um cliente (nome, idade, peso, altura).\n",
        "Imprima todas as informações.\n",
        "'''\n",
        "# Crie uma tupla com as informações de um cliente (nome, idade, peso, altura)\n",
        "\n",
        "clientes_tupla = ('Maia Castro', 33, 65, 1.59)\n",
        "print(f'Imprimindo a tupla cliente: {clientes}\\n')\n",
        "\n",
        "# Imprima todas as informações.\n",
        "print('Imprima todas as informações:\\n')\n",
        "\n",
        "print(f'Nome: {clientes[0]}')\n",
        "print(f'Idade: {clientes[1]}')\n",
        "print(f'Peso: {clientes[2]}')\n",
        "print(f'Altura: {clientes[3]}')\n"
      ],
      "metadata": {
        "id": "XpWW7G-p5BOJ",
        "colab": {
          "base_uri": "https://localhost:8080/"
        },
        "outputId": "b0f1ecce-56d4-4fba-f257-6bb92db4115a"
      },
      "execution_count": null,
      "outputs": [
        {
          "output_type": "stream",
          "name": "stdout",
          "text": [
            "Imprimindo a tupla cliente: ('Maia Castro', 33, 65, 1.59)\n",
            "\n",
            "Imprima todas as informações:\n",
            "\n",
            "Nome: Maia Castro\n",
            "Idade: 33\n",
            "Peso: 65\n",
            "Altura: 1.59\n"
          ]
        }
      ]
    },
    {
      "cell_type": "code",
      "source": [
        "'''\n",
        "7.2. Crie uma nova tupla concatenando a tupla do exercício anterior com o e-mail\n",
        "do cliente. Imprima a nova tupla.\n",
        "'''\n",
        "# Crie uma nova tupla concatenando a tupla do exercício anterior com o e-mail do cliente.\n",
        "\n",
        "email = ('maiacastro@gmail.com',)\n",
        "tupla_nova = clientes_tupla + email\n",
        "# Imprima a nova tupla.\n",
        "print(f'Tupla nova: {tupla_nova}')"
      ],
      "metadata": {
        "id": "tIzWFwzc5GQ8",
        "colab": {
          "base_uri": "https://localhost:8080/"
        },
        "outputId": "c7a829e4-1b3a-43b0-ff15-50aa73f3dc69"
      },
      "execution_count": null,
      "outputs": [
        {
          "output_type": "stream",
          "name": "stdout",
          "text": [
            "Tupla nova: ('Maia Castro', 33, 65, 1.59, 'maiacastro@gmail.com')\n"
          ]
        }
      ]
    },
    {
      "cell_type": "markdown",
      "source": [
        "# 8 - Dicionários"
      ],
      "metadata": {
        "id": "-zg06dPu5ZJC"
      }
    },
    {
      "cell_type": "code",
      "source": [
        "'''\n",
        "8.1. Crie um dicionário com informações de um cliente\n",
        "(nome, idade, peso, altura). Imprima o valor associado à chave 'nome'.\n",
        "'''\n",
        "\n",
        "# Crie um dicionário com informações de um cliente (nome, idade, peso, altura).\n",
        "cliente = {'nome': 'Cecilia',\n",
        "           'idade': 32,\n",
        "           'peso': 64,\n",
        "           'altura': 1.50}\n",
        "\n",
        "# Imprima o valor associado à chave 'nome'.\n",
        "\n",
        "print(f'O valor associado à chave \"nome\" é: {cliente[\"nome\"]}\\n')"
      ],
      "metadata": {
        "id": "E_wd3pdX5clA",
        "colab": {
          "base_uri": "https://localhost:8080/"
        },
        "outputId": "a95c3b2d-8b2b-438e-ccc0-dcf08b7e8002"
      },
      "execution_count": null,
      "outputs": [
        {
          "output_type": "stream",
          "name": "stdout",
          "text": [
            "O valor associado à chave \"nome\" é: Cecilia\n",
            "\n"
          ]
        }
      ]
    },
    {
      "cell_type": "code",
      "source": [
        "'''\n",
        "8.2. Adicione uma nova chave 'email' ao dicionário do exercício anterior e\n",
        "imprima o dicionário atualizado.\n",
        "'''\n",
        "# Crie um dicionário com informações de um cliente (nome, idade, peso, altura).\n",
        "cliente = {'nome': 'Cecilia',\n",
        "           'idade': 32,\n",
        "           'peso': 64,\n",
        "           'altura': 1.50}\n",
        "\n",
        "# dicione uma nova chave 'email' ao dicionário do exercício anterior e\n",
        "\n",
        "cliente['email'] = 'cecilia32@gamil.com'\n",
        "\n",
        "# imprima o dicionário atualizado.\n",
        "\n",
        "print(f'Dicionario cliente com o novo dado \"email\":\\n{cliente}')\n"
      ],
      "metadata": {
        "id": "kM-tUW7o5eK7",
        "colab": {
          "base_uri": "https://localhost:8080/"
        },
        "outputId": "5153c65e-d4be-43fe-b6ad-f57aa9072387"
      },
      "execution_count": null,
      "outputs": [
        {
          "output_type": "stream",
          "name": "stdout",
          "text": [
            "Dicionario cliente com o novo dado \"email\":\n",
            "{'nome': 'Cecilia', 'idade': 32, 'peso': 64, 'altura': 1.5, 'email': 'cecilia32@gamil.com'}\n"
          ]
        }
      ]
    },
    {
      "cell_type": "code",
      "source": [
        "'''\n",
        "8.3. Remova a chave 'peso' do dicionário verifique se a chave 'endereço' está\n",
        "no dicionário. Imprima os resultados.\n",
        "'''\n",
        "cliente = {'nome': 'Cecilia',\n",
        "           'idade': 32,\n",
        "           'peso': 64,\n",
        "           'altura': 1.50}\n",
        "\n",
        "# Remova a chave 'peso' do dicionário\n",
        "del cliente['peso']\n",
        "print(f'O dicionario após remover a chave \"peso\":\\n{cliente}\\n')\n",
        "\n",
        "# verifique se a chave 'endereço' está no dicionário.\n",
        "\n",
        "if 'endereço' in cliente:\n",
        "  print(f'Verifique se a chave endereço está no dicionário:\"\\nA chave \"endereço\" se encontra no dicionario CLIENTE!')\n",
        "else:\n",
        "  print(f'Verifique se a chave endereço está no dicionário:\\nA chave \"endereço\" não se encontra no dicionario CLIENTE!')\n",
        "\n",
        "# Imprima os resultados.\n"
      ],
      "metadata": {
        "id": "xFhFuFOV5ffs",
        "colab": {
          "base_uri": "https://localhost:8080/"
        },
        "outputId": "c94a5676-3aed-45f2-b05b-a2350ac84e11"
      },
      "execution_count": null,
      "outputs": [
        {
          "output_type": "stream",
          "name": "stdout",
          "text": [
            "O dicionario após remover a chave \"peso\":\n",
            "{'nome': 'Cecilia', 'idade': 32, 'altura': 1.5}\n",
            "\n",
            "Verifique se a chave endereço está no dicionário:\n",
            "A chave \"endereço\" não se encontra no dicionario CLIENTE!\n"
          ]
        }
      ]
    },
    {
      "cell_type": "markdown",
      "source": [
        "# 9 - Controle de Fluxo"
      ],
      "metadata": {
        "id": "zDOsohbe5sjQ"
      }
    },
    {
      "cell_type": "code",
      "source": [
        "# Condicionais\n",
        "'''\n",
        "9.1. Peça ao usuário para digitar sua idade e verifique se ele é menor de idade,\n",
        " adulto ou idoso. Imprima uma mensagem correspondente.\n",
        "'''\n",
        "# Peça ao usuário para digitar sua idade\n",
        "\n",
        "idade = (int(input('Digite a sua idade: ')))\n",
        "\n",
        "#verifique se ele é menor de idade, adulto ou idoso.\n",
        "\n",
        "if idade < 18:\n",
        "  #Imprima uma mensagem correspondente.\n",
        "  print(f'Você tem {idade} anos, e ainda é menor de idade!')\n",
        "elif idade > 18 and idade < 59:\n",
        "  #Imprima uma mensagem correspondente.\n",
        "  print(f'Você tem {idade} anos, e já é maior de idade!')\n",
        "else:\n",
        "  #Imprima uma mensagem correspondente.\n",
        "  print(f'Você tem {idade} anos, e já é um idoso!')"
      ],
      "metadata": {
        "id": "efFgv5Xx5wFC",
        "colab": {
          "base_uri": "https://localhost:8080/"
        },
        "outputId": "5bd6c59e-cf1e-41bf-c1a3-0dac76270b8c"
      },
      "execution_count": null,
      "outputs": [
        {
          "output_type": "stream",
          "name": "stdout",
          "text": [
            "Digite a sua idade: 34\n",
            "Você tem 34 anos, e já é maior de idade!\n"
          ]
        }
      ]
    },
    {
      "cell_type": "code",
      "source": [
        "# Condicionais\n",
        "'''\n",
        "9.2. Peça ao usuário para digitar uma nota (0 a 100) e imprima se ele foi\n",
        "aprovado (nota >= 60) ou reprovado.\n",
        "'''\n",
        "#  Peça ao usuário para digitar uma nota (0 a 100)\n",
        "\n",
        "nota = int(input('Digite sua nota de 0 a 100: '))\n",
        "\n",
        "# imprima se ele foi aprovado (nota >= 60) ou reprovado\n",
        "\n",
        "if nota >= 60:\n",
        "  print(f'\\nSua nota é {nota} e você está APROVADO!!')\n",
        "else:\n",
        "  print(f'\\nSua nota é {nota} e você está REPROVADO!!')\n",
        "\n",
        "\n"
      ],
      "metadata": {
        "id": "pse5b4NO52OP",
        "colab": {
          "base_uri": "https://localhost:8080/"
        },
        "outputId": "6e914aba-fbc6-4f81-9630-9d036e08c961"
      },
      "execution_count": null,
      "outputs": [
        {
          "output_type": "stream",
          "name": "stdout",
          "text": [
            "Digite sua nota de 0 a 100: 23\n",
            "\n",
            "Sua nota é 23 e você está REPROVADO!!\n"
          ]
        }
      ]
    },
    {
      "cell_type": "code",
      "source": [
        "# Loop For\n",
        "'''\n",
        "9.3. Crie uma lista com os nomes de cinco cidades. Use um loop for para imprimir\n",
        "cada nome de cidade.\n",
        "'''\n",
        "\n",
        "# Crie uma lista com os nomes de cinco cidades.\n",
        "\n",
        "cidades = ['São Paulo',\n",
        "           'Congonhas',\n",
        "           'Conselheiro Lafaiete',\n",
        "           'Ouro Branco',\n",
        "           'Ouro Preto'\n",
        "           ]\n",
        "\n",
        "# Use um loop for para imprimir cada nome de cidade.\n",
        "\n",
        "for nome in cidades:\n",
        "  print(f'{nome}')"
      ],
      "metadata": {
        "id": "inMnGHFy525K",
        "colab": {
          "base_uri": "https://localhost:8080/"
        },
        "outputId": "6a5e1b8f-48d7-4d3b-c23f-6e102dfaf321"
      },
      "execution_count": null,
      "outputs": [
        {
          "output_type": "stream",
          "name": "stdout",
          "text": [
            "São Paulo\n",
            "Congonhas\n",
            "Conselheiro Lafaiete\n",
            "Ouro Branco\n",
            "Ouro Preto\n"
          ]
        }
      ]
    },
    {
      "cell_type": "code",
      "source": [
        "# Loop For\n",
        "'''\n",
        "9.4. Crie uma lista com os números de 1 a 10. Use um loop for para imprimir o\n",
        "quadrado de cada número.\n",
        "'''\n",
        "numeros = []\n",
        "\n",
        "# Crie uma lista com os números de 1 a 10.\n",
        "\n",
        "for numero in range(0,11):\n",
        "  numeros.append(numero)\n",
        "print(f'Lista com os números de 1 a 10:\\n{numeros}\\n')\n",
        "\n",
        "# Use um loop for para imprimir o quadrado de cada número\n",
        "\n",
        "for numero in numeros:\n",
        "  quandrado = numero ** 2\n",
        "  print(f'O quadrado do numero {numero} é {quandrado}')"
      ],
      "metadata": {
        "id": "GitTfGfM539Y",
        "colab": {
          "base_uri": "https://localhost:8080/"
        },
        "outputId": "61938930-f359-4f6c-9289-5ef8f410493c"
      },
      "execution_count": null,
      "outputs": [
        {
          "output_type": "stream",
          "name": "stdout",
          "text": [
            "Lista com os números de 1 a 10:\n",
            "[0, 1, 2, 3, 4, 5, 6, 7, 8, 9, 10]\n",
            "\n",
            "O quadrado do numero 0 é 0\n",
            "O quadrado do numero 1 é 1\n",
            "O quadrado do numero 2 é 4\n",
            "O quadrado do numero 3 é 9\n",
            "O quadrado do numero 4 é 16\n",
            "O quadrado do numero 5 é 25\n",
            "O quadrado do numero 6 é 36\n",
            "O quadrado do numero 7 é 49\n",
            "O quadrado do numero 8 é 64\n",
            "O quadrado do numero 9 é 81\n",
            "O quadrado do numero 10 é 100\n"
          ]
        }
      ]
    },
    {
      "cell_type": "markdown",
      "source": [
        "# 10 - Estudo de caso 01"
      ],
      "metadata": {
        "id": "_vJUEjo_6mWX"
      }
    },
    {
      "cell_type": "code",
      "source": [
        "'''\n",
        "Contexto:\n",
        "Uma empresa precisa registrar informações sobre seus clientes e calcular o IMC\n",
        "(Índice de Massa Corporal) de cada um deles. As informações devem ser\n",
        "armazenadas em um dicionário e exibidas ao final.\n",
        "'''\n",
        "\n",
        "\n",
        "'''\n",
        "Requisitos:\n",
        "Peça ao usuário para inserir os seguintes dados de um cliente:\n",
        "Nome\n",
        "Idade\n",
        "Peso (em kg)\n",
        "Altura (em metros)\n",
        "E-mail\n",
        "Armazene essas informações em um dicionário.\n",
        "Calcule o IMC do cliente (IMC = Peso / (Altura * Altura)) e adicione esse valor ao dicionário.\n",
        "Exiba todas as informações do cliente, incluindo o IMC arredondado para duas casas decimais.\n",
        "\n",
        "'''\n",
        "clientes = {'nome': [],\n",
        "            'idade': [],\n",
        "            'peso': [],\n",
        "            'altura': [],\n",
        "            'email': [],\n",
        "            'imc':[]\n",
        "            }\n",
        "\n",
        "# Peça ao usuário para inserir os seguintes dados de um cliente:\n",
        "\n",
        "def cadastrar_clientes():\n",
        "  mais_clientes = 1\n",
        "\n",
        "  while mais_clientes == 1:\n",
        "\n",
        "    nome = input('Digite o seu nome: ')\n",
        "    idade = int(input('Digite a sua idade: '))\n",
        "    peso = float(input('Digite o seu peso: '))\n",
        "    altura = float(input('Digite a sua altura: '))\n",
        "    email = input('Digite o seu email: ')\n",
        "\n",
        "  #Armazene essas informações em um dicionário:\n",
        "\n",
        "    clientes['nome'].append(nome)\n",
        "    clientes['idade'].append(idade)\n",
        "    clientes['peso'].append(peso)\n",
        "    clientes['altura'].append(altura)\n",
        "    clientes['email'].append(email)\n",
        "\n",
        "    imc = round(peso/(altura ** 2), 2)\n",
        "    clientes['imc'].append(imc)\n",
        "\n",
        "    print(f'\\nDESEJA CADASTAR MAIS CLIENTES?\\n\\n')\n",
        "    mais_clientes = int(input('1 = SIM\\n2 = NÃO'))\n",
        "    if mais_clientes == 2:\n",
        "\n",
        "      print(f'\\nObrigada pelo cadastro!')\n",
        "\n",
        "\n",
        "cadastrar_clientes()\n",
        "\n",
        "\n",
        "# Calcule o IMC do cliente (IMC = Peso / (Altura * Altura)) e adicione esse valor ao dicionário.\n",
        "\n",
        "# Imprimindo o dicionario \"cadastrar clientes\":\n",
        "\n",
        "print(f'\\nDicionário do cliente:\\n{clientes}')"
      ],
      "metadata": {
        "id": "llIsNhsG6l_z",
        "colab": {
          "base_uri": "https://localhost:8080/"
        },
        "outputId": "bb8fbf2f-ebed-4a3c-a3cb-f8745eaba22c"
      },
      "execution_count": null,
      "outputs": [
        {
          "output_type": "stream",
          "name": "stdout",
          "text": [
            "Digite o seu nome: isa\n",
            "Digite a sua idade: 29\n",
            "Digite o seu peso: 78\n",
            "Digite a sua altura: 1.67\n",
            "Digite o seu email: isa@ks\n",
            "\n",
            "DESEJA CADASTAR MAIS CLIENTES?\n",
            "\n",
            "\n",
            "1 = SIM\n",
            "2 = NÃO1\n",
            "Digite o seu nome: lua\n",
            "Digite a sua idade: 34\n",
            "Digite o seu peso: 65\n",
            "Digite a sua altura: 1.7\n",
            "Digite o seu email: lua@msd\n",
            "\n",
            "DESEJA CADASTAR MAIS CLIENTES?\n",
            "\n",
            "\n",
            "1 = SIM\n",
            "2 = NÃO2\n",
            "\n",
            "Obrigada pelo cadastro!\n",
            "[27.97, 22.49]\n",
            "\n",
            "Dicionário do cliente:\n",
            "{'nome': ['isa', 'lua'], 'idade': [29, 34], 'peso': [78.0, 65.0], 'altura': [1.67, 1.7], 'email': ['isa@ks', 'lua@msd'], 'imc': [27.97, 22.49]}\n"
          ]
        }
      ]
    },
    {
      "cell_type": "markdown",
      "source": [
        "# 11 - Estudo de Caso 02"
      ],
      "metadata": {
        "id": "_Yi8lRKQ68B3"
      }
    },
    {
      "cell_type": "code",
      "source": [
        "'''\n",
        "Contexto:\n",
        "Uma escola precisa analisar as notas de seus alunos e determinar se cada aluno\n",
        "foi aprovado ou reprovado. As notas serão armazenadas em uma lista e a análise\n",
        "deve ser realizada em um loop.\n",
        "'''\n",
        "\n",
        "'''\n",
        "Requisitos:\n",
        "Peça ao usuário para inserir o nome e a nota de cinco alunos.\n",
        "Armazene os nomes e as notas em listas separadas.\n",
        "Para cada aluno, verifique se a nota é maior ou igual a 60. Se sim, o aluno está\n",
        "aprovado; caso contrário, está reprovado.\n",
        "Exiba uma mensagem para cada aluno informando seu nome, nota e se foi aprovado\n",
        "ou reprovado.\n",
        "'''\n",
        "\n",
        "# Peça ao usuário para inserir o nome e a nota de cinco alunos.\n",
        "nota_aluno = []\n",
        "nome = []\n",
        "\n",
        "for alunos in range(5):\n",
        "  # Peça ao usuário para inserir o nome e a nota de cinco alunos.\n",
        "  nomes = input('Digite o nome do aluno: ')\n",
        "  notas = int(input('Digite a nota do aluno: '))\n",
        "\n",
        "  # Armazene os nomes e as notas em listas separadas\n",
        "  nome.append(nomes)\n",
        "  nota_aluno.append(notas)\n",
        " # Para cada aluno, verifique se a nota é maior ou igual a 60. Se sim, o aluno está aprovado; caso contrário, está reprovado.\n",
        "for nota in range(5):\n",
        "  if nota_aluno[nota] >= 60:\n",
        "    print(f'Aluno(a): {nome[nota]} tem a Nota: {nota_aluno[nota]}, e esta APROVADO!!!')\n",
        "  else:\n",
        "    print(f'Aluno(a): {nome[nota]} tem a Nota: {nota_aluno[nota]}, e esta REPROVADO!!!')"
      ],
      "metadata": {
        "colab": {
          "base_uri": "https://localhost:8080/"
        },
        "id": "2AWWHmmNznYa",
        "outputId": "e9e9a556-a62c-4a89-b5ea-86e89595d4e1"
      },
      "execution_count": null,
      "outputs": [
        {
          "output_type": "stream",
          "name": "stdout",
          "text": [
            "Digite o nome do aluno: Laura\n",
            "Digite a nota do aluno: 88\n",
            "Digite o nome do aluno: Thalia\n",
            "Digite a nota do aluno: 67\n",
            "Digite o nome do aluno: Caio\n",
            "Digite a nota do aluno: 45\n",
            "Digite o nome do aluno: Jose\n",
            "Digite a nota do aluno: 99\n",
            "Digite o nome do aluno: Juraci\n",
            "Digite a nota do aluno: 58\n",
            "Aluno(a): Laura tem a Nota: 88, e esta APROVADO!!!\n",
            "Aluno(a): Thalia tem a Nota: 67, e esta APROVADO!!!\n",
            "Aluno(a): Caio tem a Nota: 45, e esta REPROVADO!!!\n",
            "Aluno(a): Jose tem a Nota: 99, e esta APROVADO!!!\n",
            "Aluno(a): Juraci tem a Nota: 58, e esta REPROVADO!!!\n"
          ]
        }
      ]
    },
    {
      "cell_type": "markdown",
      "source": [
        "# 12 - Estudo de caso 03"
      ],
      "metadata": {
        "id": "DoDAFqG37QWG"
      }
    },
    {
      "cell_type": "code",
      "source": [
        "'''\n",
        "Contexto\n",
        "Uma empresa deseja realizar uma pesquisa de opinião com cinco participantes\n",
        "sobre um novo produto. As respostas devem ser armazenadas e analisadas para\n",
        "verificar a satisfação dos clientes.\n",
        "'''\n",
        "\n",
        "'''\n",
        "Requisitos\n",
        "Peça ao usuário para inserir o nome e a opinião (satisfeito/insatisfeito) de\n",
        "cinco participantes.\n",
        "Armazene os nomes e as opiniões em um dicionário.\n",
        "Conte o número de participantes satisfeitos e insatisfeitos.\n",
        "Exiba a lista de participantes satisfeitos e insatisfeitos, bem como o número\n",
        "total de cada categoria.\n",
        "'''\n",
        "satisfeito = []\n",
        "insatisfeito = []\n",
        "clientes = {}\n",
        "\n",
        "while len(clientes) < 5:\n",
        "  Nome = input('Digite teu nome: ')\n",
        "  pesquisa = input('Você esta satisfeito com o atendimento?  ')\n",
        "  clientes[Nome] = pesquisa\n",
        "\n",
        "print(f'\\n{clientes}')\n",
        "\n",
        "qnt_satisfeito = list(clientes.values()).count('satisfeitos')\n",
        "print(f'Quantidade de Satisfeitos: {qnt_satisfeito}')\n",
        "\n",
        "qnt_insatisfeito = list(clientes.values()).count('insatisfeitos')\n",
        "print(f'Quantidade de Insatisfeitos: {qnt_insatisfeito}')"
      ],
      "metadata": {
        "colab": {
          "base_uri": "https://localhost:8080/"
        },
        "id": "Oj-IvruQpiS0",
        "outputId": "c30eba55-96d3-49f1-8a2d-bf7fd2be9acb"
      },
      "execution_count": null,
      "outputs": [
        {
          "output_type": "stream",
          "name": "stdout",
          "text": [
            "Digite teu nome: Luan\n",
            "Você esta satisfeito com o atendimento?  satisfeitos\n",
            "Digite teu nome: Luana\n",
            "Você esta satisfeito com o atendimento?  insatisfeitos\n",
            "Digite teu nome: Joana\n",
            "Você esta satisfeito com o atendimento?  satisfeitos\n",
            "Digite teu nome: Juan\n",
            "Você esta satisfeito com o atendimento?  insatisfeitos\n",
            "Digite teu nome: Naty\n",
            "Você esta satisfeito com o atendimento?  insatisfeitos\n",
            "\n",
            "{'Luan': 'satisfeitos', 'Luana': 'insatisfeitos', 'Joana': 'satisfeitos', 'Juan': 'insatisfeitos', 'Naty': 'insatisfeitos'}\n",
            "Satisfeitos: 2\n",
            "Insatisfeitos: 3\n"
          ]
        }
      ]
    }
  ]
}