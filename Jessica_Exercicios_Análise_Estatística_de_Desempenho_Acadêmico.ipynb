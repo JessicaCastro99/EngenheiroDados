{
  "cells": [
    {
      "cell_type": "code",
      "source": [
        "import pandas as pd\n",
        "\n",
        "\n",
        "# Criando uma tabela de exemplo com dados de uma escola\n",
        "dados_escola = {\n",
        "    \"nome\": [\"Alice\", \"Bruno\", \"Carla\", \"Daniel\", \"Eduarda\", \"Felipe\", \"Giovana\", \"Henrique\", \"Isabela\", \"João\"],\n",
        "    \"idade\": [16, 17, 16, 15, 16, 17, 15, 16, 17, 15],\n",
        "    \"nota_prova1\": [7.0, 5.5, None, 9.0, 6.0, 4.0, 8.5, 6.5, 10.0, 7.5],\n",
        "    \"nota_prova2\": [8.5, 6.0, 7.5, 8.5, 5.5, 5.0, 9.0, None, 10.0, 7.0],\n",
        "    \"nota_trabalho\": [9.0, None, 8.0, 10.0, 6.5, 4.5, 9.5, 7.0, 10.0, 8.0],\n",
        "    \"horas_estudo\": [12, 10, 9, None, 8, 6, 13, 7, 15, 11]\n",
        "}\n",
        "\n",
        "df_escola = pd.DataFrame(dados_escola)\n",
        "\n",
        "\n",
        "df_escola"
      ],
      "metadata": {
        "id": "GUYceK5TtW3J",
        "outputId": "6d448c9a-dbd8-4637-9fb4-86c537e34db7",
        "colab": {
          "base_uri": "https://localhost:8080/",
          "height": 363
        }
      },
      "execution_count": null,
      "outputs": [
        {
          "output_type": "execute_result",
          "data": {
            "text/plain": [
              "       nome  idade  nota_prova1  nota_prova2  nota_trabalho  horas_estudo\n",
              "0     Alice     16          7.0          8.5            9.0          12.0\n",
              "1     Bruno     17          5.5          6.0            NaN          10.0\n",
              "2     Carla     16          NaN          7.5            8.0           9.0\n",
              "3    Daniel     15          9.0          8.5           10.0           NaN\n",
              "4   Eduarda     16          6.0          5.5            6.5           8.0\n",
              "5    Felipe     17          4.0          5.0            4.5           6.0\n",
              "6   Giovana     15          8.5          9.0            9.5          13.0\n",
              "7  Henrique     16          6.5          NaN            7.0           7.0\n",
              "8   Isabela     17         10.0         10.0           10.0          15.0\n",
              "9      João     15          7.5          7.0            8.0          11.0"
            ],
            "text/html": [
              "\n",
              "  <div id=\"df-41f5f069-8688-4641-90b4-ff91ba83a048\" class=\"colab-df-container\">\n",
              "    <div>\n",
              "<style scoped>\n",
              "    .dataframe tbody tr th:only-of-type {\n",
              "        vertical-align: middle;\n",
              "    }\n",
              "\n",
              "    .dataframe tbody tr th {\n",
              "        vertical-align: top;\n",
              "    }\n",
              "\n",
              "    .dataframe thead th {\n",
              "        text-align: right;\n",
              "    }\n",
              "</style>\n",
              "<table border=\"1\" class=\"dataframe\">\n",
              "  <thead>\n",
              "    <tr style=\"text-align: right;\">\n",
              "      <th></th>\n",
              "      <th>nome</th>\n",
              "      <th>idade</th>\n",
              "      <th>nota_prova1</th>\n",
              "      <th>nota_prova2</th>\n",
              "      <th>nota_trabalho</th>\n",
              "      <th>horas_estudo</th>\n",
              "    </tr>\n",
              "  </thead>\n",
              "  <tbody>\n",
              "    <tr>\n",
              "      <th>0</th>\n",
              "      <td>Alice</td>\n",
              "      <td>16</td>\n",
              "      <td>7.0</td>\n",
              "      <td>8.5</td>\n",
              "      <td>9.0</td>\n",
              "      <td>12.0</td>\n",
              "    </tr>\n",
              "    <tr>\n",
              "      <th>1</th>\n",
              "      <td>Bruno</td>\n",
              "      <td>17</td>\n",
              "      <td>5.5</td>\n",
              "      <td>6.0</td>\n",
              "      <td>NaN</td>\n",
              "      <td>10.0</td>\n",
              "    </tr>\n",
              "    <tr>\n",
              "      <th>2</th>\n",
              "      <td>Carla</td>\n",
              "      <td>16</td>\n",
              "      <td>NaN</td>\n",
              "      <td>7.5</td>\n",
              "      <td>8.0</td>\n",
              "      <td>9.0</td>\n",
              "    </tr>\n",
              "    <tr>\n",
              "      <th>3</th>\n",
              "      <td>Daniel</td>\n",
              "      <td>15</td>\n",
              "      <td>9.0</td>\n",
              "      <td>8.5</td>\n",
              "      <td>10.0</td>\n",
              "      <td>NaN</td>\n",
              "    </tr>\n",
              "    <tr>\n",
              "      <th>4</th>\n",
              "      <td>Eduarda</td>\n",
              "      <td>16</td>\n",
              "      <td>6.0</td>\n",
              "      <td>5.5</td>\n",
              "      <td>6.5</td>\n",
              "      <td>8.0</td>\n",
              "    </tr>\n",
              "    <tr>\n",
              "      <th>5</th>\n",
              "      <td>Felipe</td>\n",
              "      <td>17</td>\n",
              "      <td>4.0</td>\n",
              "      <td>5.0</td>\n",
              "      <td>4.5</td>\n",
              "      <td>6.0</td>\n",
              "    </tr>\n",
              "    <tr>\n",
              "      <th>6</th>\n",
              "      <td>Giovana</td>\n",
              "      <td>15</td>\n",
              "      <td>8.5</td>\n",
              "      <td>9.0</td>\n",
              "      <td>9.5</td>\n",
              "      <td>13.0</td>\n",
              "    </tr>\n",
              "    <tr>\n",
              "      <th>7</th>\n",
              "      <td>Henrique</td>\n",
              "      <td>16</td>\n",
              "      <td>6.5</td>\n",
              "      <td>NaN</td>\n",
              "      <td>7.0</td>\n",
              "      <td>7.0</td>\n",
              "    </tr>\n",
              "    <tr>\n",
              "      <th>8</th>\n",
              "      <td>Isabela</td>\n",
              "      <td>17</td>\n",
              "      <td>10.0</td>\n",
              "      <td>10.0</td>\n",
              "      <td>10.0</td>\n",
              "      <td>15.0</td>\n",
              "    </tr>\n",
              "    <tr>\n",
              "      <th>9</th>\n",
              "      <td>João</td>\n",
              "      <td>15</td>\n",
              "      <td>7.5</td>\n",
              "      <td>7.0</td>\n",
              "      <td>8.0</td>\n",
              "      <td>11.0</td>\n",
              "    </tr>\n",
              "  </tbody>\n",
              "</table>\n",
              "</div>\n",
              "    <div class=\"colab-df-buttons\">\n",
              "\n",
              "  <div class=\"colab-df-container\">\n",
              "    <button class=\"colab-df-convert\" onclick=\"convertToInteractive('df-41f5f069-8688-4641-90b4-ff91ba83a048')\"\n",
              "            title=\"Convert this dataframe to an interactive table.\"\n",
              "            style=\"display:none;\">\n",
              "\n",
              "  <svg xmlns=\"http://www.w3.org/2000/svg\" height=\"24px\" viewBox=\"0 -960 960 960\">\n",
              "    <path d=\"M120-120v-720h720v720H120Zm60-500h600v-160H180v160Zm220 220h160v-160H400v160Zm0 220h160v-160H400v160ZM180-400h160v-160H180v160Zm440 0h160v-160H620v160ZM180-180h160v-160H180v160Zm440 0h160v-160H620v160Z\"/>\n",
              "  </svg>\n",
              "    </button>\n",
              "\n",
              "  <style>\n",
              "    .colab-df-container {\n",
              "      display:flex;\n",
              "      gap: 12px;\n",
              "    }\n",
              "\n",
              "    .colab-df-convert {\n",
              "      background-color: #E8F0FE;\n",
              "      border: none;\n",
              "      border-radius: 50%;\n",
              "      cursor: pointer;\n",
              "      display: none;\n",
              "      fill: #1967D2;\n",
              "      height: 32px;\n",
              "      padding: 0 0 0 0;\n",
              "      width: 32px;\n",
              "    }\n",
              "\n",
              "    .colab-df-convert:hover {\n",
              "      background-color: #E2EBFA;\n",
              "      box-shadow: 0px 1px 2px rgba(60, 64, 67, 0.3), 0px 1px 3px 1px rgba(60, 64, 67, 0.15);\n",
              "      fill: #174EA6;\n",
              "    }\n",
              "\n",
              "    .colab-df-buttons div {\n",
              "      margin-bottom: 4px;\n",
              "    }\n",
              "\n",
              "    [theme=dark] .colab-df-convert {\n",
              "      background-color: #3B4455;\n",
              "      fill: #D2E3FC;\n",
              "    }\n",
              "\n",
              "    [theme=dark] .colab-df-convert:hover {\n",
              "      background-color: #434B5C;\n",
              "      box-shadow: 0px 1px 3px 1px rgba(0, 0, 0, 0.15);\n",
              "      filter: drop-shadow(0px 1px 2px rgba(0, 0, 0, 0.3));\n",
              "      fill: #FFFFFF;\n",
              "    }\n",
              "  </style>\n",
              "\n",
              "    <script>\n",
              "      const buttonEl =\n",
              "        document.querySelector('#df-41f5f069-8688-4641-90b4-ff91ba83a048 button.colab-df-convert');\n",
              "      buttonEl.style.display =\n",
              "        google.colab.kernel.accessAllowed ? 'block' : 'none';\n",
              "\n",
              "      async function convertToInteractive(key) {\n",
              "        const element = document.querySelector('#df-41f5f069-8688-4641-90b4-ff91ba83a048');\n",
              "        const dataTable =\n",
              "          await google.colab.kernel.invokeFunction('convertToInteractive',\n",
              "                                                    [key], {});\n",
              "        if (!dataTable) return;\n",
              "\n",
              "        const docLinkHtml = 'Like what you see? Visit the ' +\n",
              "          '<a target=\"_blank\" href=https://colab.research.google.com/notebooks/data_table.ipynb>data table notebook</a>'\n",
              "          + ' to learn more about interactive tables.';\n",
              "        element.innerHTML = '';\n",
              "        dataTable['output_type'] = 'display_data';\n",
              "        await google.colab.output.renderOutput(dataTable, element);\n",
              "        const docLink = document.createElement('div');\n",
              "        docLink.innerHTML = docLinkHtml;\n",
              "        element.appendChild(docLink);\n",
              "      }\n",
              "    </script>\n",
              "  </div>\n",
              "\n",
              "\n",
              "<div id=\"df-eb4f495b-b524-47ef-9704-13788b9f6ff6\">\n",
              "  <button class=\"colab-df-quickchart\" onclick=\"quickchart('df-eb4f495b-b524-47ef-9704-13788b9f6ff6')\"\n",
              "            title=\"Suggest charts\"\n",
              "            style=\"display:none;\">\n",
              "\n",
              "<svg xmlns=\"http://www.w3.org/2000/svg\" height=\"24px\"viewBox=\"0 0 24 24\"\n",
              "     width=\"24px\">\n",
              "    <g>\n",
              "        <path d=\"M19 3H5c-1.1 0-2 .9-2 2v14c0 1.1.9 2 2 2h14c1.1 0 2-.9 2-2V5c0-1.1-.9-2-2-2zM9 17H7v-7h2v7zm4 0h-2V7h2v10zm4 0h-2v-4h2v4z\"/>\n",
              "    </g>\n",
              "</svg>\n",
              "  </button>\n",
              "\n",
              "<style>\n",
              "  .colab-df-quickchart {\n",
              "      --bg-color: #E8F0FE;\n",
              "      --fill-color: #1967D2;\n",
              "      --hover-bg-color: #E2EBFA;\n",
              "      --hover-fill-color: #174EA6;\n",
              "      --disabled-fill-color: #AAA;\n",
              "      --disabled-bg-color: #DDD;\n",
              "  }\n",
              "\n",
              "  [theme=dark] .colab-df-quickchart {\n",
              "      --bg-color: #3B4455;\n",
              "      --fill-color: #D2E3FC;\n",
              "      --hover-bg-color: #434B5C;\n",
              "      --hover-fill-color: #FFFFFF;\n",
              "      --disabled-bg-color: #3B4455;\n",
              "      --disabled-fill-color: #666;\n",
              "  }\n",
              "\n",
              "  .colab-df-quickchart {\n",
              "    background-color: var(--bg-color);\n",
              "    border: none;\n",
              "    border-radius: 50%;\n",
              "    cursor: pointer;\n",
              "    display: none;\n",
              "    fill: var(--fill-color);\n",
              "    height: 32px;\n",
              "    padding: 0;\n",
              "    width: 32px;\n",
              "  }\n",
              "\n",
              "  .colab-df-quickchart:hover {\n",
              "    background-color: var(--hover-bg-color);\n",
              "    box-shadow: 0 1px 2px rgba(60, 64, 67, 0.3), 0 1px 3px 1px rgba(60, 64, 67, 0.15);\n",
              "    fill: var(--button-hover-fill-color);\n",
              "  }\n",
              "\n",
              "  .colab-df-quickchart-complete:disabled,\n",
              "  .colab-df-quickchart-complete:disabled:hover {\n",
              "    background-color: var(--disabled-bg-color);\n",
              "    fill: var(--disabled-fill-color);\n",
              "    box-shadow: none;\n",
              "  }\n",
              "\n",
              "  .colab-df-spinner {\n",
              "    border: 2px solid var(--fill-color);\n",
              "    border-color: transparent;\n",
              "    border-bottom-color: var(--fill-color);\n",
              "    animation:\n",
              "      spin 1s steps(1) infinite;\n",
              "  }\n",
              "\n",
              "  @keyframes spin {\n",
              "    0% {\n",
              "      border-color: transparent;\n",
              "      border-bottom-color: var(--fill-color);\n",
              "      border-left-color: var(--fill-color);\n",
              "    }\n",
              "    20% {\n",
              "      border-color: transparent;\n",
              "      border-left-color: var(--fill-color);\n",
              "      border-top-color: var(--fill-color);\n",
              "    }\n",
              "    30% {\n",
              "      border-color: transparent;\n",
              "      border-left-color: var(--fill-color);\n",
              "      border-top-color: var(--fill-color);\n",
              "      border-right-color: var(--fill-color);\n",
              "    }\n",
              "    40% {\n",
              "      border-color: transparent;\n",
              "      border-right-color: var(--fill-color);\n",
              "      border-top-color: var(--fill-color);\n",
              "    }\n",
              "    60% {\n",
              "      border-color: transparent;\n",
              "      border-right-color: var(--fill-color);\n",
              "    }\n",
              "    80% {\n",
              "      border-color: transparent;\n",
              "      border-right-color: var(--fill-color);\n",
              "      border-bottom-color: var(--fill-color);\n",
              "    }\n",
              "    90% {\n",
              "      border-color: transparent;\n",
              "      border-bottom-color: var(--fill-color);\n",
              "    }\n",
              "  }\n",
              "</style>\n",
              "\n",
              "  <script>\n",
              "    async function quickchart(key) {\n",
              "      const quickchartButtonEl =\n",
              "        document.querySelector('#' + key + ' button');\n",
              "      quickchartButtonEl.disabled = true;  // To prevent multiple clicks.\n",
              "      quickchartButtonEl.classList.add('colab-df-spinner');\n",
              "      try {\n",
              "        const charts = await google.colab.kernel.invokeFunction(\n",
              "            'suggestCharts', [key], {});\n",
              "      } catch (error) {\n",
              "        console.error('Error during call to suggestCharts:', error);\n",
              "      }\n",
              "      quickchartButtonEl.classList.remove('colab-df-spinner');\n",
              "      quickchartButtonEl.classList.add('colab-df-quickchart-complete');\n",
              "    }\n",
              "    (() => {\n",
              "      let quickchartButtonEl =\n",
              "        document.querySelector('#df-eb4f495b-b524-47ef-9704-13788b9f6ff6 button');\n",
              "      quickchartButtonEl.style.display =\n",
              "        google.colab.kernel.accessAllowed ? 'block' : 'none';\n",
              "    })();\n",
              "  </script>\n",
              "</div>\n",
              "\n",
              "  <div id=\"id_9cfc36e9-3c84-4ff3-a278-ba26060fe8ce\">\n",
              "    <style>\n",
              "      .colab-df-generate {\n",
              "        background-color: #E8F0FE;\n",
              "        border: none;\n",
              "        border-radius: 50%;\n",
              "        cursor: pointer;\n",
              "        display: none;\n",
              "        fill: #1967D2;\n",
              "        height: 32px;\n",
              "        padding: 0 0 0 0;\n",
              "        width: 32px;\n",
              "      }\n",
              "\n",
              "      .colab-df-generate:hover {\n",
              "        background-color: #E2EBFA;\n",
              "        box-shadow: 0px 1px 2px rgba(60, 64, 67, 0.3), 0px 1px 3px 1px rgba(60, 64, 67, 0.15);\n",
              "        fill: #174EA6;\n",
              "      }\n",
              "\n",
              "      [theme=dark] .colab-df-generate {\n",
              "        background-color: #3B4455;\n",
              "        fill: #D2E3FC;\n",
              "      }\n",
              "\n",
              "      [theme=dark] .colab-df-generate:hover {\n",
              "        background-color: #434B5C;\n",
              "        box-shadow: 0px 1px 3px 1px rgba(0, 0, 0, 0.15);\n",
              "        filter: drop-shadow(0px 1px 2px rgba(0, 0, 0, 0.3));\n",
              "        fill: #FFFFFF;\n",
              "      }\n",
              "    </style>\n",
              "    <button class=\"colab-df-generate\" onclick=\"generateWithVariable('df_escola')\"\n",
              "            title=\"Generate code using this dataframe.\"\n",
              "            style=\"display:none;\">\n",
              "\n",
              "  <svg xmlns=\"http://www.w3.org/2000/svg\" height=\"24px\"viewBox=\"0 0 24 24\"\n",
              "       width=\"24px\">\n",
              "    <path d=\"M7,19H8.4L18.45,9,17,7.55,7,17.6ZM5,21V16.75L18.45,3.32a2,2,0,0,1,2.83,0l1.4,1.43a1.91,1.91,0,0,1,.58,1.4,1.91,1.91,0,0,1-.58,1.4L9.25,21ZM18.45,9,17,7.55Zm-12,3A5.31,5.31,0,0,0,4.9,8.1,5.31,5.31,0,0,0,1,6.5,5.31,5.31,0,0,0,4.9,4.9,5.31,5.31,0,0,0,6.5,1,5.31,5.31,0,0,0,8.1,4.9,5.31,5.31,0,0,0,12,6.5,5.46,5.46,0,0,0,6.5,12Z\"/>\n",
              "  </svg>\n",
              "    </button>\n",
              "    <script>\n",
              "      (() => {\n",
              "      const buttonEl =\n",
              "        document.querySelector('#id_9cfc36e9-3c84-4ff3-a278-ba26060fe8ce button.colab-df-generate');\n",
              "      buttonEl.style.display =\n",
              "        google.colab.kernel.accessAllowed ? 'block' : 'none';\n",
              "\n",
              "      buttonEl.onclick = () => {\n",
              "        google.colab.notebook.generateWithVariable('df_escola');\n",
              "      }\n",
              "      })();\n",
              "    </script>\n",
              "  </div>\n",
              "\n",
              "    </div>\n",
              "  </div>\n"
            ],
            "application/vnd.google.colaboratory.intrinsic+json": {
              "type": "dataframe",
              "variable_name": "df_escola",
              "summary": "{\n  \"name\": \"df_escola\",\n  \"rows\": 10,\n  \"fields\": [\n    {\n      \"column\": \"nome\",\n      \"properties\": {\n        \"dtype\": \"string\",\n        \"num_unique_values\": 10,\n        \"samples\": [\n          \"Isabela\",\n          \"Bruno\",\n          \"Felipe\"\n        ],\n        \"semantic_type\": \"\",\n        \"description\": \"\"\n      }\n    },\n    {\n      \"column\": \"idade\",\n      \"properties\": {\n        \"dtype\": \"number\",\n        \"std\": 0,\n        \"min\": 15,\n        \"max\": 17,\n        \"num_unique_values\": 3,\n        \"samples\": [\n          16,\n          17,\n          15\n        ],\n        \"semantic_type\": \"\",\n        \"description\": \"\"\n      }\n    },\n    {\n      \"column\": \"nota_prova1\",\n      \"properties\": {\n        \"dtype\": \"number\",\n        \"std\": 1.8671130418673398,\n        \"min\": 4.0,\n        \"max\": 10.0,\n        \"num_unique_values\": 9,\n        \"samples\": [\n          10.0,\n          5.5,\n          8.5\n        ],\n        \"semantic_type\": \"\",\n        \"description\": \"\"\n      }\n    },\n    {\n      \"column\": \"nota_prova2\",\n      \"properties\": {\n        \"dtype\": \"number\",\n        \"std\": 1.7037540250217396,\n        \"min\": 5.0,\n        \"max\": 10.0,\n        \"num_unique_values\": 8,\n        \"samples\": [\n          6.0,\n          9.0,\n          8.5\n        ],\n        \"semantic_type\": \"\",\n        \"description\": \"\"\n      }\n    },\n    {\n      \"column\": \"nota_trabalho\",\n      \"properties\": {\n        \"dtype\": \"number\",\n        \"std\": 1.8276426832884425,\n        \"min\": 4.5,\n        \"max\": 10.0,\n        \"num_unique_values\": 7,\n        \"samples\": [\n          9.0,\n          8.0,\n          9.5\n        ],\n        \"semantic_type\": \"\",\n        \"description\": \"\"\n      }\n    },\n    {\n      \"column\": \"horas_estudo\",\n      \"properties\": {\n        \"dtype\": \"number\",\n        \"std\": 2.9344694769431685,\n        \"min\": 6.0,\n        \"max\": 15.0,\n        \"num_unique_values\": 9,\n        \"samples\": [\n          15.0,\n          10.0,\n          13.0\n        ],\n        \"semantic_type\": \"\",\n        \"description\": \"\"\n      }\n    }\n  ]\n}"
            }
          },
          "metadata": {},
          "execution_count": 2
        }
      ]
    },
    {
      "cell_type": "code",
      "source": [
        "# Carregue os dados e exiba ele\n",
        "\n",
        "df_escola = pd.DataFrame(dados_escola)\n",
        "\n",
        "# Exibir os dados\n",
        "print(df_escola)"
      ],
      "metadata": {
        "colab": {
          "base_uri": "https://localhost:8080/"
        },
        "id": "Vn-zcatNKdkQ",
        "outputId": "1e13acbe-b458-4ed8-ba0c-f91a625f1429"
      },
      "execution_count": null,
      "outputs": [
        {
          "output_type": "stream",
          "name": "stdout",
          "text": [
            "       nome  idade  nota_prova1  nota_prova2  nota_trabalho  horas_estudo\n",
            "0     Alice     16          7.0          8.5            9.0          12.0\n",
            "1     Bruno     17          5.5          6.0            NaN          10.0\n",
            "2     Carla     16          NaN          7.5            8.0           9.0\n",
            "3    Daniel     15          9.0          8.5           10.0           NaN\n",
            "4   Eduarda     16          6.0          5.5            6.5           8.0\n",
            "5    Felipe     17          4.0          5.0            4.5           6.0\n",
            "6   Giovana     15          8.5          9.0            9.5          13.0\n",
            "7  Henrique     16          6.5          NaN            7.0           7.0\n",
            "8   Isabela     17         10.0         10.0           10.0          15.0\n",
            "9      João     15          7.5          7.0            8.0          11.0\n"
          ]
        }
      ]
    },
    {
      "cell_type": "code",
      "source": [
        "# Verifique a existência de valores ausentes (nulos).\n",
        "\n",
        "valores_nulos = df_escola.isnull().sum()\n",
        "\n",
        "print(valores_nulos)\n"
      ],
      "metadata": {
        "colab": {
          "base_uri": "https://localhost:8080/"
        },
        "id": "y2wwNrruKfsh",
        "outputId": "4c21d2df-d34b-416e-944d-f00f57e65da9"
      },
      "execution_count": null,
      "outputs": [
        {
          "output_type": "stream",
          "name": "stdout",
          "text": [
            "nome             0\n",
            "idade            0\n",
            "nota_prova1      1\n",
            "nota_prova2      1\n",
            "nota_trabalho    1\n",
            "horas_estudo     1\n",
            "dtype: int64\n"
          ]
        }
      ]
    },
    {
      "cell_type": "code",
      "source": [
        "# Crie uma nova coluna chamada Nota_Final, que seja a média entre Nota_Prova1, Nota_Prova2 e Nota_Trabalho.\n",
        "\n",
        "# Criar a coluna Nota_Final como a média das três notas\n",
        "df_escola[\"Nota_Final\"] = df_escola[[\"nota_prova1\", \"nota_prova2\", \"nota_trabalho\"]].mean(axis=1)\n",
        "\n",
        "# Exibir o DataFrame atualizado\n",
        "print(df_escola)\n"
      ],
      "metadata": {
        "colab": {
          "base_uri": "https://localhost:8080/"
        },
        "id": "MTv3EkKAKgw0",
        "outputId": "0c50cf8d-e1ab-479a-aac9-9233703bca15"
      },
      "execution_count": null,
      "outputs": [
        {
          "output_type": "stream",
          "name": "stdout",
          "text": [
            "       nome  idade  nota_prova1  nota_prova2  nota_trabalho  horas_estudo  \\\n",
            "0     Alice     16          7.0          8.5            9.0          12.0   \n",
            "1     Bruno     17          5.5          6.0            NaN          10.0   \n",
            "2     Carla     16          NaN          7.5            8.0           9.0   \n",
            "3    Daniel     15          9.0          8.5           10.0           NaN   \n",
            "4   Eduarda     16          6.0          5.5            6.5           8.0   \n",
            "5    Felipe     17          4.0          5.0            4.5           6.0   \n",
            "6   Giovana     15          8.5          9.0            9.5          13.0   \n",
            "7  Henrique     16          6.5          NaN            7.0           7.0   \n",
            "8   Isabela     17         10.0         10.0           10.0          15.0   \n",
            "9      João     15          7.5          7.0            8.0          11.0   \n",
            "\n",
            "   Nota_Final  \n",
            "0    8.166667  \n",
            "1    5.750000  \n",
            "2    7.750000  \n",
            "3    9.166667  \n",
            "4    6.000000  \n",
            "5    4.500000  \n",
            "6    9.000000  \n",
            "7    6.750000  \n",
            "8   10.000000  \n",
            "9    7.500000  \n"
          ]
        }
      ]
    },
    {
      "cell_type": "code",
      "source": [
        "# Para cada linha, preencha os NaNs com a média da linha (das colunas de nota)\n",
        "colunas_nota = [\"nota_prova1\", \"nota_prova2\", \"nota_trabalho\"]\n",
        "\n",
        "for i, row in df_escola.iterrows():\n",
        "    media_aluno = row[colunas_nota].mean()\n",
        "    for coluna in colunas_nota:\n",
        "        if pd.isnull(df_escola.at[i, coluna]):\n",
        "            df_escola.at[i, coluna] = media_aluno\n",
        "\n",
        "# Exibir o DataFrame atualizado\n",
        "print(df_escola)\n"
      ],
      "metadata": {
        "colab": {
          "base_uri": "https://localhost:8080/"
        },
        "id": "M21g-xEWKfrK",
        "outputId": "1c79a79c-5e56-46f5-c32d-834f6808d0e0"
      },
      "execution_count": null,
      "outputs": [
        {
          "output_type": "stream",
          "name": "stdout",
          "text": [
            "       nome  idade  nota_prova1  nota_prova2  nota_trabalho  horas_estudo  \\\n",
            "0     Alice     16         7.00         8.50           9.00          12.0   \n",
            "1     Bruno     17         5.50         6.00           5.75          10.0   \n",
            "2     Carla     16         7.75         7.50           8.00           9.0   \n",
            "3    Daniel     15         9.00         8.50          10.00           NaN   \n",
            "4   Eduarda     16         6.00         5.50           6.50           8.0   \n",
            "5    Felipe     17         4.00         5.00           4.50           6.0   \n",
            "6   Giovana     15         8.50         9.00           9.50          13.0   \n",
            "7  Henrique     16         6.50         6.75           7.00           7.0   \n",
            "8   Isabela     17        10.00        10.00          10.00          15.0   \n",
            "9      João     15         7.50         7.00           8.00          11.0   \n",
            "\n",
            "   Nota_Final  \n",
            "0    8.166667  \n",
            "1    5.750000  \n",
            "2    7.750000  \n",
            "3    9.166667  \n",
            "4    6.000000  \n",
            "5    4.500000  \n",
            "6    9.000000  \n",
            "7    6.750000  \n",
            "8   10.000000  \n",
            "9    7.500000  \n"
          ]
        }
      ]
    },
    {
      "cell_type": "code",
      "source": [
        "# Crie uma coluna Situação com base na Nota_Final:\n",
        "\n",
        "# Aprovado: nota final ≥ 7\n",
        "# Recuperação: 5 ≤ nota final < 7\n",
        "# Reprovado: nota final < 5\n",
        "\n",
        "# Criar ou atualizar a coluna Nota_Final (caso ainda não tenha)\n",
        "df_escola[\"Nota_Final\"] = df_escola[[\"nota_prova1\", \"nota_prova2\", \"nota_trabalho\"]].mean(axis=1)\n",
        "\n",
        "# Criar a coluna Situação com base na Nota_Final\n",
        "df_escola[\"Situação\"] = df_escola[\"Nota_Final\"].apply(\n",
        "    lambda nota: \"Aprovado\" if nota >= 7 else \"Recuperação\" if nota >= 5 else \"Reprovado\"\n",
        ")\n",
        "\n",
        "# Exibir o DataFrame atualizado\n",
        "print(df_escola[[\"nome\", \"Nota_Final\", \"Situação\"]])\n"
      ],
      "metadata": {
        "colab": {
          "base_uri": "https://localhost:8080/"
        },
        "id": "__A00-4gKoQK",
        "outputId": "52e8db71-6255-4f50-c51c-2ec6d073f580"
      },
      "execution_count": null,
      "outputs": [
        {
          "output_type": "stream",
          "name": "stdout",
          "text": [
            "       nome  Nota_Final     Situação\n",
            "0     Alice    8.166667     Aprovado\n",
            "1     Bruno    5.750000  Recuperação\n",
            "2     Carla    7.750000     Aprovado\n",
            "3    Daniel    9.166667     Aprovado\n",
            "4   Eduarda    6.000000  Recuperação\n",
            "5    Felipe    4.500000    Reprovado\n",
            "6   Giovana    9.000000     Aprovado\n",
            "7  Henrique    6.750000  Recuperação\n",
            "8   Isabela   10.000000     Aprovado\n",
            "9      João    7.500000     Aprovado\n"
          ]
        }
      ]
    },
    {
      "cell_type": "code",
      "source": [
        "# Calcule a **mediana** das horas de estudo.\n",
        "mediana_horas = df_escola[\"horas_estudo\"].median()\n",
        "print(f\"Mediana das horas de estudo: {mediana_horas}\")\n"
      ],
      "metadata": {
        "colab": {
          "base_uri": "https://localhost:8080/"
        },
        "id": "lZ6_UXPQLfTc",
        "outputId": "d6242ac6-3341-430c-e598-abad6fef483a"
      },
      "execution_count": null,
      "outputs": [
        {
          "output_type": "stream",
          "name": "stdout",
          "text": [
            "Mediana das horas de estudo: 10.0\n"
          ]
        }
      ]
    },
    {
      "cell_type": "code",
      "source": [
        "#  Calcule a **moda** das notas finais.\n",
        "moda_notas = df_escola[\"Nota_Final\"].mode()\n",
        "\n",
        "print(\"Moda das notas finais:\")\n",
        "print(moda_notas)\n"
      ],
      "metadata": {
        "colab": {
          "base_uri": "https://localhost:8080/"
        },
        "id": "W4v9h10BLipI",
        "outputId": "9a54e69b-4c05-49ee-b54c-aaafceb79cd8"
      },
      "execution_count": null,
      "outputs": [
        {
          "output_type": "stream",
          "name": "stdout",
          "text": [
            "Moda das notas finais:\n",
            "0     4.500000\n",
            "1     5.750000\n",
            "2     6.000000\n",
            "3     6.750000\n",
            "4     7.500000\n",
            "5     7.750000\n",
            "6     8.166667\n",
            "7     9.000000\n",
            "8     9.166667\n",
            "9    10.000000\n",
            "Name: Nota_Final, dtype: float64\n"
          ]
        }
      ]
    },
    {
      "cell_type": "code",
      "source": [
        "#  Calcule a **variância** das idades.\n",
        "\n",
        "variancia_idades = df_escola[\"idade\"].var()\n",
        "\n",
        "print(f\"Variância das idades: {variancia_idades}\")\n"
      ],
      "metadata": {
        "colab": {
          "base_uri": "https://localhost:8080/"
        },
        "id": "gYzd_ChBLjho",
        "outputId": "e32e02ae-14fe-44d2-a537-8432fb773cd9"
      },
      "execution_count": null,
      "outputs": [
        {
          "output_type": "stream",
          "name": "stdout",
          "text": [
            "Variância das idades: 0.6666666666666666\n"
          ]
        }
      ]
    },
    {
      "cell_type": "code",
      "source": [
        "# Calcule o **desvio padrão** das horas de estudo.\n",
        "\n",
        "desvio_padrao_horas = df_escola[\"horas_estudo\"].std()\n",
        "\n",
        "print(f\"Desvio padrão das horas de estudo: {desvio_padrao_horas}\")\n"
      ],
      "metadata": {
        "colab": {
          "base_uri": "https://localhost:8080/"
        },
        "id": "9aF1phOrLv_v",
        "outputId": "84897a39-c3b5-446c-d259-af9cfd82f563"
      },
      "execution_count": null,
      "outputs": [
        {
          "output_type": "stream",
          "name": "stdout",
          "text": [
            "Desvio padrão das horas de estudo: 2.9344694769431685\n"
          ]
        }
      ]
    },
    {
      "cell_type": "code",
      "source": [
        "# Calcule a **amplitude interquartílica (AIQ) das notas finais.\n",
        "\n",
        "# Calcular Q1 e Q3\n",
        "q1 = df_escola[\"Nota_Final\"].quantile(0.25)\n",
        "q3 = df_escola[\"Nota_Final\"].quantile(0.75)\n",
        "\n",
        "# Calcular AIQ\n",
        "aiq = q3 - q1\n",
        "\n",
        "print(f\"Amplitude Interquartílica (AIQ) das notas finais: {aiq}\")"
      ],
      "metadata": {
        "colab": {
          "base_uri": "https://localhost:8080/"
        },
        "id": "u_MAJTOJL3qB",
        "outputId": "ec7d98bd-e5be-4dce-fde1-978fd069b4fe"
      },
      "execution_count": null,
      "outputs": [
        {
          "output_type": "stream",
          "name": "stdout",
          "text": [
            "Amplitude Interquartílica (AIQ) das notas finais: 2.604166666666666\n"
          ]
        }
      ]
    },
    {
      "cell_type": "code",
      "source": [
        "# Crie a **tabela de frequência absolutada coluna Nota_Final.\n",
        "frequencia_absoluta = df_escola[\"Nota_Final\"].value_counts().sort_index()\n",
        "\n",
        "print(\"Tabela de Frequência Absoluta - Nota_Final:\")\n",
        "print(frequencia_absoluta)\n"
      ],
      "metadata": {
        "colab": {
          "base_uri": "https://localhost:8080/"
        },
        "id": "KX1dW1bWMGfw",
        "outputId": "b801c857-744e-49db-8617-982e168c5139"
      },
      "execution_count": null,
      "outputs": [
        {
          "output_type": "stream",
          "name": "stdout",
          "text": [
            "Tabela de Frequência Absoluta - Nota_Final:\n",
            "Nota_Final\n",
            "4.500000     1\n",
            "5.750000     1\n",
            "6.000000     1\n",
            "6.750000     1\n",
            "7.500000     1\n",
            "7.750000     1\n",
            "8.166667     1\n",
            "9.000000     1\n",
            "9.166667     1\n",
            "10.000000    1\n",
            "Name: count, dtype: int64\n"
          ]
        }
      ]
    },
    {
      "cell_type": "code",
      "source": [
        "#  Adicione a **frequência acumulada.\n",
        "# Tabela de frequência absoluta\n",
        "frequencia_absoluta = df_escola[\"Nota_Final\"].value_counts().sort_index()\n",
        "\n",
        "# Frequência acumulada\n",
        "frequencia_acumulada = frequencia_absoluta.cumsum()\n",
        "\n",
        "# Criando um DataFrame com as duas colunas\n",
        "tabela_frequencia = pd.DataFrame({\n",
        "    \"Frequência Absoluta\": frequencia_absoluta,\n",
        "    \"Frequência Acumulada\": frequencia_acumulada\n",
        "})\n",
        "\n",
        "print(\"Tabela de Frequência - Nota_Final:\")\n",
        "print(tabela_frequencia)\n"
      ],
      "metadata": {
        "colab": {
          "base_uri": "https://localhost:8080/"
        },
        "id": "0plFRcowMJqd",
        "outputId": "64c2b88c-ebfb-4c39-a455-b77623ca928c"
      },
      "execution_count": null,
      "outputs": [
        {
          "output_type": "stream",
          "name": "stdout",
          "text": [
            "Tabela de Frequência - Nota_Final:\n",
            "            Frequência Absoluta  Frequência Acumulada\n",
            "Nota_Final                                           \n",
            "4.500000                      1                     1\n",
            "5.750000                      1                     2\n",
            "6.000000                      1                     3\n",
            "6.750000                      1                     4\n",
            "7.500000                      1                     5\n",
            "7.750000                      1                     6\n",
            "8.166667                      1                     7\n",
            "9.000000                      1                     8\n",
            "9.166667                      1                     9\n",
            "10.000000                     1                    10\n"
          ]
        }
      ]
    },
    {
      "cell_type": "code",
      "source": [
        "#Identifique a **nota com maior frequência.\n",
        "\n",
        "nota_mais_frequente = df_escola[\"Nota_Final\"].mode()\n",
        "\n",
        "print(\"Nota(s) com maior frequência:\")\n",
        "print(nota_mais_frequente)\n"
      ],
      "metadata": {
        "colab": {
          "base_uri": "https://localhost:8080/"
        },
        "id": "cV6JeASxMWrr",
        "outputId": "f44b6bc7-f9e0-4ee4-d205-45676a5bfc82"
      },
      "execution_count": null,
      "outputs": [
        {
          "output_type": "stream",
          "name": "stdout",
          "text": [
            "Nota(s) com maior frequência:\n",
            "0     4.500000\n",
            "1     5.750000\n",
            "2     6.000000\n",
            "3     6.750000\n",
            "4     7.500000\n",
            "5     7.750000\n",
            "6     8.166667\n",
            "7     9.000000\n",
            "8     9.166667\n",
            "9    10.000000\n",
            "Name: Nota_Final, dtype: float64\n"
          ]
        }
      ]
    },
    {
      "cell_type": "code",
      "source": [
        "# Calcule os **quartis (Q1, Q2, Q3 e Q4)da Idade.\n",
        "\n",
        "# Quartis\n",
        "q1 = df_escola[\"idade\"].quantile(0.25)\n",
        "q2 = df_escola[\"idade\"].quantile(0.50)  # também conhecido como mediana\n",
        "q3 = df_escola[\"idade\"].quantile(0.75)\n",
        "q4 = df_escola[\"idade\"].max()  # Q4 geralmente se refere ao valor máximo\n",
        "\n",
        "print(f\"Q1 (25%): {q1}\")\n",
        "print(f\"Q2 (50% - Mediana): {q2}\")\n",
        "print(f\"Q3 (75%): {q3}\")\n",
        "print(f\"Q4 (100% - Máximo): {q4}\")\n"
      ],
      "metadata": {
        "colab": {
          "base_uri": "https://localhost:8080/"
        },
        "id": "9NZ_ESRfMaxv",
        "outputId": "646a1523-4451-4094-e3b9-2c57d855e447"
      },
      "execution_count": null,
      "outputs": [
        {
          "output_type": "stream",
          "name": "stdout",
          "text": [
            "Q1 (25%): 15.25\n",
            "Q2 (50% - Mediana): 16.0\n",
            "Q3 (75%): 16.75\n",
            "Q4 (100% - Máximo): 17\n"
          ]
        }
      ]
    },
    {
      "cell_type": "code",
      "source": [
        "# Calcule os **quartis das Notas_Finais.\n",
        "\n",
        "# Quartis das Notas Finais\n",
        "q1 = df_escola[\"Nota_Final\"].quantile(0.25)\n",
        "q2 = df_escola[\"Nota_Final\"].quantile(0.50)  # Mediana\n",
        "q3 = df_escola[\"Nota_Final\"].quantile(0.75)\n",
        "q4 = df_escola[\"Nota_Final\"].max()  # Q4: valor máximo\n",
        "\n",
        "print(f\"Q1 (25%): {q1}\")\n",
        "print(f\"Q2 (50% - Mediana): {q2}\")\n",
        "print(f\"Q3 (75%): {q3}\")\n",
        "print(f\"Q4 (100% - Máximo): {q4}\")\n"
      ],
      "metadata": {
        "colab": {
          "base_uri": "https://localhost:8080/"
        },
        "id": "AF89nWMAMf6K",
        "outputId": "2c7ee115-aea2-4584-eddd-6cb84027056e"
      },
      "execution_count": null,
      "outputs": [
        {
          "output_type": "stream",
          "name": "stdout",
          "text": [
            "Q1 (25%): 6.1875\n",
            "Q2 (50% - Mediana): 7.625\n",
            "Q3 (75%): 8.791666666666666\n",
            "Q4 (100% - Máximo): 10.0\n"
          ]
        }
      ]
    },
    {
      "cell_type": "code",
      "source": [
        "# Quantos alunos estão abaixo do Q2 das notas?\n",
        "\n",
        "# Calcular o Q2 (mediana) da Nota_Final\n",
        "q2 = df_escola[\"Nota_Final\"].quantile(0.50)\n",
        "\n",
        "# Contar quantos alunos têm Nota_Final abaixo do Q2\n",
        "quantidade_abaixo_q2 = df_escola[df_escola[\"Nota_Final\"] < q2].shape[0]\n",
        "\n",
        "print(f\"Quantidade de alunos com Nota_Final abaixo do Q2 (mediana): {quantidade_abaixo_q2}\")\n"
      ],
      "metadata": {
        "colab": {
          "base_uri": "https://localhost:8080/"
        },
        "id": "0iipfmw_M80x",
        "outputId": "3931402c-e00c-4647-e230-b507b56a8ee9"
      },
      "execution_count": null,
      "outputs": [
        {
          "output_type": "stream",
          "name": "stdout",
          "text": [
            "Quantidade de alunos com Nota_Final abaixo do Q2 (mediana): 5\n"
          ]
        }
      ]
    },
    {
      "cell_type": "code",
      "source": [
        "#  Interprete: o que significa um valor estar entre Q1 e Q3 ?\n",
        "\n",
        "# Q1 (25%): 25% dos dados estão abaixo deste valor.\n",
        "\n",
        "# Q3 (75%): 75% dos dados estão abaixo deste valor."
      ],
      "metadata": {
        "id": "u15B0NcTNIyc"
      },
      "execution_count": null,
      "outputs": []
    },
    {
      "cell_type": "code",
      "source": [
        "#  Qual é a amplitude interquartílica das idades? E o que ela nos diz?\n",
        "\n",
        "q1 = df_escola[\"idade\"].quantile(0.25)\n",
        "q3 = df_escola[\"idade\"].quantile(0.75)\n",
        "\n",
        "aiq_idade = q3 - q1\n",
        "\n",
        "print(f\"Amplitude Interquartílica (AIQ) das idades: {aiq_idade}\")\n"
      ],
      "metadata": {
        "colab": {
          "base_uri": "https://localhost:8080/"
        },
        "id": "h9YDgzPbNzMc",
        "outputId": "65af0123-e5c8-4536-8086-b59865ef6724"
      },
      "execution_count": null,
      "outputs": [
        {
          "output_type": "stream",
          "name": "stdout",
          "text": [
            "Amplitude Interquartílica (AIQ) das idades: 1.5\n"
          ]
        }
      ]
    },
    {
      "cell_type": "code",
      "source": [
        "#  Calcule a correlação entre Idade e Nota_Final.\n",
        "\n",
        "correlacao = df_escola[\"idade\"].corr(df_escola[\"Nota_Final\"])\n",
        "print(f\"Correlação entre idade e nota final: {correlacao}\")\n"
      ],
      "metadata": {
        "colab": {
          "base_uri": "https://localhost:8080/"
        },
        "id": "09qvnj3ZPJdO",
        "outputId": "8e8d76a9-f7c7-4594-cac1-51111a218899"
      },
      "execution_count": null,
      "outputs": [
        {
          "output_type": "stream",
          "name": "stdout",
          "text": [
            "Correlação entre idade e nota final: -0.42842038799027304\n"
          ]
        }
      ]
    },
    {
      "cell_type": "code",
      "source": [
        "#   Calcule a correlação entre Horas_de_Estudo e Nota_Final.\n",
        "\n",
        "correlacao_estudo_nota = df_escola[\"horas_estudo\"].corr(df_escola[\"Nota_Final\"])\n",
        "print(f\"Correlação entre horas de estudo e nota final: {correlacao_estudo_nota}\")\n"
      ],
      "metadata": {
        "colab": {
          "base_uri": "https://localhost:8080/"
        },
        "id": "U_IkFhLiPkJw",
        "outputId": "075685da-6dcd-43cd-dab3-fdf986b3fc0a"
      },
      "execution_count": null,
      "outputs": [
        {
          "output_type": "stream",
          "name": "stdout",
          "text": [
            "Correlação entre horas de estudo e nota final: 0.8858106492746803\n"
          ]
        }
      ]
    },
    {
      "cell_type": "code",
      "source": [
        "#  Com base nos resultados, responda:\n",
        "\n",
        "print(f'# Existe relação entre estudar mais e tirar notas maiores?')\n",
        "print(f'\\nSim, dá pra perceber que quem estuda mais tende a tirar notas melhores.\\nA correlação entre as horas de estudo e a nota final foi forte e positiva,\\no que mostra que o esforço realmente compensa. É aquele famoso: quanto mais você se dedica, mais resultado aparece.\\nIsso me fez lembrar como às vezes a gente subestima o poder de uma rotina de estudos bem feita.')\n",
        "\n",
        "print(f'\\n\\n# A idade influencia no desempenho?\\n')\n",
        "\n",
        "print(f'Nesse caso, a idade não teve muito impacto. A correlação foi fraca e quase sem peso,\\nou seja, ser mais novo ou mais velho não influenciou tanto nas notas.\\n Isso mostra que o que realmente faz a diferença não é a idade,\\nmas sim o quanto cada um se dedica e isso é até motivador, porque coloca todos em pé de igualdade.')"
      ],
      "metadata": {
        "colab": {
          "base_uri": "https://localhost:8080/"
        },
        "id": "yJGjA4E8P2SX",
        "outputId": "36831b10-4549-4de5-a7e4-1a8c234cbfbb"
      },
      "execution_count": null,
      "outputs": [
        {
          "output_type": "stream",
          "name": "stdout",
          "text": [
            "# Existe relação entre estudar mais e tirar notas maiores?\n",
            "\n",
            "Sim, dá pra perceber que quem estuda mais tende a tirar notas melhores.\n",
            "A correlação entre as horas de estudo e a nota final foi forte e positiva,\n",
            "o que mostra que o esforço realmente compensa. É aquele famoso: quanto mais você se dedica, mais resultado aparece.\n",
            "Isso me fez lembrar como às vezes a gente subestima o poder de uma rotina de estudos bem feita.\n",
            "\n",
            "\n",
            "# A idade influencia no desempenho?\n",
            "\n",
            "Nesse caso, a idade não teve muito impacto. A correlação foi fraca e quase sem peso,\n",
            " ou seja, ser mais novo ou mais velho não influenciou tanto nas notas.\n",
            " Isso mostra que o que realmente faz a diferença não é a idade,\n",
            " mas sim o quanto cada um se dedica e isso é até motivador, porque coloca todos em pé de igualdade.\n"
          ]
        }
      ]
    },
    {
      "cell_type": "code",
      "source": [
        "# Há mais estudantes acima do Q3 em nota ou em horas de estudo? O que isso pode indicar?\n",
        "\n",
        "# Calcular os Q3 (terceiro quartil)\n",
        "q3_nota = df_escola[\"Nota_Final\"].quantile(0.75)\n",
        "q3_estudo = df_escola[\"horas_estudo\"].quantile(0.75)\n",
        "\n",
        "# Contar quantos alunos estão acima de cada Q3\n",
        "acima_q3_nota = df_escola[df_escola[\"Nota_Final\"] > q3_nota].shape[0]\n",
        "acima_q3_estudo = df_escola[df_escola[\"horas_estudo\"] > q3_estudo].shape[0]\n",
        "\n",
        "print(f\"Há mais estudantes acima do Q3 em nota ou em horas de estudo?\\n\")\n",
        "print(f\"Alunos acima do Q3 em nota final: {acima_q3_nota}\")\n",
        "print(f\"Alunos acima do Q3 em horas de estudo: {acima_q3_estudo}\")\n",
        "print(f\"\\nO que isso pode indicar?\")\n",
        "print(f\"\\nIsso pode sugerir que alguns têm facilidade natural, ou que estão estudando pouco, mas com foco. \\nTambém pode significar que nem sempre quantidade é tudo — organização, revisão, e técnicas como mapas mentais podem fazer total diferença.\")"
      ],
      "metadata": {
        "colab": {
          "base_uri": "https://localhost:8080/"
        },
        "id": "Fq4HFUA7Qklj",
        "outputId": "6b537dde-b773-46a8-ceab-bf845484d761"
      },
      "execution_count": null,
      "outputs": [
        {
          "output_type": "stream",
          "name": "stdout",
          "text": [
            "Há mais estudantes acima do Q3 em nota ou em horas de estudo?\n",
            "\n",
            "Alunos acima do Q3 em nota final: 3\n",
            "Alunos acima do Q3 em horas de estudo: 2\n",
            "\n",
            "O que isso pode indicar?\n",
            "\n",
            "Isso pode sugerir que alguns têm facilidade natural, ou que estão estudando pouco, mas com foco. \n",
            "Também pode significar que nem sempre quantidade é tudo — organização, revisão, e técnicas como mapas mentais podem fazer total diferença.\n"
          ]
        }
      ]
    },
    {
      "cell_type": "code",
      "source": [
        "#  Se você fosse fazer uma intervenção para melhorar o desempenho, focaria em aumentar horas de estudo ou entender melhor os perfis por idade? Justifique com base nos dados\n",
        "print(f'Pelos dados, ficou claro pra mim que estudar mais tem impacto direto nas notas. A relação entre horas de estudo e desempenho foi forte, então faz sentido focar nisso.\\nJá a idade praticamente não influenciou. Ou seja, não vale tanto a pena gastar energia tentando entender os perfis por faixa etária.\\nAlém disso, incentivar mais estudo é algo viável e rápido de aplicar, com técnicas simples como Pomodoro, revisão ativa, e planos de estudo personalizados.')\n",
        "print(f'\\nSe eu quero melhorar o desempenho da turma, vou mexer no que realmente influencia: o tempo e a qualidade do estudo.\\nEntender o perfil por idade é legal pra personalizar o ensino a longo prazo,\\nmas se o objetivo é ver nota subindo agora, o foco precisa ser no hábito de estudo.')"
      ],
      "metadata": {
        "colab": {
          "base_uri": "https://localhost:8080/"
        },
        "id": "y3G9YANwKZvx",
        "outputId": "d4f7bd1b-10b8-4489-d322-605b2aa1337b"
      },
      "execution_count": null,
      "outputs": [
        {
          "output_type": "stream",
          "name": "stdout",
          "text": [
            "Pelos dados, ficou claro pra mim que estudar mais tem impacto direto nas notas. A relação entre horas de estudo e desempenho foi forte, então faz sentido focar nisso.\n",
            "Já a idade praticamente não influenciou. Ou seja, não vale tanto a pena gastar energia tentando entender os perfis por faixa etária.\n",
            "Além disso, incentivar mais estudo é algo viável e rápido de aplicar, com técnicas simples como Pomodoro, revisão ativa, e planos de estudo personalizados.\n",
            "\n",
            "Se eu quero melhorar o desempenho da turma, vou mexer no que realmente influencia: o tempo e a qualidade do estudo.\n",
            "Entender o perfil por idade é legal pra personalizar o ensino a longo prazo,\n",
            "mas se o objetivo é ver nota subindo agora, o foco precisa ser no hábito de estudo.\n"
          ]
        }
      ]
    }
  ],
  "metadata": {
    "colab": {
      "provenance": []
    },
    "kernelspec": {
      "display_name": "Python 3",
      "name": "python3"
    }
  },
  "nbformat": 4,
  "nbformat_minor": 0
}