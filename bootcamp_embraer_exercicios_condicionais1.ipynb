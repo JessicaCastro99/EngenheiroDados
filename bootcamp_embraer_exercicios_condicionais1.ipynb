{
  "nbformat": 4,
  "nbformat_minor": 0,
  "metadata": {
    "colab": {
      "provenance": [],
      "include_colab_link": true
    },
    "kernelspec": {
      "name": "python3",
      "display_name": "Python 3"
    },
    "language_info": {
      "name": "python"
    }
  },
  "cells": [
    {
      "cell_type": "markdown",
      "metadata": {
        "id": "view-in-github",
        "colab_type": "text"
      },
      "source": [
        "<a href=\"https://colab.research.google.com/github/JessicaCastro99/EngenheiroDados/blob/exercicios_condicionais/bootcamp_embraer_exercicios_condicionais1.ipynb\" target=\"_parent\"><img src=\"https://colab.research.google.com/assets/colab-badge.svg\" alt=\"Open In Colab\"/></a>"
      ]
    },
    {
      "cell_type": "code",
      "execution_count": 1,
      "metadata": {
        "colab": {
          "base_uri": "https://localhost:8080/"
        },
        "id": "1X4cKT5E3Jwo",
        "outputId": "75bb3c74-0740-4df3-a5a5-5dd1f8461f25"
      },
      "outputs": [
        {
          "output_type": "stream",
          "name": "stdout",
          "text": [
            "Informe a sua idade: 21\n",
            "\n",
            "Parabéns!!!\n",
            "Você tem 21 anos e já pode tirar a sua habilitação!\n"
          ]
        }
      ],
      "source": [
        "'''\n",
        "1. Verificação de idade para habilitação\n",
        "\n",
        "Escreva um programa que pergunte a idade de uma pessoa e informe se\n",
        "ela pode ou não tirar carteira de motorista (idade mínima: 18 anos).\n",
        "'''\n",
        "# Informe a sua a idade\n",
        "idade = int(input('Informe a sua idade: '))\n",
        "\n",
        "# verifica se a pessoa é maior que 18 anos\n",
        "if idade > 18:\n",
        "# Caso a idade seja maior que 18 anos\n",
        "  print(f'\\nParabéns!!!\\nVocê tem {idade} anos e já pode tirar a sua habilitação!')\n",
        "# Caso a idade seja menos que 18 anos\n",
        "else:\n",
        "# calcula quanto tempo falta para 18 anos\n",
        "  faltante = 18 - idade\n",
        "  print(f'\\nInfelizmente você tem {idade} anos e ainda falta {faltante} anos'\n",
        "          '\\npara completar a idade necessaria para tirar a sua habilitação!')"
      ]
    },
    {
      "cell_type": "code",
      "source": [
        "'''\n",
        "2. Verificar se uma loja dá desconto\n",
        "\n",
        "Pergunte o valor total da compra e verifique se ela é maior que\n",
        "R$100. Se for, aplique 10% de desconto e mostre o valor final.\n",
        "Caso contrário, informe que não há desconto.\n",
        "'''\n",
        "\n",
        "# Verificar se uma loja dá desconto\n",
        "\n",
        "# Pergunte o valor total da compra\n",
        "valor_total = float(input('Qual o valor da sua compra: R$ '))\n",
        "\n",
        "# verifique se ela é maior que R$100\n",
        "if valor_total > 100.00:\n",
        "# aplica o desconto\n",
        "  valor_final = valor_total - (valor_total * 0.10)\n",
        "# calcula o desconto\n",
        "  desconto = valor_total - valor_final\n",
        "# imprimi o valor total a pagar\n",
        "  print(f'\\nO valor da sua compra é R$ {valor_total} reais e você teve um '\n",
        "        f'\\ndesconto de R$ {desconto} reais, sendo o valor a pagar {valor_final} reais.')\n",
        "# Caso contrário, informe que não há desconto\n",
        "else:\n",
        "  print(f'O valor da sua compra é R$ {valor_total} reais e você não tem desconto nesta \\n'\n",
        "          'com compra!')"
      ],
      "metadata": {
        "colab": {
          "base_uri": "https://localhost:8080/"
        },
        "id": "cFCwvYmU3e9w",
        "outputId": "1812f418-1269-4e2c-88c7-49344e40f008"
      },
      "execution_count": 2,
      "outputs": [
        {
          "output_type": "stream",
          "name": "stdout",
          "text": [
            "Qual o valor da sua compra: R$ 200\n",
            "\n",
            "O valor da sua compra é R$ 200.0 reais e você teve um \n",
            "desconto de R$ 20.0 reais, sendo o valor a pagar 180.0 reais.\n"
          ]
        }
      ]
    },
    {
      "cell_type": "code",
      "source": [
        "'''\n",
        "3. Descobrir se um número é par ou ímpar\n",
        "\n",
        "Pergunte um número ao usuário e informe se ele é par ou ímpar.\n",
        "'''\n",
        "# Pergunte um número ao usuário\n",
        "numero = int(input('informe um número: '))\n",
        "# Descobrir se um número é par ou ímpar\n",
        "if numero % 2 == 0:\n",
        "  print(f'O número {numero} é par!')\n",
        "# informe se ele é par ou ímpar.\n",
        "else:\n",
        "  print(f'O número {numero} é ímpar!')\n"
      ],
      "metadata": {
        "colab": {
          "base_uri": "https://localhost:8080/"
        },
        "id": "QcEg8Hec300S",
        "outputId": "361d03d9-bfb3-4a3f-c448-8192c6be3845"
      },
      "execution_count": 3,
      "outputs": [
        {
          "output_type": "stream",
          "name": "stdout",
          "text": [
            "informe um número: 2\n",
            "O número 2 é par!\n"
          ]
        }
      ]
    },
    {
      "cell_type": "code",
      "source": [
        "'''\n",
        "4. Verificar categoria de um atleta\n",
        "\n",
        "Pergunte a idade de um atleta e classifique-o nas categorias: Infantil\n",
        "(até 12 anos), Juvenil (13 a 17 anos) ou Adulto (18 anos ou mais).\n",
        "'''\n",
        "\n",
        "# classifique-o nas categorias:\n",
        "def categoria():\n",
        "# Pergunte a idade de um atleta\n",
        "  idade = int(input('Iforme a sua idade: '))\n",
        "\n",
        "# Infantil (até 12 anos)\n",
        "  if idade >= 0 and idade <= 12:\n",
        "    print(f'A categoria do atleta é : \"Infantil\"')\n",
        "# Juvenil (13 a 17 anos)\n",
        "  elif idade > 12 and idade <= 17:\n",
        "    print(f'A categoria do atleta é : \"Juvenil\"')\n",
        "# ou Adulto (18 anos ou mais)\n",
        "  else:\n",
        "    print(f'A categoria do atleta é : \"Adulto\"')\n",
        "\n",
        "# Verificar categoria de um atleta\n",
        "\n",
        "categoria()\n"
      ],
      "metadata": {
        "colab": {
          "base_uri": "https://localhost:8080/"
        },
        "id": "IgZhqka83_gj",
        "outputId": "21269135-7766-41e3-bec2-e3bd8af0c461"
      },
      "execution_count": 4,
      "outputs": [
        {
          "output_type": "stream",
          "name": "stdout",
          "text": [
            "Iforme a sua idade: 3\n",
            "A categoria do atleta é : \"Infantil\"\n"
          ]
        }
      ]
    },
    {
      "cell_type": "code",
      "source": [
        "'''\n",
        "5. Classificação de temperatura\n",
        "\n",
        "Pergunte a temperatura em graus Celsius e classifique:\n",
        "\n",
        "Menor que 15°C: Frio\n",
        "Entre 15°C e 25°C: Agradável\n",
        "Maior que 25°C: Quente\n",
        "'''\n",
        "\n",
        "# Pergunte a temperatura em graus Celsius e classifique:\n",
        "\n",
        "def temperatura():\n",
        "  temperatura_usuario = int(input('Me informe a sua temperatura em graus Celsius: '))\n",
        "# Menor que 15°C: Frio\n",
        "  if temperatura_usuario < 15:\n",
        "    print(f'Nossa que frio a sua temperatura é {temperatura_usuario}°!')\n",
        "# Entre 15°C e 25°C: Agradável\n",
        "  elif temperatura_usuario >= 15 and temperatura_usuario <=24:\n",
        "    print(f'A sua temperatura é {temperatura_usuario}° é bem agradavel!')\n",
        "# Maior que 25°C: Quente\n",
        "  else:\n",
        "    print(f'Sua temperatura é {temperatura_usuario}°, nossa que quente!!!')\n",
        "\n",
        "temperatura()"
      ],
      "metadata": {
        "colab": {
          "base_uri": "https://localhost:8080/"
        },
        "id": "9OY0w6d742Bw",
        "outputId": "686180a7-b16e-418e-a099-98f71d3fcebe"
      },
      "execution_count": 5,
      "outputs": [
        {
          "output_type": "stream",
          "name": "stdout",
          "text": [
            "Me informe a sua temperatura em graus Celsius: 21\n",
            "A sua temperatura é 21° é bem agradavel!\n"
          ]
        }
      ]
    },
    {
      "cell_type": "code",
      "source": [
        "from ast import main\n",
        "'''\n",
        "6. Calcular preço do transporte\n",
        "\n",
        "Pergunte a distância da viagem e calcule o preço do transporte:\n",
        "\n",
        "Até 100 km: R$0,50 por km.\n",
        "Acima de 100 km: R$0,35 por km.\n",
        "'''\n",
        "\n",
        "# Calcular preço do transporte\n",
        "\n",
        "def calcula_preco():\n",
        "# Pergunte a distância da viagem\n",
        "  distancia = float(input('Informe a distancua da sua viagem: '))\n",
        "# calcule o preço do transporte:\n",
        "# Até 100 km: R$0,50 por km.\n",
        "  if distancia >= 100:\n",
        "    valor_pagar = round(distancia * 0.50,2)\n",
        "    print(f'O valor a pagar é R$ {valor_pagar} reais!')\n",
        "\n",
        "# Acima de 100 km: R$0,35 por km.\n",
        "  else:\n",
        "    valor_pagar = round(distancia * 0.35,2)\n",
        "    print(f'O valor a pagar é R$ {valor_pagar}')\n",
        "\n",
        "# executando o main\n",
        "if __name__ == \"__main__\":\n",
        "  calcula_preco()"
      ],
      "metadata": {
        "colab": {
          "base_uri": "https://localhost:8080/"
        },
        "id": "RJc3wFvM5Is6",
        "outputId": "4483c164-79a1-4e35-a754-d97f915196e7"
      },
      "execution_count": 6,
      "outputs": [
        {
          "output_type": "stream",
          "name": "stdout",
          "text": [
            "Informe a distancua da sua viagem: 25\n",
            "O valor a pagar é R$ 8.75\n"
          ]
        }
      ]
    },
    {
      "cell_type": "code",
      "source": [
        "'''\n",
        "7 - Validação de horário de funcionamento\n",
        "Escreva um programa que pergunte a hora atual (em formato 24h) e informe se um estabelecimento está aberto.\n",
        "Horário de funcionamento: das 8h às 18h.\n",
        "'''\n",
        "def validando_horario():\n",
        "# pergunte a hora atual (em formato 24h)\n",
        "  hora_user = int(input('Informe seu horário atual: '))\n",
        "\n",
        "# Horário de funcionamento: das 8h às 18h.\n",
        "  if hora_user >= 8 and hora_user <= 18:\n",
        "    print(f'\\nO horário de funcionamento: das 8h às 18h!\\n'\n",
        "          'Neste momento ele se encontra ABERTO!!!')\n",
        "  else:\n",
        "    print(f'Agora é {hora_user}h, neste caso o estabelecimento esta fechado, \\n'\n",
        "    'o horário de funcionamento é das 8h às 18h.')\n",
        "\n",
        "if __name__ == '__main__':\n",
        "  validando_horario()"
      ],
      "metadata": {
        "colab": {
          "base_uri": "https://localhost:8080/"
        },
        "id": "cFl0tol466fs",
        "outputId": "07fd59d3-e117-45a2-cb2b-2fb62371661b"
      },
      "execution_count": 7,
      "outputs": [
        {
          "output_type": "stream",
          "name": "stdout",
          "text": [
            "Informe seu horário atual: 12\n",
            "\n",
            "O horário de funcionamento: das 8h às 18h!\n",
            "Neste momento ele se encontra ABERTO!!!\n"
          ]
        }
      ]
    },
    {
      "cell_type": "code",
      "source": [
        "'''\n",
        "8 - Determinar o tipo de triângulo\n",
        "\n",
        "Peça ao usuário para digitar os comprimentos de três lados e\n",
        "determine se eles formam um triângulo equilátero, isósceles ou escaleno.\n",
        "'''\n",
        "\n",
        "# Peça ao usuário para digitar os comprimentos de três lados\n",
        "lados = []\n",
        "while len(lados) < 3:\n",
        "  try:\n",
        "    lados_user = float(input('Digite o comprimento do lado: '))\n",
        "    lados.append(lados_user)\n",
        "  except:\n",
        "    print(f'Digite um número válido!')\n",
        "\n",
        "# a + b > c\tRegra do triângulo (a soma de dois lados deve ser maior que o terceiro)\n",
        "a, b, c = lados\n",
        "\n",
        "# 3. Verifica se forma um triângulo (regra da desigualdade)\n",
        "\n",
        "if a + b > c and a + c > b and b + c > a:\n",
        "  if a == b == c:\n",
        "    print(f'Todos os lados são iguais, então é EQUILÁTERO!')\n",
        "  elif a != b or a != c or b != c:\n",
        "    print(f'Pelo menos 2 lados são iguais, então é ISÓSCELES!')\n",
        "  else:\n",
        "    print(f'Todos os lados são diferentes, então é ESCALENO!')\n",
        "else:\n",
        "  print('Os valores informados não formam um triangulo!')\n"
      ],
      "metadata": {
        "colab": {
          "base_uri": "https://localhost:8080/"
        },
        "id": "6wowOeJb7ZP_",
        "outputId": "68db703b-dc7d-4399-d010-1f76b88a5a62"
      },
      "execution_count": 8,
      "outputs": [
        {
          "output_type": "stream",
          "name": "stdout",
          "text": [
            "Digite o comprimento do lado: 2\n",
            "Digite o comprimento do lado: 2\n",
            "Digite o comprimento do lado: 1\n",
            "Pelo menos 2 lados são iguais, então é ISÓSCELES!\n"
          ]
        }
      ]
    },
    {
      "cell_type": "code",
      "source": [
        "'''\n",
        "9 - Verificar dias de multa na devolução de um livro\n",
        "\n",
        "Pergunte ao usuário a data de devolução e a data prevista (em dias) e informe:\n",
        "\n",
        "Se devolvido antes ou na data: \"Devolução sem multa\".\n",
        "Se devolvido após a data, calcule a multa de R$2,00 por dia de atraso.\n",
        "'''\n",
        "from datetime import datetime\n",
        "# Pergunte ao usuário a data de devolução e a data prevista (em dias) e informe:\n",
        "def pergunte_data():\n",
        "  dt_devolucao_str = input('Informe a data de devolução: ')\n",
        "  dt_prevista_str = input('Qual era a data prevista? ')\n",
        "\n",
        "  dt_devolucao = datetime.strptime(dt_devolucao_str, '%d/%m/%Y'\n",
        "  )\n",
        "  dt_prevista = datetime.strptime(dt_prevista_str, '%d/%m/%Y')\n",
        "\n",
        "#  Verificar dias de multa na devolução de um livro\n",
        "\n",
        "# Se devolvido após a data, calcule a multa de R$2,00 por dia de atraso.\n",
        "  if dt_devolucao > dt_prevista:\n",
        "    qnt_dias_atraso = (dt_devolucao - dt_prevista).days\n",
        "    valor_multa = qnt_dias_atraso * 2.00\n",
        "    print(f'Você atrasou {qnt_dias_atraso} e irá pagar R$ {valor_multa} reais!')\n",
        "\n",
        "# Se devolvido antes ou na data: \"Devolução sem multa\".\n",
        "  else:\n",
        "    print(f'Parabéns, você entregou antes do prazo!')\n",
        "\n",
        "if __name__ == '__main__':\n",
        "  pergunte_data()"
      ],
      "metadata": {
        "id": "g6LJSk1r7q4Y",
        "colab": {
          "base_uri": "https://localhost:8080/"
        },
        "outputId": "1ee12d6c-3544-47c0-9289-eb287f08e385"
      },
      "execution_count": 10,
      "outputs": [
        {
          "output_type": "stream",
          "name": "stdout",
          "text": [
            "Informe a data de devolução: 20/02/2025\n",
            "Qual era a data prevista? 10/02/2025\n",
            "Você atrasou 10 e irá pagar R$ 20.0 reais!\n"
          ]
        }
      ]
    },
    {
      "cell_type": "code",
      "source": [
        "'''\n",
        "10 - Avaliação de desempenho escolar\n",
        "\n",
        "Peça três notas de um aluno e calcule a média. Depois, informe:\n",
        "\n",
        "Média >= 7: \"Aprovado\".\n",
        "Média entre 5 e 7: \"Recuperação\".\n",
        "Média < 5: \"Reprovado\".\n",
        "'''\n",
        "\n",
        "def avaliacao_escolar():\n",
        "  notas_alunos = []\n",
        "  # Peça três notas de um aluno\n",
        "  for nota_alunos in range(3):\n",
        "    notas = int(input('Digite uma nota: '))\n",
        "    notas_alunos.append(notas)\n",
        "\n",
        "  # calcule a média\n",
        "  media = sum(notas_alunos)/3\n",
        "\n",
        "  # Média >= 7: \"Aprovado\".\n",
        "  if media >= 7:\n",
        "    print(f'Sua nota é: {media:.2f}\\nParabéns, você esta APROVADO!!!')\n",
        "  # Média entre 5 e 7: \"Recuperação\".\n",
        "  elif media < 5:\n",
        "    print(f'Sua nota é : {media:.2f}\\nVocê esta em RECUPERAÇÃO!!!')\n",
        "  # Média < 5: \"Reprovado\".\n",
        "  else:\n",
        "    print(f'Sua nota é: {media:.2f}\\nInfelizmente você esta REPROVADO!!!')\n",
        "\n",
        "if __name__ == '__main__':\n",
        "  avaliacao_escolar()"
      ],
      "metadata": {
        "colab": {
          "base_uri": "https://localhost:8080/"
        },
        "id": "B73E-key8Gyz",
        "outputId": "8c6060ac-0f11-4721-b0cb-d3a2c581e32c"
      },
      "execution_count": 24,
      "outputs": [
        {
          "output_type": "stream",
          "name": "stdout",
          "text": [
            "Digite uma nota: 1\n",
            "Digite uma nota: 1\n",
            "Digite uma nota: 2\n",
            "Sua nota é : 1.33\n",
            "Você esta em RECUPERAÇÃO!!!\n"
          ]
        }
      ]
    },
    {
      "cell_type": "code",
      "source": [
        "'''\n",
        "11 - Cálculo de taxa de estacionamento\n",
        "\n",
        "Pergunte o tempo de permanência (em horas) e calcule a taxa:\n",
        "\n",
        "Até 2 horas: R$5,00 fixo.\n",
        "De 3 a 6 horas: R$8,00 fixo.\n",
        "Acima de 6 horas: R$12,00.\n",
        "'''\n",
        "\n",
        "def taxa_estacionamento():\n",
        "\n",
        "# Pergunte o tempo de permanência (em horas) e calcule a taxa:\n",
        "  tempo_permanencia = float(input('Informe o tem que você permaneceu: '))\n",
        "\n",
        "  # Até 2 horas: R$5,00 fixo.\n",
        "  if tempo_permanencia <= 2:\n",
        "    print(f'A sua permaneça no local é de {tempo_permanencia} horas\\n'\n",
        "    'O Valor a pagar e R$ 5.00 reais!')\n",
        "  # De 3 a 6 horas: R$8,00 fixo.\n",
        "  elif tempo_permanencia in range(3,6):\n",
        "    print(f'A sua permaneça no local é de {tempo_permanencia} horas\\n'\n",
        "    'O valor a pagar é R$ 8.00 reais!')\n",
        "  # Acima de 6 horas: R$12,00.\n",
        "  else:\n",
        "    print(f'A sua permaneça no local é de {tempo_permanencia} horas\\n'\n",
        "    'Valor a pagar é de R$ 12.00 reais!')\n",
        "\n",
        "\n",
        "if __name__ == '__main__':\n",
        "  taxa_estacionamento()"
      ],
      "metadata": {
        "colab": {
          "base_uri": "https://localhost:8080/"
        },
        "id": "Puko6JwS8Wz0",
        "outputId": "8216af9e-de0f-4a71-867e-f75c9875e2b4"
      },
      "execution_count": 13,
      "outputs": [
        {
          "output_type": "stream",
          "name": "stdout",
          "text": [
            "Informe o tem que você permaneceu: 5\n",
            "A sua permaneça no local é de 5.0 horas\n",
            "O valor a pagar é R$ 8.00 reais!\n"
          ]
        }
      ]
    },
    {
      "cell_type": "code",
      "source": [
        "'''\n",
        "12 - Pergunte o consumo em kWh e calcule o valor da conta:\n",
        "\n",
        "Até 100 kWh: R$0,50 por kWh.\n",
        "De 101 a 200 kWh: R$0,70 por kWh.\n",
        "Acima de 200 kWh: R$1,00 por kWh.\n",
        "'''\n",
        "\n",
        "def consumo_kwh():\n",
        "# Pergunte o consumo em kWh e calcule o valor da conta:\n",
        "  consumo = float(input('Informe o consumo em KWH: '))\n",
        "# Até 100 kWh: R$0,50 por kWh.\n",
        "  if consumo < 100:\n",
        "    valor_pagar = consumo * 0.50\n",
        "    print(f'O valor a pagar é R$ {valor_pagar:.2} reais!')\n",
        "\n",
        "# De 101 a 200 kWh: R$0,70 por kWh.\n",
        "  elif consumo > 101 and consumo < 200:\n",
        "    valor_pagar = consumo * 0.70\n",
        "    print(f'O valor a pagar é R$ {round(valor_pagar, 2)} reais!')\n",
        "\n",
        "# Acima de 200 kWh: R$1,00 por kWh.\n",
        "  elif consumo > 200:\n",
        "    valor_pagar = consumo * 1.00\n",
        "    print(f'O valor a pagar é R$ {round(valor_pagar, 2)} reais!')\n",
        "\n",
        "if __name__ == '__main__':\n",
        "  consumo_kwh()"
      ],
      "metadata": {
        "colab": {
          "base_uri": "https://localhost:8080/"
        },
        "id": "HWqAOGNo8pN2",
        "outputId": "e0f3771f-02da-4688-c58e-e51fd4ca36df"
      },
      "execution_count": 46,
      "outputs": [
        {
          "output_type": "stream",
          "name": "stdout",
          "text": [
            "Informe o consumo em KWH: 205\n",
            "O valor a pagar é R$ 205.0 reais!\n"
          ]
        }
      ]
    },
    {
      "cell_type": "code",
      "source": [
        "'''\n",
        "13 - Verificação de maioridade\n",
        "\n",
        "Pergunte a idade de uma pessoa e informe se ela é menor de idade, maior de idade ou idosa.\n",
        "\n",
        "Menor de 18 anos: \"Menor de idade\".\n",
        "Entre 18 e 59 anos: \"Maior de idade\".\n",
        "A partir de 60 anos: \"Idoso\".\n",
        "'''\n",
        "\n",
        "def verificacao_maioridade():\n",
        "# Pergunte a idade de uma pessoa e informe se ela é menor de idade, maior de idade ou idosa.\n",
        "  idade = int(input('Me informe a sua idade: '))\n",
        "\n",
        "# Menor de 18 anos: \"Menor de idade\".\n",
        "  if idade < 18:\n",
        "    print(f'Menor de idade!')\n",
        "# Entre 18 e 59 anos: \"Maior de idade\".\n",
        "  elif idade in range(18, 59):\n",
        "    print('Maior de idade!')\n",
        "# A partir de 60 anos: \"Idoso\".\n",
        "  else:\n",
        "    print(f'Idoso!')\n",
        "\n",
        "if __name__ == '__main__':\n",
        "  verificacao_maioridade()"
      ],
      "metadata": {
        "colab": {
          "base_uri": "https://localhost:8080/"
        },
        "id": "t5J_xE_H9vfl",
        "outputId": "16bfaaec-d1c8-45c8-bcd2-953ece725259"
      },
      "execution_count": 19,
      "outputs": [
        {
          "output_type": "stream",
          "name": "stdout",
          "text": [
            "Me informe a sua idade: 67\n",
            "Idoso!\n"
          ]
        }
      ]
    },
    {
      "cell_type": "code",
      "source": [
        "'''\n",
        "14 - Avaliação de estoque\n",
        "\n",
        "Peça ao usuário o número de unidades de um produto no estoque e informe:\n",
        "\n",
        "Estoque menor que 10: \"Reposição urgente necessária\".\n",
        "Estoque entre 10 e 20: \"Estoque baixo, considere repor\".\n",
        "Estoque maior que 20: \"Estoque suficiente\".\n",
        "'''\n",
        "\n",
        "def avaliacao_estoque():\n",
        "\n",
        "# Peça ao usuário o número de unidades de um produto no estoque e informe:\n",
        "  qnt_produto = int(input('Me informe o quantidade no produto no estoque: '))\n",
        "\n",
        "# Estoque menor que 10: \"Reposição urgente necessária\".\n",
        "  if qnt_produto < 10:\n",
        "    print(f'Reposição urgente necessária!')\n",
        "# Estoque entre 10 e 20: \"Estoque baixo, considere repor\".\n",
        "  elif qnt_produto in range(10,20):\n",
        "    print(f'Estoque baixo, considere repor!')\n",
        "# Estoque maior que 20: \"Estoque suficiente\".\n",
        "  else:\n",
        "    print(f'Estoque suficiente!')\n",
        "\n",
        "if __name__ == '__main__':\n",
        "  avaliacao_estoque()"
      ],
      "metadata": {
        "id": "wSLhJYX79__V",
        "colab": {
          "base_uri": "https://localhost:8080/"
        },
        "outputId": "9dc680e4-392f-494e-99fe-b6b1739c7f40"
      },
      "execution_count": 35,
      "outputs": [
        {
          "output_type": "stream",
          "name": "stdout",
          "text": [
            "Me informe o quantidade no produto no estoque: 13\n",
            "Estoque baixo, considere repor!\n"
          ]
        }
      ]
    },
    {
      "cell_type": "code",
      "source": [
        "'''\n",
        "15 - Verificação de elegibilidade para doação de sangue\n",
        "\n",
        "Pergunte a idade de uma pessoa e informe se ela pode doar sangue.\n",
        "\n",
        "Idade entre 18 e 69 anos: \"Apto para doar sangue\".\n",
        "Fora dessa faixa: \"Não apto para doar sangue\".\n",
        "'''\n",
        "\n",
        "def verificacao_elegibilidade():\n",
        "\n",
        "# Pergunte a idade de uma pessoa e informe se ela pode doar sangue.\n",
        "  idade = int(input('Me informe a sua idade: '))\n",
        "\n",
        "# Idade entre 18 e 69 anos: \"Apto para doar sangue\".\n",
        "  if idade in range(18, 69):\n",
        "    print(f'Apto para doar sangue!')\n",
        "# Fora dessa faixa: \"Não apto para doar sangue\".\n",
        "  else:\n",
        "    print(f'Não apto para doar sangue!')\n",
        "\n",
        "if __name__ == '__main__':\n",
        "  verificacao_elegibilidade()\n"
      ],
      "metadata": {
        "id": "wY5Dfoov-QcP",
        "colab": {
          "base_uri": "https://localhost:8080/"
        },
        "outputId": "c4192a0c-a36f-47cb-caff-e9399ca8cb77"
      },
      "execution_count": 31,
      "outputs": [
        {
          "output_type": "stream",
          "name": "stdout",
          "text": [
            "Me informe a sua idade: 55\n",
            "Apto para doar sangue!\n"
          ]
        }
      ]
    },
    {
      "cell_type": "code",
      "source": [
        "'''\n",
        "16 - Verificação de faixa de velocidade\n",
        "\n",
        "Pergunte a velocidade de um veículo e informe:\n",
        "\n",
        "Até 40 km/h: \"Velocidade segura\".\n",
        "Entre 41 e 80 km/h: \"Velocidade moderada\".\n",
        "Acima de 80 km/h: \"Velocidade perigosa\".\n",
        "'''\n",
        "\n",
        "def verificacao_velocidade():\n",
        "\n",
        "# Pergunte a velocidade de um veículo e informe:\n",
        "  velocidade = float(input('Me informe a sua velocidade: '))\n",
        "\n",
        "# Até 40 km/h: \"Velocidade segura\".\n",
        "  if velocidade < 40:\n",
        "    print(f'Velocidade segura!')\n",
        "# Entre 41 e 80 km/h: \"Velocidade moderada\".\n",
        "  elif velocidade in range(41, 80):\n",
        "    print(f'velocidade moderada!')\n",
        "# Acima de 80 km/h: \"Velocidade perigosa\"\n",
        "  else:\n",
        "    print(f'velocidade perigosa!')\n",
        "\n",
        "if __name__ == '__main__':\n",
        "  verificacao_velocidade()"
      ],
      "metadata": {
        "colab": {
          "base_uri": "https://localhost:8080/"
        },
        "id": "_pCfzHGW-ehg",
        "outputId": "71af020c-b191-403a-c820-66eb605540cd"
      },
      "execution_count": 23,
      "outputs": [
        {
          "output_type": "stream",
          "name": "stdout",
          "text": [
            "Me informe a sua velocidade: 2\n",
            "Velocidade segura!\n"
          ]
        }
      ]
    },
    {
      "cell_type": "code",
      "source": [
        "'''\n",
        "18 - Cálculo da mensalidade de academia\n",
        "\n",
        "Uma academia tem planos baseados na faixa etária e no horário de treino:\n",
        "\n",
        "Idade até 18 anos:\n",
        "  Horário comum (6h às 18h): R$50/mês.\n",
        "  Horário estendido (18h às 22h): R$60/mês.\n",
        "Idade entre 19 e 59 anos:\n",
        "  Horário comum: R$80/mês.\n",
        "  Horário estendido: R$100/mês.\n",
        "Idade acima de 60 anos:\n",
        "  Horário comum: R$40/mês.\n",
        "  Horário estendido: R$50/mês.\n",
        "'''\n",
        "\n",
        "def calculo_mensalidade_academia():\n",
        "  idade =int(input('Qual é a sua idade: '))\n",
        "  horario = float(input('Me informe o horário que você irá na academia: '))\n",
        "#   Idade até 18 anos:\n",
        "  if idade <= 18:\n",
        "#   Horário comum (6h às 18h): R$50/mês.\n",
        "    if horario in range(6, 18):\n",
        "      print(f'A mensalidade por mês é R$50/mês!')\n",
        "    else:\n",
        "# Horário estendido (18h às 22h): R$60/mês.\n",
        "      print(f'Horário estendido (18h às 22h): R$60/mês.')\n",
        "\n",
        "# Idade entre 19 e 59 anos:\n",
        "  elif idade in range(19,59):\n",
        "#   Horário comum: R$80/mês.\n",
        "    if horario in range(6,18):\n",
        "      print(f'A mensalidade e de R$80/mês.')\n",
        "#   Horário estendido: R$100/mês.\n",
        "    else:\n",
        "      print(f'A mensalidade é de R$100/mês!')\n",
        "\n",
        "# Idade acima de 60 anos:\n",
        "  elif idade > 60:\n",
        "#   Horário comum: R$40/mês.\n",
        "    if horario in range(6,18):\n",
        "      print(f'A mensalidade é R$ 40,00 reais por mês!')\n",
        "#   Horário estendido: R$50/mês.\n",
        "    else:\n",
        "      print(f'O Valor da mensalidade e de R$ 50,00 reais por mês!')\n",
        "\n",
        "if __name__ == '__main__':\n",
        "  calculo_mensalidade_academia()"
      ],
      "metadata": {
        "colab": {
          "base_uri": "https://localhost:8080/"
        },
        "id": "Gn2Try2s_zT3",
        "outputId": "82135910-576c-423a-df5f-ed6ab3399efc"
      },
      "execution_count": 8,
      "outputs": [
        {
          "output_type": "stream",
          "name": "stdout",
          "text": [
            "Qual é a sua idade: 66\n",
            "Me informe o horário que você irá na academia: 23\n",
            "O Valor da mensalidade e de R$ 50,00 reais por mês!\n"
          ]
        }
      ]
    },
    {
      "cell_type": "code",
      "source": [
        "'''\n",
        "19 - Sistema de notas escolares com bônus por frequência\n",
        "\n",
        "Um sistema deve calcular a média final de um aluno e incluir um bônus por frequência:\n",
        "\n",
        "Pergunte 3 notas do aluno e sua frequência (%).\n",
        "Regras:\n",
        "  Média >= 7.0 e frequência >= 75%: \"Aprovado\".\n",
        "  Média >= 5.0 e frequência >= 75%: \"Recuperação\".\n",
        "  Média < 5.0 ou frequência < 75%: \"Reprovado\".\n",
        "  Se a frequência for maior que 90%, adicione +0.5 na média final.\n",
        "'''\n",
        "\n",
        "#  Sistema de notas escolares com bônus por frequência\n",
        "def sistema_notas_escolares():\n",
        "  # Pergunte 3 notas do aluno\n",
        "  notas = []\n",
        "\n",
        "  for nota in range(3):\n",
        "    nota_aluno = float(input('Me informe a sua nota: '))\n",
        "    notas.append(nota_aluno)\n",
        "\n",
        "  media = sum(notas)/3\n",
        "  print(f'A média da sua nota é: {media:.2f}')\n",
        "\n",
        "  print('\\n')\n",
        "\n",
        "  # Pergunte sua frequência (%).\n",
        "  freq_aluno = float(input('Me informe a sua frenquência: de 10 a 100%: '))\n",
        "\n",
        "  # Se a frequência for maior que 90%, adicione +0.5 na média final.\n",
        "  if freq_aluno > 90:\n",
        "    media_final = media + 0.50\n",
        "  else:\n",
        "    media_final = media\n",
        "\n",
        "  # Média >= 7.0 e frequência >= 75%: \"Aprovado\".\n",
        "  if media_final >= 7:\n",
        "    if freq_aluno >= 75:\n",
        "      print(f'\\nSua media é: {media_final:.2}\\n'\n",
        "      f'Sua frequência é: {freq_aluno}\\n\\n'\n",
        "      'Você está \"APROVADO!!\"')\n",
        "  # Média >= 5.0 e frequência >= 75%: \"Recuperação\".\n",
        "  elif media_final >= 5:\n",
        "     if freq_aluno >= 75:\n",
        "       print(f'\\nSua média é: {media_final:.2}\\n'\n",
        "       f'Sua frequencia é: {freq_aluno}\\n'\n",
        "       'Você está de \"RECUPERAÇÃO!\"')\n",
        "  # Média < 5.0 ou frequência < 75%: \"Reprovado\".\n",
        "  else:\n",
        "    print(f'\\nSua média é: {media_final:.2}\\n'\n",
        "    f'Sua frequencia é: {freq_aluno}\\n'\n",
        "    'Neste caso você esta \"REPROVADO\"')\n",
        "  # Se a frequência for maior que 90%, adicione +0.5 na média final.\n",
        "\n",
        "\n",
        "if __name__ == '__main__':\n",
        "  sistema_notas_escolares()"
      ],
      "metadata": {
        "colab": {
          "base_uri": "https://localhost:8080/"
        },
        "id": "gk4j80bqAo08",
        "outputId": "668e0355-ce92-4866-d934-759b8b244318"
      },
      "execution_count": 97,
      "outputs": [
        {
          "output_type": "stream",
          "name": "stdout",
          "text": [
            "Me informe a sua nota: 1\n",
            "Me informe a sua nota: 2\n",
            "Me informe a sua nota: 2\n",
            "A média da sua nota é: 1.67\n",
            "\n",
            "\n",
            "Me informe a sua frenquência: de 10 a 100%: 55\n",
            "\n",
            "Sua média é: 1.7\n",
            "Sua frequencia é: 55.0\n",
            "Neste caso você esta \"REPROVADO\"\n"
          ]
        }
      ]
    },
    {
      "cell_type": "code",
      "source": [
        "'''\n",
        "20 - Cálculo de tarifa de transporte público com base em idade e horário\n",
        " Um sistema de transporte público calcula tarifas com base na idade e no horário de uso:\n",
        "\n",
        "Idade até 5 anos ou acima de 65: \"Gratuito\".\n",
        "\n",
        "Idade entre 6 e 17:\n",
        "  Horário de pico (7h-9h ou 17h-19h): R$2,50.\n",
        "  Fora do horário de pico: R$1,50.\n",
        "\n",
        "Idade entre 18 e 64:\n",
        "  Horário de pico: R$5,00.\n",
        "  Fora do horário de pico: R$3,00.\n",
        "\n",
        "Pergunte a idade e o horário para calcular a tarifa.\n",
        "'''\n",
        "\n",
        "#  Um sistema de transporte público calcula tarifas com base na idade e no\n",
        "#  horário de uso:\n",
        "\n",
        "def calculo_tarifa_transporte():\n",
        "# Pergunte a idade e o horário para calcular a tarifa.\n",
        "  idade = int(input('Me informe a sua idade: '))\n",
        "\n",
        "# Idade entre 0 e 5 ou maior 64:\n",
        "  if idade <= 5 or idade >= 64:\n",
        "    print(f'Gratuito')\n",
        "\n",
        "# Idade entre 6 e 17:\n",
        "  elif idade in range(6,17):\n",
        "    horario = float(input('Agora me informe o seu horario: '))\n",
        "#   Horário de pico (7h-9h ou 17h-19h): R$2,50.\n",
        "    if horario in range(7,9) or horario in range (17,19):\n",
        "      print(f'Horário de pico R$ 2,50 reais!')\n",
        "#  Fora do horário de pico: R$2,50 reais\n",
        "    else:\n",
        "      print(f'Fora do horário de pico: R$1,50.')\n",
        "\n",
        "# Idade entre 18 e 64:\n",
        "  elif idade in range(18,64):\n",
        "    horario = float(input('Agora me informe o seu horario: '))\n",
        "#   Horário de pico: R$5,00.\n",
        "    if horario in range(7,9) or horario in range (17,19):\n",
        "      print(f'Horario de pico R$ 5,00 reais!')\n",
        "#  Fora do horário de pico: R$3,00 reais\n",
        "    else:\n",
        "      print('Fora do horário de pico: R$3,00 reais')\n",
        "\n",
        "if __name__ == '__main__':\n",
        "  calculo_tarifa_transporte()"
      ],
      "metadata": {
        "id": "nsPqX15XBXqo",
        "colab": {
          "base_uri": "https://localhost:8080/"
        },
        "outputId": "fb90a164-3921-4cd7-b560-4cf570d90060"
      },
      "execution_count": 69,
      "outputs": [
        {
          "output_type": "stream",
          "name": "stdout",
          "text": [
            "Me informe a sua idade: 19\n",
            "Agora me informe o seu horario: 6\n",
            "Fora do horário de pico: R$3,00 reais\n"
          ]
        }
      ]
    }
  ]
}